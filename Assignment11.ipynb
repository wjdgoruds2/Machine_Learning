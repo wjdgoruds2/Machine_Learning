{
  "nbformat": 4,
  "nbformat_minor": 0,
  "metadata": {
    "colab": {
      "name": "Assignment11.ipynb",
      "provenance": [],
      "collapsed_sections": [],
      "authorship_tag": "ABX9TyPhLrBIox1BoLxXNS8VDRFU",
      "include_colab_link": true
    },
    "kernelspec": {
      "name": "python3",
      "display_name": "Python 3"
    },
    "language_info": {
      "name": "python"
    }
  },
  "cells": [
    {
      "cell_type": "markdown",
      "metadata": {
        "id": "view-in-github",
        "colab_type": "text"
      },
      "source": [
        "<a href=\"https://colab.research.google.com/github/wjdgoruds2/Machine_Learning/blob/main/Assignment11.ipynb\" target=\"_parent\"><img src=\"https://colab.research.google.com/assets/colab-badge.svg\" alt=\"Open In Colab\"/></a>"
      ]
    },
    {
      "cell_type": "markdown",
      "metadata": {
        "id": "gfcGjL-QKK9X"
      },
      "source": [
        "**Convolution**"
      ]
    },
    {
      "cell_type": "code",
      "metadata": {
        "colab": {
          "base_uri": "https://localhost:8080/"
        },
        "id": "JrTeOkGjKQSH",
        "outputId": "8339d702-1a51-4e6d-82a5-b9d211168e2e"
      },
      "source": [
        "import numpy as np#벡터 행렬 연산\n",
        "def Conv2D(X,W,w0,p=(0,0),s=(1,1)):#패딩:0 스트라이드:1\n",
        "  n1=X.shape[0]+2*p[0] #패딩반영\n",
        "  n2=X.shape[1]+2*p[1] #패딩반영\n",
        "  X_p=np.zeros(shape=(n1,n2))#shape차원의 배열 생성\n",
        "  X_p[p[0]:p[0]+X.shape[0],p[1]:p[1]+X.shape[1]]=X#입력 X를 복사\n",
        "  res=[]\n",
        "  for i in range(0,int(X_p.shape[0]-W.shape[0]/s[0])+1,s[0]):#입력+2*패딩-필터/스트라이드+1\n",
        "    res.append([])\n",
        "    for j in range(0,int(X_p.shape[1]-W.shape[1]/s[1])+1,s[1]):#입력+2*패딩-필터/스트라이드+1\n",
        "      X_s=X_p[i:i+W.shape[0],j:j+W.shape[1]]#컨볼루션 영역\n",
        "      res[-1].append(np.sum(X_s*W)+w0)#컨볼루션\n",
        "  return (np.array(res))#컨볼루션 결과 반환\n",
        "\n",
        "X=np.array([[1,1,1,0,0],[0,1,1,1,0],[0,0,1,1,1],[0,0,1,1,0],[0,1,1,0,0]])#입력 영상 배열\n",
        "W=np.array([[1,0,1],[0,1,0],[1,0,1]])#필터 배열\n",
        "w0=1#가중치\n",
        "\n",
        "conv=Conv2D(X,W,w0,p=(0,0),s=(1,1))#패딩:0,스트라이드:1 컨볼루션\n",
        "print('X=',X)\n",
        "print('\\nW=',W)#입력 배열\n",
        "print('\\n컨볼루션 결과 p=(0,0),s=(1,1)\\n',conv)#패딩:0,스트라이드:1 컨볼루션 결과 출력\n",
        "conv=Conv2D(X,W,w0,p=(1,1),s=(1,1))\n",
        "print('\\n컨볼루션 결과 p=(1,1),s=(1,1)\\n',conv)#패딩:1,스트라이드:1 컨볼루션 결과 출력\n",
        "conv=Conv2D(X,W,w0,p=(1,1),s=(2,2))\n",
        "print('\\n컨볼루션 결과 p=(1,1),s=(2,2)\\n',conv)#패딩:1,스트라이드:2 컨볼루션 결과 출력\n"
      ],
      "execution_count": null,
      "outputs": [
        {
          "output_type": "stream",
          "text": [
            "X= [[1 1 1 0 0]\n",
            " [0 1 1 1 0]\n",
            " [0 0 1 1 1]\n",
            " [0 0 1 1 0]\n",
            " [0 1 1 0 0]]\n",
            "\n",
            "W= [[1 0 1]\n",
            " [0 1 0]\n",
            " [1 0 1]]\n",
            "\n",
            "컨볼루션 결과 p=(0,0),s=(1,1)\n",
            " [[5. 4. 5.]\n",
            " [3. 5. 4.]\n",
            " [3. 4. 5.]]\n",
            "\n",
            "컨볼루션 결과 p=(1,1),s=(1,1)\n",
            " [[3. 3. 4. 2. 2.]\n",
            " [2. 5. 4. 5. 2.]\n",
            " [2. 3. 5. 4. 4.]\n",
            " [2. 3. 4. 5. 2.]\n",
            " [1. 3. 3. 2. 2.]]\n",
            "\n",
            "컨볼루션 결과 p=(1,1),s=(2,2)\n",
            " [[3. 4. 2.]\n",
            " [2. 5. 4.]\n",
            " [1. 3. 2.]]\n"
          ],
          "name": "stdout"
        }
      ]
    },
    {
      "cell_type": "markdown",
      "metadata": {
        "id": "IN_0YF3LKZ-O"
      },
      "source": [
        "**Pooling**"
      ]
    },
    {
      "cell_type": "code",
      "metadata": {
        "colab": {
          "base_uri": "https://localhost:8080/"
        },
        "id": "Mq-CkmGLKdEW",
        "outputId": "331a99d2-2ab5-4563-b486-fd6867053004"
      },
      "source": [
        "import numpy as np#벡터 행렬 연산\n",
        "def maxPooling(mat,K,L):#최대값 풀링\n",
        "  M,N=mat.shape #입력 영상의 배열:M×N\n",
        "  MK=M//K #MK:M배열->K배열로\n",
        "  NL=N//L #NL:N배열->L배열로\n",
        "  pmat=mat[:MK*K,:NL*L].reshape(MK,K,NL,L).max(axis=(1,3))#4차원 MK×K×NL×L\n",
        "  return pmat #결과 값 반환\n",
        "\n",
        "mat=np.array([[20,200,-5,23], #입력 영상 배열\n",
        "              [-13,134,119,100],\n",
        "              [120,32,49,25],\n",
        "              [-120,12,9,23]])\n",
        "print(maxPooling(mat,2,2))#2×2 최대값 풀링 결과 출력\n"
      ],
      "execution_count": null,
      "outputs": [
        {
          "output_type": "stream",
          "text": [
            "[[200 119]\n",
            " [120  49]]\n"
          ],
          "name": "stdout"
        }
      ]
    },
    {
      "cell_type": "markdown",
      "metadata": {
        "id": "b6rE-Hy7Kikl"
      },
      "source": [
        "**PyTorch의 텐서-1**"
      ]
    },
    {
      "cell_type": "code",
      "metadata": {
        "colab": {
          "base_uri": "https://localhost:8080/"
        },
        "id": "NDxrJ5QjKruf",
        "outputId": "92df5db4-f473-4f7b-d9c4-c3a3753f908b"
      },
      "source": [
        "import numpy as np#벡터 행렬 연산\n",
        "import torch #pytorch사용\n",
        "\n",
        "A=torch.tensor([[1.,-1.],[1.,-1.]])#numpy배열을 tensor로 변환\n",
        "print('A=',A)#tensor로 변환된 A값\n",
        "B=torch.tensor(np.array([[1,2,3],[4,5,6]]))#numpy배열을 tensor로 변환\n",
        "print('B=',B)#tensor로 변환된 B값\n",
        "\n",
        "C=torch.rand(3,3)#3×3 배열로 0~1사이값 균등하게 생성\n",
        "print('C=',C)\n",
        "\n",
        "D=C.numpy()#C값을 numpy배열로 변환\n",
        "print('D=',D)\n",
        "\n",
        "E=B.view(1,1,2,3)#1개의 1×2배열로 변환\n",
        "print('E=',E)\n",
        "\n",
        "print('sum of A=',A.sum())#A의 합\n",
        "print('mean of A=',A.mean())#A의 평균\n"
      ],
      "execution_count": null,
      "outputs": [
        {
          "output_type": "stream",
          "text": [
            "A= tensor([[ 1., -1.],\n",
            "        [ 1., -1.]])\n",
            "B= tensor([[1, 2, 3],\n",
            "        [4, 5, 6]])\n",
            "C= tensor([[0.5109, 0.2744, 0.6618],\n",
            "        [0.6300, 0.8138, 0.4164],\n",
            "        [0.0646, 0.3456, 0.9114]])\n",
            "D= [[0.5109232  0.2743551  0.6617731 ]\n",
            " [0.6299593  0.8137728  0.41639245]\n",
            " [0.06461138 0.3456288  0.91140884]]\n",
            "E= tensor([[[[1, 2, 3],\n",
            "          [4, 5, 6]]]])\n",
            "sum of A= tensor(0.)\n",
            "mean of A= tensor(0.)\n"
          ],
          "name": "stdout"
        }
      ]
    },
    {
      "cell_type": "markdown",
      "metadata": {
        "id": "BKgpXvf1Kvr0"
      },
      "source": [
        "**PyTorch의 텐서-2**"
      ]
    },
    {
      "cell_type": "code",
      "metadata": {
        "colab": {
          "base_uri": "https://localhost:8080/"
        },
        "id": "bTlz3jDjKu1t",
        "outputId": "cc9f958d-6650-4ff1-b615-445401162a7f"
      },
      "source": [
        "import torch #pytorch사용\n",
        "from torch.autograd import Variable#자동 미분 패키지\n",
        "x=Variable(torch.tensor([[2.]]),requires_grad=True)#무작위 값을 갖는 Tensor를 생성\n",
        "print('x=',x)#x값\n",
        "print('x.data=',x.data)#Tensor값\n",
        "print('x.grad=',x.grad)#data가 거쳐온 layer에 대한 미분값이 축적되는 것\n",
        "print('x.grad_fn()=',x.grad_fn)#미분값을 계산한 함수에 대한 정보\n",
        "\n",
        "y=x*x*3#y값 연산\n",
        "print('\\ny=',y)#y값\n",
        "print('y.data=',y.data)#Tensor값\n",
        "print('y.grad=',y.grad)#data가 거쳐온 layer에 대한 미분값이 축적되는 것\n",
        "print('y.grad_fn()=',y.grad_fn)#미분값을 계산한 함수에 대한 정보\n",
        "z=y**2#z값 연산\n",
        "print('\\nz=',z)#z값\n",
        "print('z.data=',z.data)#Tensor값\n",
        "print('z.grad=',z.grad)#data가 거쳐온 layer에 대한 미분값이 축적되는 것\n",
        "z.backward()#역전파 단계\n",
        "print('\\nAfter invocation of backward()')\n",
        "print('\\nx=',x)#역전파 후 x값\n",
        "print('x.data=',x.data)#역전파 후 Tensor값\n",
        "print('x.grad=',x.grad)#역전파 후 data가 거쳐온 layer에 대한 미분값이 축적되는 것\n",
        "print('x.grad_fn()=',x.grad_fn)#역전파 후 미분값을 계산한 함수에 대한 정보\n",
        "print('\\ny=',y)#역전파 후\n",
        "print('y.data=',y.data)#역전파 후 Tensor값\n",
        "print('y.grad=',y.grad)#역전파 후 data가 거쳐온 layer에 대한 미분값이 축적되는 것\n",
        "print('y.grad_fn()=',y.grad_fn)#역전파 후 미분값을 계산한 함수에 대한 정보\n",
        "print('\\nz=',z)#역전파 후\n",
        "print('z.data=',z.data)#역전파 후 Tensor값\n",
        "print('z.grad=',z.grad)#역전파 후data가 거쳐온 layer에 대한 미분값이 축적되는 것\n"
      ],
      "execution_count": null,
      "outputs": [
        {
          "output_type": "stream",
          "text": [
            "x= tensor([[2.]], requires_grad=True)\n",
            "x.data= tensor([[2.]])\n",
            "x.grad= None\n",
            "x.grad_fn()= None\n",
            "\n",
            "y= tensor([[12.]], grad_fn=<MulBackward0>)\n",
            "y.data= tensor([[12.]])\n",
            "y.grad= None\n",
            "y.grad_fn()= <MulBackward0 object at 0x7f9f789d6410>\n",
            "\n",
            "z= tensor([[144.]], grad_fn=<PowBackward0>)\n",
            "z.data= tensor([[144.]])\n",
            "z.grad= None\n",
            "\n",
            "After invocation of backward()\n",
            "\n",
            "x= tensor([[2.]], requires_grad=True)\n",
            "x.data= tensor([[2.]])\n",
            "x.grad= tensor([[288.]])\n",
            "x.grad_fn()= None\n",
            "\n",
            "y= tensor([[12.]], grad_fn=<MulBackward0>)\n",
            "y.data= tensor([[12.]])\n",
            "y.grad= None\n",
            "y.grad_fn()= <MulBackward0 object at 0x7f9f789d6850>\n",
            "\n",
            "z= tensor([[144.]], grad_fn=<PowBackward0>)\n",
            "z.data= tensor([[144.]])\n",
            "z.grad= None\n"
          ],
          "name": "stdout"
        },
        {
          "output_type": "stream",
          "text": [
            "/usr/local/lib/python3.7/dist-packages/ipykernel_launcher.py:12: UserWarning: The .grad attribute of a Tensor that is not a leaf Tensor is being accessed. Its .grad attribute won't be populated during autograd.backward(). If you indeed want the gradient for a non-leaf Tensor, use .retain_grad() on the non-leaf Tensor. If you access the non-leaf Tensor by mistake, make sure you access the leaf Tensor instead. See github.com/pytorch/pytorch/pull/30531 for more informations.\n",
            "  if sys.path[0] == '':\n",
            "/usr/local/lib/python3.7/dist-packages/ipykernel_launcher.py:17: UserWarning: The .grad attribute of a Tensor that is not a leaf Tensor is being accessed. Its .grad attribute won't be populated during autograd.backward(). If you indeed want the gradient for a non-leaf Tensor, use .retain_grad() on the non-leaf Tensor. If you access the non-leaf Tensor by mistake, make sure you access the leaf Tensor instead. See github.com/pytorch/pytorch/pull/30531 for more informations.\n",
            "/usr/local/lib/python3.7/dist-packages/ipykernel_launcher.py:26: UserWarning: The .grad attribute of a Tensor that is not a leaf Tensor is being accessed. Its .grad attribute won't be populated during autograd.backward(). If you indeed want the gradient for a non-leaf Tensor, use .retain_grad() on the non-leaf Tensor. If you access the non-leaf Tensor by mistake, make sure you access the leaf Tensor instead. See github.com/pytorch/pytorch/pull/30531 for more informations.\n",
            "/usr/local/lib/python3.7/dist-packages/ipykernel_launcher.py:30: UserWarning: The .grad attribute of a Tensor that is not a leaf Tensor is being accessed. Its .grad attribute won't be populated during autograd.backward(). If you indeed want the gradient for a non-leaf Tensor, use .retain_grad() on the non-leaf Tensor. If you access the non-leaf Tensor by mistake, make sure you access the leaf Tensor instead. See github.com/pytorch/pytorch/pull/30531 for more informations.\n"
          ],
          "name": "stderr"
        }
      ]
    },
    {
      "cell_type": "markdown",
      "metadata": {
        "id": "3qnl7MKcK1-I"
      },
      "source": [
        "**PyTorch의 MLP프로그래밍**"
      ]
    },
    {
      "cell_type": "code",
      "metadata": {
        "id": "QRNsRWepK2r0"
      },
      "source": [
        "from sklearn.datasets import fetch_openml #sklearn 라이브러리에서 제공하는 ministdataset\n",
        "mnist=fetch_openml('mnist_784',version=1,cache=True)\n",
        "\n",
        "X=mnist.data/255 #픽셀값 나눔\n",
        "y=mnist.target\n"
      ],
      "execution_count": null,
      "outputs": []
    },
    {
      "cell_type": "code",
      "metadata": {
        "colab": {
          "base_uri": "https://localhost:8080/",
          "height": 282
        },
        "id": "gQ5hioqnK_Q9",
        "outputId": "546e73a6-ecd3-40fb-d50e-a878f6a4c039"
      },
      "source": [
        "import matplotlib.pyplot as plt#그래프 시각화 위함\n",
        "plt.imshow(X[0].reshape(28,28),cmap='gray')#28×28배열의 이미지 \n",
        "plt.show()#이미지 출력\n",
        "print(\"이미지 레이블:{}\".format(y[0]))#이미지가 나타내는 값\n",
        "\n"
      ],
      "execution_count": null,
      "outputs": [
        {
          "output_type": "display_data",
          "data": {
            "image/png": "[encoded data removed]",
            "text/plain": [
              "<Figure size 432x288 with 1 Axes>"
            ]
          },
          "metadata": {
            "tags": [],
            "needs_background": "light"
          }
        },
        {
          "output_type": "stream",
          "text": [
            "이미지 레이블:5\n"
          ],
          "name": "stdout"
        }
      ]
    },
    {
      "cell_type": "code",
      "metadata": {
        "id": "GtUniLsTLDPl"
      },
      "source": [
        "import torch #pytorch사용\n",
        "from torch.utils.data import TensorDataset,DataLoader#미니배치 학습이나 데이터 셔플,병렬 처리 등 가능\n",
        "from sklearn.model_selection import train_test_split#학습과 테스트 데이터 분리\n",
        "\n",
        "X_train,X_test,y_train,y_test=train_test_split(X,y,test_size=1/7,random_state=0)#학습과 테스트 데이터를 1/7,6/7로 나눔\n",
        "X_train=torch.Tensor(X_train)#학습데이터 tensor변환\n",
        "X_test=torch.Tensor(X_test)#테스트데이터 tensor변환\n",
        "y_train=torch.LongTensor(list(map(int,y_train)))#y_train를 int형으로 변환한 배열 LongTensor로 변환\n",
        "y_test=torch.LongTensor(list(map(int,y_test)))#y_test를 int형으로 변환한 배열 LongTensor로 변환\n",
        "\n",
        "ds_train=TensorDataset(X_train,y_train)#입력:X_train,출력:y_train에 대응되는 데이터 집합 생성\n",
        "ds_test=TensorDataset(X_test,y_test)#입력:X_test,출력:y_test에 대응되는 데이터 집합 생성\n",
        "\n",
        "loader_train=DataLoader(ds_train,batch_size=64,shuffle=True)#[64, channel, width, height]형태로 무작위 데이터셋 담음\n",
        "loader_test=DataLoader(ds_test,batch_size=64,shuffle=False)#[64, channel, width, height]형태로 무작위 데이터셋 담음\n"
      ],
      "execution_count": null,
      "outputs": []
    },
    {
      "cell_type": "code",
      "metadata": {
        "id": "OrFNWQjBLHP5"
      },
      "source": [
        "from torch import nn#신경망 패키지 생성\n",
        "model=nn.Sequential()#레이어를 순차적으로 model생성\n",
        "model.add_module('fc1',nn.Linear(28*28*1,100))#입력:28*28*1,출력:100개\n",
        "model.add_module('relu1',nn.ReLU())#ReLU연산\n",
        "model.add_module('fc2',nn.Linear(100,100))#입력:100개,출력:100개\n",
        "model.add_module('relu2',nn.ReLU())#ReLU연산\n",
        "model.add_module('fc23',nn.Linear(100,100))#입력:100개,출력:100개\n"
      ],
      "execution_count": null,
      "outputs": []
    },
    {
      "cell_type": "code",
      "metadata": {
        "id": "Old1Nw0YLMEH"
      },
      "source": [
        "from torch import optim#최적화\n",
        "loss_fn=nn.CrossEntropyLoss()#손실함수\n",
        "optimizer=optim.Adam(model.parameters(),lr=0.01)#Adam방식으로 손실함수의 미분 기울기 따라 이동\n"
      ],
      "execution_count": null,
      "outputs": []
    },
    {
      "cell_type": "code",
      "metadata": {
        "id": "aKT54XbQLNgs"
      },
      "source": [
        "def train(epoch):\n",
        "  model.train()#학습 모드로 변환\n",
        "  for data,targets in loader_train:\n",
        "    optimizer.zero_grad()#역전파 오차 계산의 초기화\n",
        "    outputs=model(data)#출력 값\n",
        "    loss=loss_fn(outputs,targets)#손실도 계산\n",
        "    loss.backward()#손실도 역전파\n",
        "    optimizer.step()#최적화\n",
        "  print('epoch{}:완료'.format(epoch))\n"
      ],
      "execution_count": null,
      "outputs": []
    },
    {
      "cell_type": "code",
      "metadata": {
        "colab": {
          "base_uri": "https://localhost:8080/"
        },
        "id": "tfWvFQocLPyz",
        "outputId": "29408fe1-1e93-4017-9b8b-399499d7c958"
      },
      "source": [
        "def test(head):\n",
        "  model.eval()#추론 모델로 변환\n",
        "  correct=0\n",
        "  with torch.no_grad():#추론 과정에서 그레디언트 과정 불필요\n",
        "   for data,targets in loader_test:\n",
        "    outputs=model(data)#출력값\n",
        "    _,predicted=torch.max(outputs.data,1)#가장 높은 값을 가지는 인덱스 선택\n",
        "    correct+=predicted.eq(targets.data.view_as(predicted)).sum()#predicted배열과 data 일치하는 개수 합\n",
        "  data_num=len(loader_test.dataset)#데이터 개수\n",
        "  print('{}accuarcy:{}/{}({:.0f}%)'.format(head,correct,data_num,100.*correct/data_num))#정확도 계산\n",
        "test('시작')\n"
      ],
      "execution_count": null,
      "outputs": [
        {
          "output_type": "stream",
          "text": [
            "시작accuarcy:22/10000(0%)\n"
          ],
          "name": "stdout"
        }
      ]
    },
    {
      "cell_type": "code",
      "metadata": {
        "colab": {
          "base_uri": "https://localhost:8080/"
        },
        "id": "DhLrnbejLYd7",
        "outputId": "d0e8c9a0-1e03-443e-f088-f1931b597f1f"
      },
      "source": [
        "for epoch in range(3):\n",
        " train(epoch)#epoch만큼 학습\n",
        " test('학습중')\n"
      ],
      "execution_count": null,
      "outputs": [
        {
          "output_type": "stream",
          "text": [
            "epoch0:완료\n",
            "학습중accuarcy:9524/10000(95%)\n",
            "epoch1:완료\n",
            "학습중accuarcy:9527/10000(95%)\n",
            "epoch2:완료\n",
            "학습중accuarcy:9582/10000(96%)\n"
          ],
          "name": "stdout"
        }
      ]
    },
    {
      "cell_type": "markdown",
      "metadata": {
        "id": "5HIoy0sAJZ8I"
      },
      "source": [
        "**CNN모델을 이용한 MNIST데이터 분류**"
      ]
    },
    {
      "cell_type": "code",
      "metadata": {
        "colab": {
          "base_uri": "https://localhost:8080/"
        },
        "id": "Xd4bNd-gJc-4",
        "outputId": "2ff81b92-bf49-4a05-dc12-16f3982c3dfe"
      },
      "source": [
        "from sklearn.datasets import fetch_openml #sklearn 라이브러리에서 제공하는 ministdataset\n",
        "mnist=fetch_openml('mnist_784',version=1,cache=True)\n",
        "\n",
        "X=mnist.data/255 #픽셀값 나눔\n",
        "y=mnist.target\n",
        "\n",
        "import torch #pytorch사용\n",
        "from torch.utils.data import TensorDataset,DataLoader#미니배치 학습이나 데이터 셔플,병렬 처리 등 가능\n",
        "from sklearn.model_selection import train_test_split#학습과 테스트 데이터 분리\n",
        "\n",
        "X_train,X_test,y_train,y_test=train_test_split(X,y,test_size=1/7,random_state=0)#학습과 테스트 데이터를 1/7,6/7로 나눔\n",
        "X_train=torch.Tensor(X_train)#학습데이터 tensor변환\n",
        "X_test=torch.Tensor(X_test)#테스트데이터 tensor변환\n",
        "y_train=torch.LongTensor(list(map(int,y_train)))#y_train를 int형으로 변환한 배열 LongTensor로 변환\n",
        "y_test=torch.LongTensor(list(map(int,y_test)))#y_test를 int형으로 변환한 배열 LongTensor로 변환\n",
        "\n",
        "\n",
        "import torch.nn as nn#pytorch 라이브러리 사용\n",
        "import torch.nn.functional as F#Conv,Pooling등의 기능 제공\n",
        "from torch import optim#최적화\n",
        "from torch.autograd import Variable#자동 미분\n",
        "\n",
        "X_train=X_train.view(-1,1,28,28).float()#학습데이터 28*28 변환\n",
        "X_test=X_test.view(-1,1,28,28).float()#테스트데이터 28*28 변환\n",
        "print(X_train.shape)#학습데이터 차원 출력\n",
        "print(X_test.shape)#테스트데이터 차원 출력\n",
        "\n",
        "train=TensorDataset(X_train,y_train)#입력:X_train,출력:y_train에 대응되는 데이터 집합 생성\n",
        "test=TensorDataset(X_test,y_test)#입력:X_test,출력:y_test에 대응되는 데이터 집합 생성\n",
        "BATCH_SIZE=32#가중치 배치 사이즈 설정\n",
        "loader_train=DataLoader(train,batch_size=BATCH_SIZE,shuffle=True)#[64, channel, width, height]형태로 무작위 데이터셋 담음\n",
        "loader_test=DataLoader(test,batch_size=BATCH_SIZE,shuffle=False)#[64, channel, width, height]형태로 무작위 데이터셋 담음\n",
        "\n",
        "class CNN(nn.Module):\n",
        "  def __init__(self):\n",
        "    super(CNN,self).__init__()\n",
        "    self.conv1=nn.Conv2d(1,32,kernel_size=5)#conv1정의:1채널 짜리를 입력받아서 32채널을 뽑아내는데 커널 사이즈는 5\n",
        "    self.conv2=nn.Conv2d(32,32,kernel_size=5)#conv2정의:32채널 짜리를 입력받아서 32채널을 뽑아내는데 커널 사이즈는 5\n",
        "    self.conv3=nn.Conv2d(32,64,kernel_size=5)#conv3정의:32채널 짜리를 입력받아서 64채널을 뽑아내는데 커널 사이즈는 5\n",
        "    self.fc1=nn.Linear(3*3*64,256)# 입력 = 3*3*64, 출력 = 256\n",
        "    self.fc2=nn.Linear(256,10)# 입력 = 256, 출력 =10\n",
        "\n",
        "    self.loss_fn=nn.CrossEntropyLoss()#손실함수 \n",
        "    self.optimizer=optim.Adam(self.parameters(),lr=0.01)#Adam방식으로 손실함수의 미분 기울기 따라 이동#손실함수\n",
        "\n",
        "  def forward(self,x):\n",
        "    x=F.relu(self.conv1(x))#relu(x)연산\n",
        "    x=F.relu(F.max_pool2d(self.conv2(x),2))#max_pool2d(x,2,2)연산\n",
        "    x=F.dropout(x,p=0.5,training=self.training)#dropout연산\n",
        "    x=F.relu(F.max_pool2d(self.conv3(x),2))#relu(x)연산\n",
        "    x=F.dropout(x,p=0.5,training=self.training)#dropout연산\n",
        "    x=x.view(-1,3*3*64)#view(-1,3*3*64)\n",
        "    x=F.relu(self.fc1(x))#relu(x)연산\n",
        "    x=F.dropout(x,training=self.training)#dropout연산\n",
        "    x=self.fc2(x)\n",
        "    return F.log_softmax(x,dim=1)#소프트맥스 순으로 학습\n",
        "\n",
        "def fit(model,loader_train):\n",
        "    optimizer=torch.optim.Adam(model.parameters())#Adam방식으로 최적화\n",
        "    error=nn.CrossEntropyLoss()#손실도\n",
        "    EPOCHS=1#에포크설정\n",
        "    model.train()#모델 학습\n",
        "    for epoch in range(EPOCHS):\n",
        "      correct=0#정확도\n",
        "      for batch_idx,(X_batch,y_batch)in enumerate(loader_train):\n",
        "        var_X_batch=Variable(X_batch).float()#float으로 형 변환 x변수\n",
        "        var_y_batch=Variable(y_batch)#y변수 \n",
        "        optimizer.zero_grad()# 그래디언트 버퍼를 0으로 초기화해준다.\n",
        "        output=model(var_X_batch)#출력값\n",
        "        loss=error(output,var_y_batch)#손실도\n",
        "        loss.backward()# loss.backward함수로 그라디언트를 초기화\n",
        "        optimizer.step()#업데이트\n",
        "        predicted=torch.max(output.data,1)[1]#예측값\n",
        "        correct+=(predicted==var_y_batch).sum()#정확도 계산\n",
        "        if batch_idx %50==0:\n",
        "          print('에포크:{}[{}/{}({:.0f}%)]\\t 손실함수 :{:.6f}\\t Accuracy:{:.3f}%'.format(epoch,batch_idx*len(X_batch),len(loader_train),100.*batch_idx/len(loader_train),loss.data,correct*100./(BATCH_SIZE*(batch_idx+1))))\n",
        "def evaluate(model):\n",
        "  correct=0#정확도\n",
        "  for test_imgs,test_labels in loader_test:\n",
        "    test_imgs=Variable(test_imgs).float()#float으로 형변환 imgs변수\n",
        "    output=model(test_imgs)#출력값\n",
        "    predicted=torch.max(output,1)[1]#예측도\n",
        "    correct+=(predicted==test_labels).sum()#정확도\n",
        "  print(\"테스트 데이터 정확도:{:.3f}%\".format(float(correct)/(len(loader_test)*BATCH_SIZE)))\n",
        "cnn=CNN()#CNN설정\n",
        "evaluate(cnn)#평가\n",
        "fit(cnn,loader_train)#학습\n",
        "cnn.eval()#model.train() 모드로 변한 것처럼 평가 \n",
        "evaluate(cnn)#평가\n",
        "index=10\n",
        "data=X_test[index].view(-1,1,28,28).float()#테스트데이터 28*28 변환\n",
        "output=cnn(data)#출력값\n",
        "print('{}번째 학습데이터의 데스트 결과:{}'.format(index,output))\n",
        "_,predicted=torch.max(output,1)#예측값\n",
        "print('{}번째 데이터의 예측:{}'.format(index,predicted.numpy()))\n",
        "print('실제 레이블:{}'.format(y_test[index]))\n"
      ],
      "execution_count": null,
      "outputs": [
        {
          "output_type": "stream",
          "text": [
            "torch.Size([60000, 1, 28, 28])\n",
            "torch.Size([10000, 1, 28, 28])\n",
            "테스트 데이터 정확도:0.104%\n",
            "에포크:0[0/1875(0%)]\t 손실함수 :21.132071\t Accuracy:9.375%\n",
            "에포크:0[1600/1875(3%)]\t 손실함수 :2.044613\t Accuracy:15.625%\n",
            "에포크:0[3200/1875(5%)]\t 손실함수 :1.315636\t Accuracy:33.880%\n",
            "에포크:0[4800/1875(8%)]\t 손실함수 :0.715555\t Accuracy:46.647%\n",
            "에포크:0[6400/1875(11%)]\t 손실함수 :0.660421\t Accuracy:54.462%\n",
            "에포크:0[8000/1875(13%)]\t 손실함수 :0.565560\t Accuracy:60.110%\n",
            "에포크:0[9600/1875(16%)]\t 손실함수 :0.460164\t Accuracy:64.452%\n",
            "에포크:0[11200/1875(19%)]\t 손실함수 :0.518507\t Accuracy:67.468%\n",
            "에포크:0[12800/1875(21%)]\t 손실함수 :0.451565\t Accuracy:69.927%\n",
            "에포크:0[14400/1875(24%)]\t 손실함수 :0.642527\t Accuracy:71.847%\n",
            "에포크:0[16000/1875(27%)]\t 손실함수 :0.386389\t Accuracy:73.572%\n",
            "에포크:0[17600/1875(29%)]\t 손실함수 :0.269271\t Accuracy:74.932%\n",
            "에포크:0[19200/1875(32%)]\t 손실함수 :0.550737\t Accuracy:76.191%\n",
            "에포크:0[20800/1875(35%)]\t 손실함수 :0.273224\t Accuracy:77.184%\n",
            "에포크:0[22400/1875(37%)]\t 손실함수 :0.107513\t Accuracy:78.138%\n",
            "에포크:0[24000/1875(40%)]\t 손실함수 :0.153606\t Accuracy:79.032%\n",
            "에포크:0[25600/1875(43%)]\t 손실함수 :0.251846\t Accuracy:79.767%\n",
            "에포크:0[27200/1875(45%)]\t 손실함수 :0.315612\t Accuracy:80.497%\n",
            "에포크:0[28800/1875(48%)]\t 손실함수 :0.147277\t Accuracy:81.122%\n",
            "에포크:0[30400/1875(51%)]\t 손실함수 :0.257566\t Accuracy:81.703%\n",
            "에포크:0[32000/1875(53%)]\t 손실함수 :0.379631\t Accuracy:82.208%\n",
            "에포크:0[33600/1875(56%)]\t 손실함수 :0.384241\t Accuracy:82.656%\n",
            "에포크:0[35200/1875(59%)]\t 손실함수 :0.151232\t Accuracy:83.089%\n",
            "에포크:0[36800/1875(61%)]\t 손실함수 :0.516080\t Accuracy:83.468%\n",
            "에포크:0[38400/1875(64%)]\t 손실함수 :0.093704\t Accuracy:83.904%\n",
            "에포크:0[40000/1875(67%)]\t 손실함수 :0.175070\t Accuracy:84.255%\n",
            "에포크:0[41600/1875(69%)]\t 손실함수 :0.100547\t Accuracy:84.613%\n",
            "에포크:0[43200/1875(72%)]\t 손실함수 :0.139675\t Accuracy:84.930%\n",
            "에포크:0[44800/1875(75%)]\t 손실함수 :0.275917\t Accuracy:85.191%\n",
            "에포크:0[46400/1875(77%)]\t 손실함수 :0.282953\t Accuracy:85.476%\n",
            "에포크:0[48000/1875(80%)]\t 손실함수 :0.328786\t Accuracy:85.732%\n",
            "에포크:0[49600/1875(83%)]\t 손실함수 :0.205333\t Accuracy:85.985%\n",
            "에포크:0[51200/1875(85%)]\t 손실함수 :0.108533\t Accuracy:86.223%\n",
            "에포크:0[52800/1875(88%)]\t 손실함수 :0.322595\t Accuracy:86.427%\n",
            "에포크:0[54400/1875(91%)]\t 손실함수 :0.135665\t Accuracy:86.657%\n",
            "에포크:0[56000/1875(93%)]\t 손실함수 :0.090846\t Accuracy:86.859%\n",
            "에포크:0[57600/1875(96%)]\t 손실함수 :0.134174\t Accuracy:87.063%\n",
            "에포크:0[59200/1875(99%)]\t 손실함수 :0.102809\t Accuracy:87.232%\n",
            "테스트 데이터 정확도:0.974%\n",
            "10번째 학습데이터의 데스트 결과:tensor([[-8.0740e+00, -4.0209e-03, -7.7028e+00, -1.0802e+01, -6.8874e+00,\n",
            "         -8.4137e+00, -8.8266e+00, -6.7841e+00, -7.5596e+00, -8.5805e+00]],\n",
            "       grad_fn=<LogSoftmaxBackward>)\n",
            "10번째 데이터의 예측:[1]\n",
            "실제 레이블:1\n"
          ],
          "name": "stdout"
        }
      ]
    },
    {
      "cell_type": "markdown",
      "metadata": {
        "id": "YsuAWxpqSe_F"
      },
      "source": [
        "**IRIS 데이터의 학습**"
      ]
    },
    {
      "cell_type": "code",
      "metadata": {
        "colab": {
          "base_uri": "https://localhost:8080/",
          "height": 264
        },
        "id": "TwZ2jLg5SieI",
        "outputId": "34b5a541-1d7b-40c9-f3dc-6290bdc2deef"
      },
      "source": [
        "import torch#pytorch라이브러리 사용\n",
        "from  torch import nn,optim#최적화\n",
        "from sklearn.datasets import load_iris#iris데이터셋 불러옴\n",
        "from torch.utils.data import TensorDataset,DataLoader#미니배치 학습이나 데이터 셔플,병렬 처리 등 가능\n",
        "\n",
        "iris=load_iris()#iris데이터 불러옴\n",
        "\n",
        "X=iris.data[:100]#실제데이터\n",
        "y=iris.target[:100]#라벨데이터\n",
        "\n",
        "X=torch.tensor(X,dtype=torch.float32)#텐서로 변환\n",
        "y=torch.tensor(y,dtype=torch.float32)#텐서로 변환\n",
        "\n",
        "net=nn.Linear(4,1)# iris 데이터는 4차원\n",
        "loss_fn=nn.BCEWithLogitsLoss()# 시그모이드 함수를 적용해서 두 클래스의 분류를 위한 크로스 엔트로피를 계산\n",
        "optimizer=optim.SGD(net.parameters(),lr=0.25)# SGD(약간 큰 학습률)\n",
        "losses=[]# 손실 함수 로그\n",
        "\n",
        "for epoc in range(100):# 100회 반복\n",
        "  batch_loss=0.0\n",
        "  optimizer.zero_grad() # 전회의 backward 메서드로 계산된 경사값을 초기화\n",
        "  y_pred=net(X) # 선형 모델으로 y 예측값을 계산\n",
        "  loss=loss_fn(y_pred.view_as(y),y) # MSE loss를 사용한 미분 계산\n",
        "  loss.backward()\n",
        "  optimizer.step()# 경사를 갱신\n",
        "  batch_loss+=loss.item()#수렴 확인을 위한 loss를 기록\n",
        "  losses.append(batch_loss)\n",
        "from matplotlib import pyplot as plt#시각화 위함\n",
        "plt.plot(losses)#손실도 그래프 출력\n",
        "plt.show()"
      ],
      "execution_count": null,
      "outputs": [
        {
          "output_type": "display_data",
          "data": {
            "image/png": "[encoded data removed]",
            "text/plain": [
              "<Figure size 432x288 with 1 Axes>"
            ]
          },
          "metadata": {
            "tags": [],
            "needs_background": "light"
          }
        }
      ]
    },
    {
      "cell_type": "markdown",
      "metadata": {
        "id": "-RwAUs1cVFnY"
      },
      "source": [
        "**8ⅹ8 MNIST 데이터의 인식**"
      ]
    },
    {
      "cell_type": "code",
      "metadata": {
        "colab": {
          "base_uri": "https://localhost:8080/",
          "height": 531
        },
        "id": "bG4_OoSxVGaU",
        "outputId": "e75365aa-ac22-45ff-93bd-5cf5c74b93ac"
      },
      "source": [
        "import torch#pytorch라이브러리 사용\n",
        "from  torch import nn,optim#최적화\n",
        "from sklearn.datasets import load_digits#digits데이터 \n",
        "from torch.utils.data import TensorDataset,DataLoader#미니배치 학습이나 데이터 셔플,병렬 처리 등 가능\n",
        "import time#시간모듈\n",
        "from matplotlib import pyplot as plt#시각화 위함\n",
        "\n",
        "digits=load_digits())#digits데이터 불러옴\n",
        "X=digits.data#실제데이터\n",
        "Y=digits.target#라벨데이터\n",
        "\n",
        "plt.imshow(X[0].reshape(8,8),cmap='gray')#8*8그레이 이미지 \n",
        "plt.show()#0번째 이미지 출력\n",
        "\n",
        "X=torch.tensor(X,dtype=torch.float32)#텐서로 변환\n",
        "Y=torch.tensor(Y,dtype=torch.int64)#텐서로 변환\n",
        "\n",
        "dataset=TensorDataset(X,Y)#입력:X,출력:Y에 대응되는 데이터 집합 생성\n",
        "train_loader=DataLoader(dataset,batch_size=64,shuffle=True)#[64, channel, width, height]형태로 무작위 데이터셋 담음\n",
        "\n",
        "net=nn.Sequential(\n",
        "    nn.Linear(64,32),#64입력 32출력\n",
        "    nn.ReLU(),#ReLU연산\n",
        "    nn.Linear(32,16),#32입력 16출력\n",
        "    nn.ReLU(),#ReLU연산\n",
        "    nn.Linear(16,10)#16입력 10출력\n",
        ")\n",
        "loss_function=nn.CrossEntropyLoss()#손실함수\n",
        "optimizer=optim.Adam(net.parameters(),lr=0.005)#Adam방식으로 손실함수의 미분 기울기 따라 이동\n",
        "\n",
        "losses=[]#손실도\n",
        "start_time=time.time()#시작시간 설정\n",
        "\n",
        "for epoc in range(100):\n",
        "  running_loss=0.0#손실도\n",
        "  for x_minibatch,y_minibatch in train_loader:\n",
        "    pred=net(x_minibatch) # 선형 모델으로 y 예측값을 계산\n",
        "    loss=loss_function(pred,y_minibatch)# MSE loss를 사용한 미분 계산\n",
        "    optimizer.zero_grad() #  경사값을 초기화\n",
        "    loss.backward()#backward()\n",
        "    optimizer.step()# 경사를 갱신\n",
        "    running_loss+=loss.item()#수렴 확인을 위한 loss를 기록\n",
        "  losses.append(running_loss)\n",
        "\n",
        "print('실행 시간: %0.5f sec'%(time.time()-start_time))#실행시간 출력\n",
        "\n",
        "plt.plot(losses,color='blue',linestyle='dashed',marker='o')#손실도 그래프로 출력\n",
        "plt.show()\n",
        "\n"
      ],
      "execution_count": null,
      "outputs": [
        {
          "output_type": "display_data",
          "data": {
            "image/png": "[encoded data removed]",
            "text/plain": [
              "<Figure size 432x288 with 1 Axes>"
            ]
          },
          "metadata": {
            "tags": [],
            "needs_background": "light"
          }
        },
        {
          "output_type": "stream",
          "text": [
            "실행 시간: 3.70182 sec\n"
          ],
          "name": "stdout"
        },
        {
          "output_type": "display_data",
          "data": {
            "image/png": "[encoded data removed]",
            "text/plain": [
              "<Figure size 432x288 with 1 Axes>"
            ]
          },
          "metadata": {
            "tags": [],
            "needs_background": "light"
          }
        }
      ]
    }
  ]
}