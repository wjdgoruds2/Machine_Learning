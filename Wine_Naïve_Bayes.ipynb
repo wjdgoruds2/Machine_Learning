{
  "nbformat": 4,
  "nbformat_minor": 0,
  "metadata": {
    "colab": {
      "name": "Untitled4.ipynb",
      "provenance": [],
      "authorship_tag": "ABX9TyNG+8ZZXaGEXJq2ONGX6r31",
      "include_colab_link": true
    },
    "kernelspec": {
      "name": "python3",
      "display_name": "Python 3"
    },
    "language_info": {
      "name": "python"
    }
  },
  "cells": [
    {
      "cell_type": "markdown",
      "metadata": {
        "id": "view-in-github",
        "colab_type": "text"
      },
      "source": [
        "<a href=\"https://colab.research.google.com/github/wjdgoruds2/Machine_Learning/blob/main/Wine_Na%C3%AFve_Bayes.ipynb\" target=\"_parent\"><img src=\"https://colab.research.google.com/assets/colab-badge.svg\" alt=\"Open In Colab\"/></a>"
      ]
    },
    {
      "cell_type": "code",
      "metadata": {
        "colab": {
          "base_uri": "https://localhost:8080/"
        },
        "id": "gnIyY0W3Z1OX",
        "outputId": "c27c30c6-e9e9-4ba9-92c7-d23c57e8f7f7"
      },
      "source": [
        "from sklearn import datasets#데이터셋 불러옴\n",
        "from sklearn.model_selection import train_test_split#학습데이터와 테스트데이터 분리\n",
        "from sklearn.naive_bayes import GaussianNB#가우시안 단순  분류기\n",
        "from sklearn import metrics#분류 성능 평가\n",
        "\n",
        "wine=datasets.load_wine()#wine데이터 생성\n",
        "print(\"Feature:\",wine.feature_names)#속성 이름 출력\n",
        "print(wine.data[0:5,:])#5개의 데이터 출력\n",
        "print(\"Labels:\",wine.target_names)#속성 이름 출력\n",
        "print(wine.target[0:3])#3개의 데이터 출력\n",
        "print(\"No.of data:\",len(wine.data))#전체 데이터 개수 출력\n",
        "\n",
        "X_train,X_test,y_train,y_test=train_test_split(wine.data,wine.target,test_size=0.3,random_state=0)#랜던데이터 X_train,y_train은 70%,X_test,y_test는 30%로 나눔\n",
        "gnb=GaussianNB()#가우시안 단순 베이즈 분류\n",
        "gnb.fit(X_train,y_train)#X_train,y_train의 평균과 표준편차 구함\n",
        "y_pred=gnb.predict(X_test)#X_test사용 예측값 계산\n",
        "print(\"Accuracy:\",metrics.accuracy_score(y_test,y_pred))#정확도 측정"
      ],
      "execution_count": 8,
      "outputs": [
        {
          "output_type": "stream",
          "text": [
            "Feature: ['alcohol', 'malic_acid', 'ash', 'alcalinity_of_ash', 'magnesium', 'total_phenols', 'flavanoids', 'nonflavanoid_phenols', 'proanthocyanins', 'color_intensity', 'hue', 'od280/od315_of_diluted_wines', 'proline']\n",
            "[[1.423e+01 1.710e+00 2.430e+00 1.560e+01 1.270e+02 2.800e+00 3.060e+00\n",
            "  2.800e-01 2.290e+00 5.640e+00 1.040e+00 3.920e+00 1.065e+03]\n",
            " [1.320e+01 1.780e+00 2.140e+00 1.120e+01 1.000e+02 2.650e+00 2.760e+00\n",
            "  2.600e-01 1.280e+00 4.380e+00 1.050e+00 3.400e+00 1.050e+03]\n",
            " [1.316e+01 2.360e+00 2.670e+00 1.860e+01 1.010e+02 2.800e+00 3.240e+00\n",
            "  3.000e-01 2.810e+00 5.680e+00 1.030e+00 3.170e+00 1.185e+03]\n",
            " [1.437e+01 1.950e+00 2.500e+00 1.680e+01 1.130e+02 3.850e+00 3.490e+00\n",
            "  2.400e-01 2.180e+00 7.800e+00 8.600e-01 3.450e+00 1.480e+03]\n",
            " [1.324e+01 2.590e+00 2.870e+00 2.100e+01 1.180e+02 2.800e+00 2.690e+00\n",
            "  3.900e-01 1.820e+00 4.320e+00 1.040e+00 2.930e+00 7.350e+02]]\n",
            "Labels: ['class_0' 'class_1' 'class_2']\n",
            "[0 0 0]\n",
            "No.of data: 178\n",
            "Accuracy: 0.9444444444444444\n"
          ],
          "name": "stdout"
        }
      ]
    }
  ]
}