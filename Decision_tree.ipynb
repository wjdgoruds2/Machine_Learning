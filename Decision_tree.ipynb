{
  "nbformat": 4,
  "nbformat_minor": 0,
  "metadata": {
    "colab": {
      "name": "Untitled1.ipynb",
      "provenance": [],
      "authorship_tag": "ABX9TyPQYM9s/hrafZgLvldD0gw8",
      "include_colab_link": true
    },
    "kernelspec": {
      "name": "python3",
      "display_name": "Python 3"
    }
  },
  "cells": [
    {
      "cell_type": "markdown",
      "metadata": {
        "id": "view-in-github",
        "colab_type": "text"
      },
      "source": [
        "<a href=\"https://colab.research.google.com/github/wjdgoruds2/Machine_Learning/blob/main/Decision_tree.ipynb\" target=\"_parent\"><img src=\"https://colab.research.google.com/assets/colab-badge.svg\" alt=\"Open In Colab\"/></a>"
      ]
    },
    {
      "cell_type": "code",
      "metadata": {
        "colab": {
          "base_uri": "https://localhost:8080/"
        },
        "id": "yzHobsvaUpav",
        "outputId": "832dc83d-f421-493f-f586-1582470dc9bb"
      },
      "source": [
        "from sklearn import datasets\r\n",
        "import numpy as np\r\n",
        "\r\n",
        "def test_split(index,value,dataset):\r\n",
        "  left,right=list(),list()\r\n",
        "  for row in dataset:\r\n",
        "    if row[index]<value:\r\n",
        "      left.append(row)\r\n",
        "    else:\r\n",
        "      right.append(row)\r\n",
        "  return left,right\r\n",
        "\r\n",
        "def gini_index(groups,classes):\r\n",
        "  n_instances=float(sum([len(group)for group in groups]))\r\n",
        "  gini=0.0\r\n",
        "  for group in groups:\r\n",
        "    size=float(len(group))\r\n",
        "    if size==0:\r\n",
        "      continue\r\n",
        "    score=0.0\r\n",
        "    for class_val in classes:\r\n",
        "      p=[row[-1]for row in group].count(class_val)/size\r\n",
        "      score += p*p\r\n",
        "    gini += (1.0-score)*(size/n_instances)\r\n",
        "  return gini\r\n",
        "\r\n",
        "def get_split(dataset):\r\n",
        "  class_values=list(set(row[-1] for row in dataset))\r\n",
        "  b_index,b_value,b_score,b_groups=999,999,999,None\r\n",
        "  for index in range(len(dataset[0])-1):\r\n",
        "    for row in dataset:\r\n",
        "      groups=test_split(index,row[index],dataset)\r\n",
        "      gini=gini_index(groups,class_values)\r\n",
        "      if gini<b_score:\r\n",
        "        b_index,b_value,b_score,b_groups=index,row[index],gini,groups\r\n",
        "  return {'index': b_index,'value':b_value,'groups':b_groups}\r\n",
        "\r\n",
        "def split(node,max_depth,min_size,depth):\r\n",
        "  left,right=node['groups']\r\n",
        "  del(node['groups'])\r\n",
        "  if not left or not right:\r\n",
        "    node['left']=node['right']=to_terminal(left+right)\r\n",
        "    return\r\n",
        "  if depth>=max_depth:\r\n",
        "    node['left'],node['right']=to_terminal(left),to_terminal(right)\r\n",
        "    return\r\n",
        "  if len(left) <=min_size:\r\n",
        "    node['left']=to_terminal(left)\r\n",
        "  else:\r\n",
        "    node['left']=get_split(left)\r\n",
        "    split(node['left'],max_depth,min_size,depth+1)\r\n",
        "  if len(right)<=min_size:\r\n",
        "    node['right']=to_terminal(right)\r\n",
        "  else:\r\n",
        "    node['right']=get_split(right)\r\n",
        "    split(node['right'],max_depth,min_size,depth+1)\r\n",
        "\r\n",
        "def to_terminal(group):\r\n",
        "  outcomes=[row[-1]for row in group]\r\n",
        "  return max(set(outcomes),key=outcomes.count)\r\n",
        "\r\n",
        "def bulid_tree(train,max_depth,min_size):\r\n",
        "  root=get_split(train)\r\n",
        "  split(root,max_depth,min_size,1)\r\n",
        "  return root\r\n",
        "\r\n",
        "def print_tree(node,depth=0):\r\n",
        "  if isinstance(node,dict):\r\n",
        "    print('%s[X%d < %.3f]'%((depth*'',(node['index']+1),node['value'])))\r\n",
        "    print_tree(node['left'],depth+1)\r\n",
        "    print_tree(node['right'],depth+1)\r\n",
        "  else:\r\n",
        "    print('%s[%s]'%((depth*'',node)))\r\n",
        "\r\n",
        "iris=datasets.load_iris()\r\n",
        "dataset=np.c_[iris.data,iris.target]\r\n",
        "\r\n",
        "tree=bulid_tree(dataset,3,1)\r\n",
        "print_tree(tree)\r\n"
      ],
      "execution_count": 22,
      "outputs": [
        {
          "output_type": "stream",
          "text": [
            "[X3 < 3.000]\n",
            "[X1 < 5.100]\n",
            "[X1 < 4.900]\n",
            "[0.0]\n",
            "[0.0]\n",
            "[X1 < 5.100]\n",
            "[0.0]\n",
            "[0.0]\n",
            "[X4 < 1.800]\n",
            "[X3 < 5.000]\n",
            "[1.0]\n",
            "[2.0]\n",
            "[X3 < 4.900]\n",
            "[2.0]\n",
            "[2.0]\n"
          ],
          "name": "stdout"
        }
      ]
    }
  ]
}