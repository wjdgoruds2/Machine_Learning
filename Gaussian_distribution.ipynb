{
  "nbformat": 4,
  "nbformat_minor": 0,
  "metadata": {
    "colab": {
      "name": "Untitled3.ipynb",
      "provenance": [],
      "collapsed_sections": [],
      "authorship_tag": "ABX9TyOx/7ef16sEnZJWw06HJkrc",
      "include_colab_link": true
    },
    "kernelspec": {
      "name": "python3",
      "display_name": "Python 3"
    }
  },
  "cells": [
    {
      "cell_type": "markdown",
      "metadata": {
        "id": "view-in-github",
        "colab_type": "text"
      },
      "source": [
        "<a href=\"https://colab.research.google.com/github/wjdgoruds2/Machine_Learning/blob/main/Gaussian_distribution.ipynb\" target=\"_parent\"><img src=\"https://colab.research.google.com/assets/colab-badge.svg\" alt=\"Open In Colab\"/></a>"
      ]
    },
    {
      "cell_type": "code",
      "metadata": {
        "colab": {
          "base_uri": "https://localhost:8080/",
          "height": 374
        },
        "id": "sD1AQw1RtOv9",
        "outputId": "49f51f52-9d58-44fb-d90b-85ae7baeaaa1"
      },
      "source": [
        "import numpy as np #배열 사용\n",
        "from matplotlib import pyplot as plt #차트 사용 \n",
        "\n",
        "m=10\n",
        "sigma=2\n",
        "x1=np.random.randn(10000) #N(0,1) 10000개의 데이터 생성\n",
        "x2=m+sigma*np.random.randn(10000) #N(10,2^2) 10000개의 데이터 생성\n",
        "\n",
        "plt.figure(figsize=(10,6)) #도표 사이즈 설정\n",
        "plt.hist(x1,bins=20,alpha=0.4,label='N(0,1)') #20개의 구간으로 평균 0,분산 1\n",
        "plt.hist(x2,bins=20,alpha=0.4,label='N(10,2)') #20개의 구간으로 평균 10, 분산 2\n",
        "plt.legend()#범례표시\n",
        "plt.show()\n"
      ],
      "execution_count": 17,
      "outputs": [
        {
          "output_type": "display_data",
          "data": {
            "image/png": "[encoded data removed]",
            "text/plain": [
              "<Figure size 720x432 with 1 Axes>"
            ]
          },
          "metadata": {
            "tags": [],
            "needs_background": "light"
          }
        }
      ]
    },
    {
      "cell_type": "code",
      "metadata": {
        "id": "xBYO87Qq1jG7"
      },
      "source": [
        ""
      ],
      "execution_count": null,
      "outputs": []
    }
  ]
}