{
  "nbformat": 4,
  "nbformat_minor": 0,
  "metadata": {
    "colab": {
      "name": "Untitled2.ipynb",
      "provenance": [],
      "authorship_tag": "ABX9TyPyxqkmFrRgBiBN7ElP60fg",
      "include_colab_link": true
    },
    "kernelspec": {
      "name": "python3",
      "display_name": "Python 3"
    }
  },
  "cells": [
    {
      "cell_type": "markdown",
      "metadata": {
        "id": "view-in-github",
        "colab_type": "text"
      },
      "source": [
        "<a href=\"https://colab.research.google.com/github/wjdgoruds2/Machine_Learning/blob/main/Random_Forest.ipynb\" target=\"_parent\"><img src=\"https://colab.research.google.com/assets/colab-badge.svg\" alt=\"Open In Colab\"/></a>"
      ]
    },
    {
      "cell_type": "code",
      "metadata": {
        "colab": {
          "base_uri": "https://localhost:8080/"
        },
        "id": "83pJPM0_gs7C",
        "outputId": "dc9b18d1-d546-43a6-a1fc-11e082ae4ac5"
      },
      "source": [
        "import pandas as pd\r\n",
        "from sklearn import datasets\r\n",
        "from sklearn.model_selection import train_test_split\r\n",
        "from sklearn.ensemble import RandomForestClassifier\r\n",
        "from sklearn import metrics\r\n",
        "\r\n",
        "iris=datasets.load_iris()\r\n",
        "print('Class names:',iris.target_names)\r\n",
        "print('target:[0:setosa,1:versicolor,2:virginica]')\r\n",
        "print('No. of Data:',len(iris.data))\r\n",
        "print('Feature names:',iris.feature_names)\r\n",
        "\r\n",
        "data=pd.DataFrame({'sepal length':iris.data[:,0],'sepal width':iris.data[:,1],'petal length':iris.data[:,2],'petal width':iris.data[:,3],'species':iris.target})\r\n",
        "print(data.head())\r\n",
        "\r\n",
        "x=data[['sepal length','sepal width','petal length','petal width']]\r\n",
        "y=data['species']\r\n",
        "x_train,x_test,y_train,y_test=train_test_split(x,y,test_size=0.3)\r\n",
        "print(\"No. of training data:\",len(x_train))\r\n",
        "print(\"No. of test data:\",len(y_test))\r\n",
        "\r\n",
        "forest=RandomForestClassifier(n_estimators=100)\r\n",
        "forest.fit(x_train,y_train)\r\n",
        "y_pred=forest.predict(x_test)\r\n",
        "print('Accuracy:',metrics.accuracy_score(y_test,y_pred))\r\n",
        "\r\n"
      ],
      "execution_count": 31,
      "outputs": [
        {
          "output_type": "stream",
          "text": [
            "Class names: ['setosa' 'versicolor' 'virginica']\n",
            "target:[0:setosa,1:versicolor,2:virginica]\n",
            "No. of Data: 150\n",
            "Feature names: ['sepal length (cm)', 'sepal width (cm)', 'petal length (cm)', 'petal width (cm)']\n",
            "   sepal length  sepal width  petal length  petal width  species\n",
            "0           5.1          3.5           1.4          0.2        0\n",
            "1           4.9          3.0           1.4          0.2        0\n",
            "2           4.7          3.2           1.3          0.2        0\n",
            "3           4.6          3.1           1.5          0.2        0\n",
            "4           5.0          3.6           1.4          0.2        0\n",
            "No. of training data: 105\n",
            "No. of test data: 45\n",
            "Accuracy: 0.9111111111111111\n"
          ],
          "name": "stdout"
        }
      ]
    }
  ]
}