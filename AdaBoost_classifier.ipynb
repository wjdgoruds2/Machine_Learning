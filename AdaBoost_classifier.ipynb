{
  "nbformat": 4,
  "nbformat_minor": 0,
  "metadata": {
    "colab": {
      "name": "Untitled2.ipynb",
      "provenance": [],
      "authorship_tag": "ABX9TyMKHCj7J9pRrcfa3JDtve88",
      "include_colab_link": true
    },
    "kernelspec": {
      "name": "python3",
      "display_name": "Python 3"
    }
  },
  "cells": [
    {
      "cell_type": "markdown",
      "metadata": {
        "id": "view-in-github",
        "colab_type": "text"
      },
      "source": [
        "<a href=\"https://colab.research.google.com/github/wjdgoruds2/Machine_Learning/blob/main/AdaBoost_classifier.ipynb\" target=\"_parent\"><img src=\"https://colab.research.google.com/assets/colab-badge.svg\" alt=\"Open In Colab\"/></a>"
      ]
    },
    {
      "cell_type": "code",
      "metadata": {
        "colab": {
          "base_uri": "https://localhost:8080/"
        },
        "id": "83pJPM0_gs7C",
        "outputId": "132e07bc-2997-44dc-8a5f-f92d8e23e7e2"
      },
      "source": [
        "from sklearn import datasets\r\n",
        "from sklearn.model_selection import train_test_split\r\n",
        "from sklearn.ensemble import AdaBoostClassifier\r\n",
        "from sklearn import metrics\r\n",
        "iris=datasets.load_iris()\r\n",
        "X=iris.data\r\n",
        "y=iris.target\r\n",
        "X_train,X_test,y_train,y_test=train_test_split(X,y,test_size=0.3)\r\n",
        "\r\n",
        "abc=AdaBoostClassifier(n_estimators=50,learning_rate=1)\r\n",
        "model=abc.fit(X_train,y_train)\r\n",
        "\r\n",
        "y_pred=model.predict(X_test)\r\n",
        "print(\"Accuracy:\",metrics.accuracy_score(y_test,y_pred))\r\n"
      ],
      "execution_count": 29,
      "outputs": [
        {
          "output_type": "stream",
          "text": [
            "Accuracy: 0.9555555555555556\n"
          ],
          "name": "stdout"
        }
      ]
    }
  ]
}