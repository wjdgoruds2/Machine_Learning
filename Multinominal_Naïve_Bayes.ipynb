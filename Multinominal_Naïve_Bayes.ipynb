{
  "nbformat": 4,
  "nbformat_minor": 0,
  "metadata": {
    "colab": {
      "name": "Untitled4.ipynb",
      "provenance": [],
      "authorship_tag": "ABX9TyOo1BTyOORKfnnpxqRcRIP9",
      "include_colab_link": true
    },
    "kernelspec": {
      "name": "python3",
      "display_name": "Python 3"
    },
    "language_info": {
      "name": "python"
    }
  },
  "cells": [
    {
      "cell_type": "markdown",
      "metadata": {
        "id": "view-in-github",
        "colab_type": "text"
      },
      "source": [
        "<a href=\"https://colab.research.google.com/github/wjdgoruds2/Machine_Learning/blob/main/Multinominal_Na%C3%AFve_Bayes.ipynb\" target=\"_parent\"><img src=\"https://colab.research.google.com/assets/colab-badge.svg\" alt=\"Open In Colab\"/></a>"
      ]
    },
    {
      "cell_type": "code",
      "metadata": {
        "colab": {
          "base_uri": "https://localhost:8080/"
        },
        "id": "gnIyY0W3Z1OX",
        "outputId": "7c7ef7c4-5e6b-4fbb-fdf6-472027e16dd2"
      },
      "source": [
        "import numpy as np#배열 사용\n",
        "import pandas as pd #데이터 분석을 위한 pandas\n",
        "from sklearn.feature_extraction.text import CountVectorizer#단어 카운트\n",
        "from sklearn.naive_bayes import MultinomialNB #다항 분포\n",
        "from sklearn.metrics import accuracy_score#정확도 평가\n",
        "\n",
        "review_list=[{'review':'This is a great movie.I will watch again','type':'positive'}, #데이터 6개 표현\n",
        "            {'review':'I like this movie','type':'positive'},\n",
        "            {'review':'amazing movie this year','type':'positive'},\n",
        "            {'review':'cool my boyfriend also said the movie is chool','type':'positive'},\n",
        "            {'review':'awesome of the awesome movie ever','type':'positive'},\n",
        "            {'review':'shame I waste money and time','type':'negative'},\n",
        "            {'review':'regret on this movie.I will never never what movie from this director','type':'negative'},\n",
        "            {'review':'I do not like this movie','type':'negative'},\n",
        "            {'review':'I do not like actors in this movie','type':'negative'},\n",
        "            {'review':'boring boring sleeping movie','type':'negative'},]\n",
        "df=pd.DataFrame(review_list)#review_list로 데이터 프레임 생성\n",
        "df['label']=df['type'].map({'positive':1,'negative':0})#type의 'positive','negative'구분\n",
        "df_x=df['review']#x축설정\n",
        "df_y=df['label']#y축 설정\n",
        "\n",
        "cv=CountVectorizer()#단어들의 카운트로 카툰트 행렬\n",
        "x_traincv=cv.fit_transform(df_x)#평균과 표준편차 계산후 정규화\n",
        "encoded_input=x_traincv.toarray()#배열 반환\n",
        "print('\\n벡터 표현\\n',encoded_input)#배열 출력\n",
        "print('\\n벡터의 원소 위치별 단어\\n',cv.get_feature_names())#feature단어 목록 보기\n",
        "\n",
        "test_review_list=[{'review':'great great great movie ever','type':'positive'}, #x테스트 데이터 6개 \n",
        "            {'review':'I like this amazing movie','type':'positive'},\n",
        "            {'review':'my boyfriend said great movie ever','type':'positive'},\n",
        "            {'review':'cool cool cool','type':'positive'},\n",
        "            {'review':'awesome boyfriend said cool movie ever','type':'positive'},\n",
        "            {'review':'shame shame shame','type':'negative'},\n",
        "            {'review':'awesome director shame movie boring movie','type':'negative'},\n",
        "            {'review':'do not like this movie','type':'negative'},\n",
        "            {'review':'I do not like this boring movie','type':'negative'},\n",
        "            {'review':'awful terrible boring movie','type':'negative'},]\n",
        "\n",
        "test_df=pd.DataFrame(test_review_list)#test_review_list 데이터 프레임 생성\n",
        "test_df['label']=test_df['type'].map({'positive':1,'negative':0})#type의 'positive','negative'구분\n",
        "test_x=test_df['review']#x축설정\n",
        "test_y=test_df['label']#y축 설정\n",
        "\n",
        "x_testcv=cv.transform(test_x)#평균과 표준편차 계산후 정규화\n",
        "\n",
        "Mnb=MultinomialNB()#다항 분포\n",
        "y_train=df_y.astype('int')#숫자형으로 바꾸기\n",
        "Mnb.fit(x_traincv,y_train)#평균과 표준편차 구함\n",
        "predicted_y=Mnb.predict(x_testcv)#x_testcv사용 예측 값 계산\n",
        "print(\"\\n** ground truth **\\n\",test_y)\n",
        "print(\"\\n** 예측치 **\\n\",predicted_y)\n",
        "accuracy=accuracy_score(test_y,predicted_y)#정확도 계산\n",
        "print('\\n** 정확도 **\\n',accuracy)\n",
        "\n",
        "\n",
        "\n",
        "\n"
      ],
      "execution_count": 17,
      "outputs": [
        {
          "output_type": "stream",
          "text": [
            "\n",
            "벡터 표현\n",
            " [[0 1 0 0 0 0 0 0 0 0 0 0 0 0 1 0 1 0 0 1 0 0 0 0 0 0 0 0 0 0 1 0 0 1 0 1\n",
            "  0]\n",
            " [0 0 0 0 0 0 0 0 0 0 0 0 0 0 0 0 0 1 0 1 0 0 0 0 0 0 0 0 0 0 1 0 0 0 0 0\n",
            "  0]\n",
            " [0 0 0 1 0 0 0 0 0 0 0 0 0 0 0 0 0 0 0 1 0 0 0 0 0 0 0 0 0 0 1 0 0 0 0 0\n",
            "  1]\n",
            " [0 0 1 0 0 0 0 1 1 1 0 0 0 0 0 0 1 0 0 1 1 0 0 0 0 0 1 0 0 1 0 0 0 0 0 0\n",
            "  0]\n",
            " [0 0 0 0 0 2 0 0 0 0 0 0 1 0 0 0 0 0 0 1 0 0 0 1 0 0 0 0 0 1 0 0 0 0 0 0\n",
            "  0]\n",
            " [0 0 0 0 1 0 0 0 0 0 0 0 0 0 0 0 0 0 1 0 0 0 0 0 0 0 0 1 0 0 0 1 1 0 0 0\n",
            "  0]\n",
            " [0 0 0 0 0 0 0 0 0 0 1 0 0 1 0 0 0 0 0 2 0 2 0 0 1 1 0 0 0 0 2 0 0 0 1 1\n",
            "  0]\n",
            " [0 0 0 0 0 0 0 0 0 0 0 1 0 0 0 0 0 1 0 1 0 0 1 0 0 0 0 0 0 0 1 0 0 0 0 0\n",
            "  0]\n",
            " [1 0 0 0 0 0 0 0 0 0 0 1 0 0 0 1 0 1 0 1 0 0 1 0 0 0 0 0 0 0 1 0 0 0 0 0\n",
            "  0]\n",
            " [0 0 0 0 0 0 2 0 0 0 0 0 0 0 0 0 0 0 0 1 0 0 0 0 0 0 0 0 1 0 0 0 0 0 0 0\n",
            "  0]]\n",
            "\n",
            "벡터의 원소 위치별 단어\n",
            " ['actors', 'again', 'also', 'amazing', 'and', 'awesome', 'boring', 'boyfriend', 'chool', 'cool', 'director', 'do', 'ever', 'from', 'great', 'in', 'is', 'like', 'money', 'movie', 'my', 'never', 'not', 'of', 'on', 'regret', 'said', 'shame', 'sleeping', 'the', 'this', 'time', 'waste', 'watch', 'what', 'will', 'year']\n",
            "\n",
            "** ground truth **\n",
            " 0    1\n",
            "1    1\n",
            "2    1\n",
            "3    1\n",
            "4    1\n",
            "5    0\n",
            "6    0\n",
            "7    0\n",
            "8    0\n",
            "9    0\n",
            "Name: label, dtype: int64\n",
            "\n",
            "** 예측치 **\n",
            " [1 1 1 1 1 0 0 0 0 0]\n",
            "\n",
            "** 정확도 **\n",
            " 1.0\n"
          ],
          "name": "stdout"
        }
      ]
    }
  ]
}