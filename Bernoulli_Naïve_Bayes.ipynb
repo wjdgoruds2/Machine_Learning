{
  "nbformat": 4,
  "nbformat_minor": 0,
  "metadata": {
    "colab": {
      "name": "Untitled4.ipynb",
      "provenance": [],
      "authorship_tag": "ABX9TyOz+YnqThG536jRzjJWgdVN",
      "include_colab_link": true
    },
    "kernelspec": {
      "name": "python3",
      "display_name": "Python 3"
    },
    "language_info": {
      "name": "python"
    }
  },
  "cells": [
    {
      "cell_type": "markdown",
      "metadata": {
        "id": "view-in-github",
        "colab_type": "text"
      },
      "source": [
        "<a href=\"https://colab.research.google.com/github/wjdgoruds2/Machine_Learning/blob/main/Bernoulli_Na%C3%AFve_Bayes.ipynb\" target=\"_parent\"><img src=\"https://colab.research.google.com/assets/colab-badge.svg\" alt=\"Open In Colab\"/></a>"
      ]
    },
    {
      "cell_type": "code",
      "metadata": {
        "colab": {
          "base_uri": "https://localhost:8080/"
        },
        "id": "gnIyY0W3Z1OX",
        "outputId": "1e3a3cdf-3420-47d6-9f8d-6f584d8c2ce7"
      },
      "source": [
        "import numpy as np#배열 사용\n",
        "import pandas as pd #데이터 분석을 위한 pandas\n",
        "from sklearn.feature_extraction.text import CountVectorizer\n",
        "from sklearn.naive_bayes import BernoulliNB#베르누이 단순 베이즈 분류기\n",
        "from sklearn.metrics import accuracy_score#정확도 평가\n",
        "\n",
        "email_list=[{'title':'free game only today','spam':True}, #데이터 6개 표현\n",
        "            {'title':'cheapest flight deal','spam':True},\n",
        "            {'title':'limited time offer only today only today','spam':True},\n",
        "            {'title':'your flight schedule attached','spam':False},\n",
        "            {'title':'today meeting schedule','spam':False},\n",
        "            {'title':'your credit card statement','spam':False},]\n",
        "df=pd.DataFrame(email_list)#email_list로 데이터 프레임 생성\n",
        "\n",
        "df['label']=df['spam'].map({True:1,False:0})#spam의 True,False구분\n",
        "df_x=df['title']#x축설정\n",
        "df_y=df['label']#y축 설정\n",
        "print(\"**데이터**\\n\",df)\n",
        "\n",
        "cv=CountVectorizer(binary=True)#단어들의 카운트로 카툰트 행렬\n",
        "x_traincv=cv.fit_transform(df_x)#평균과 표준편차 계산후 정규화\n",
        "print('\\n변환된 데이터 표현(1~2번째 이메일)**\\n',x_traincv[0:2])#1~2번째 메일 분석 출력\n",
        "\n",
        "encoded_input=x_traincv.toarray()#배열 반환\n",
        "print('\\n**이진 벡터 표현 **\\n',encoded_input)#배열 출력\n",
        "\n",
        "print('\\n**벡터 위치별 대응 단어 **\\n',cv.get_feature_names())#feature단어 목록 보기\n",
        "print('\\n**첫번째 벡터에 대응하는 단어들 **\\n',cv.inverse_transform(encoded_input[0]))#첫번째 행렬\n",
        "Bnb=BernoulliNB()#베르누이 분류기\n",
        "y_train=df_y.astype('int')#숫자형으로 바꾸기\n",
        "Bnb.fit(x_traincv,y_train)#평균과 표준편차 구함\n",
        "\n",
        "test_email_list=[{'title':'free flight offer','spam':True},#test데이터 6개 생성\n",
        "            {'title':'hey traveler free flight deal','spam':True},\n",
        "            {'title':'limited free game offer','spam':True},\n",
        "            {'title':'today flight schedule','spam':False},\n",
        "            {'title':'your credit card attached','spam':False},\n",
        "            {'title':'free credit card offer only today','spam':False},]\n",
        "\n",
        "test_df=pd.DataFrame(test_email_list)#test_email_list로 데이터 프레임 생성\n",
        "test_df['label']=test_df['spam'].map({True:1,False:0})#spam의 True,False구분\n",
        "test_x=test_df['title']#x축설정\n",
        "test_y=test_df['label']#y축 설정\n",
        "x_testcv=cv.transform(test_x))#평균과 표준편차 계산후 정규화\n",
        "\n",
        "predicted_y=Bnb.predict(x_testcv)#x_testcv사용 예측 값 계산\n",
        "print(\"\\n Predicted Label **\\n\",predicted_y)\n",
        "accuracy=accuracy_score(test_y,predicted_y)#정확도 계산\n",
        "print('\\nAccuracy=',accuracy)\n"
      ],
      "execution_count": 15,
      "outputs": [
        {
          "output_type": "stream",
          "text": [
            "**데이터**\n",
            "                                       title   spam  label\n",
            "0                      free game only today   True      1\n",
            "1                      cheapest flight deal   True      1\n",
            "2  limited time offer only today only today   True      1\n",
            "3             your flight schedule attached  False      0\n",
            "4                    today meeting schedule  False      0\n",
            "5                your credit card statement  False      0\n",
            "\n",
            "변환된 데이터 표현(1~2번째 이메일)**\n",
            "   (0, 6)\t1\n",
            "  (0, 7)\t1\n",
            "  (0, 11)\t1\n",
            "  (0, 15)\t1\n",
            "  (1, 2)\t1\n",
            "  (1, 5)\t1\n",
            "  (1, 4)\t1\n",
            "\n",
            "**이진 벡터 표현 **\n",
            " [[0 0 0 0 0 0 1 1 0 0 0 1 0 0 0 1 0]\n",
            " [0 0 1 0 1 1 0 0 0 0 0 0 0 0 0 0 0]\n",
            " [0 0 0 0 0 0 0 0 1 0 1 1 0 0 1 1 0]\n",
            " [1 0 0 0 0 1 0 0 0 0 0 0 1 0 0 0 1]\n",
            " [0 0 0 0 0 0 0 0 0 1 0 0 1 0 0 1 0]\n",
            " [0 1 0 1 0 0 0 0 0 0 0 0 0 1 0 0 1]]\n",
            "\n",
            "**벡터 위치별 대응 단어 **\n",
            " ['attached', 'card', 'cheapest', 'credit', 'deal', 'flight', 'free', 'game', 'limited', 'meeting', 'offer', 'only', 'schedule', 'statement', 'time', 'today', 'your']\n",
            "\n",
            "**첫번째 벡터에 대응하는 단어들 **\n",
            " [array(['free', 'game', 'only', 'today'], dtype='<U9')]\n",
            "\n",
            " Predicted Label **\n",
            " [1 1 1 0 0 1]\n",
            "\n",
            "Accuracy= 0.8333333333333334\n"
          ],
          "name": "stdout"
        }
      ]
    }
  ]
}