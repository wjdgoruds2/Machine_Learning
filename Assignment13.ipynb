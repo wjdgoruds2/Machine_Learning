{
  "nbformat": 4,
  "nbformat_minor": 0,
  "metadata": {
    "colab": {
      "name": "Assignment13.ipynb",
      "provenance": [],
      "collapsed_sections": [],
      "authorship_tag": "ABX9TyPrrFThDPKubvdZI1XbtvhX",
      "include_colab_link": true
    },
    "kernelspec": {
      "name": "python3",
      "display_name": "Python 3"
    },
    "language_info": {
      "name": "python"
    }
  },
  "cells": [
    {
      "cell_type": "markdown",
      "metadata": {
        "id": "view-in-github",
        "colab_type": "text"
      },
      "source": [
        "<a href=\"https://colab.research.google.com/github/wjdgoruds2/Machine_Learning/blob/main/Assignment13.ipynb\" target=\"_parent\"><img src=\"https://colab.research.google.com/assets/colab-badge.svg\" alt=\"Open In Colab\"/></a>"
      ]
    },
    {
      "cell_type": "markdown",
      "metadata": {
        "id": "qD2jXdUu_Pf0"
      },
      "source": [
        "**RUN의 동작**"
      ]
    },
    {
      "cell_type": "code",
      "metadata": {
        "colab": {
          "base_uri": "https://localhost:8080/"
        },
        "id": "4oYvVR46_Lap",
        "outputId": "d849058a-6de2-4c02-f21e-6b97d6280de7"
      },
      "source": [
        "import torch#pytorch사용\n",
        "import torch.nn as nn#신경망 사용\n",
        "import torch.nn.functional as F\n",
        "\n",
        "class SimpleRNN(nn.Module):\n",
        "  def __init__(self,batch_size,n_inputs,n_neurons,n_outputs):\n",
        "    super(SimpleRNN,self).__init__()#각 레이어들을 정의\n",
        "    self.U=torch.randn(n_inputs,n_neurons)#입력->은닉 가중치\n",
        "    self.W=torch.randn(n_neurons,n_neurons)#은닉->은닉 가중치\n",
        "    self.V=torch.randn(n_neurons,n_outputs)#은닉->출력 가중치\n",
        "    self.h=torch.randn(batch_size,n_neurons)#은닉층\n",
        "    self.b=torch.zeros(1,n_neurons)#은닉층 계산을 위한 편향\n",
        "    self.c=torch.zeros(1,n_outputs)#출력층 계산을 위한 편향\n",
        "  def forward(self,X):\n",
        "    s=torch.mm(X,self.U)+torch.mm(self.h,self.W)+self.b#입력->은닉 가중치,은닉->은닉 가중치,은닉층 계산을 위한 편향을 통해 은닉층을 위한 값 계산\n",
        "    self.h=torch.tanh(s)#은닉층 계산\n",
        "    o=torch.mm(s,self.V)+self.c#은닉->출력 가중치,출력층 계산을 위한 편향을 통해 출력층을 위한 값 계산\n",
        "    f=F.softmax(o,dim=0)#출력층 계산\n",
        "    return f,self.h#출력층과 은닉층 반환\n",
        "\n",
        "n_input=3;n_neurons=5;n_output=2;batch_size=4#입력,출력,n_neurons 수,한번에 넘기는 데이터 크기 설정\n",
        "model=SimpleRNN(batch_size,n_input,n_neurons,n_output)#RNN계산\n",
        "temp=[[[0,1,2],[3,4,5],[6,7,8],[9,0,1]],[[9,8,7],[0,0,0],[6,5,4],[3,2,1]]]#현재 배열 설정\n",
        "batch=torch.tensor(temp,dtype=torch.float)#temp배열을 tensor로 변환\n",
        "\n",
        "for i in range(2):\n",
        "  output,hidden_state=model(batch[i])#현재 배열 temp RNN시킨 출력과 은닉 tensor\n",
        "  print('output:',output)#출력층 tensor출력\n",
        "  print('hidden state:',hidden_state)#은닉층 tensor출력\n"
      ],
      "execution_count": null,
      "outputs": [
        {
          "output_type": "stream",
          "text": [
            "output: tensor([[2.4247e-27, 9.4970e-07],\n",
            "        [9.4152e-29, 5.1237e-03],\n",
            "        [8.0834e-35, 9.9488e-01],\n",
            "        [1.0000e+00, 1.7156e-12]])\n",
            "hidden state: tensor([[ 0.3646,  0.6920,  0.9295,  1.0000,  0.9919],\n",
            "        [ 0.8487, -1.0000,  0.9601,  1.0000,  1.0000],\n",
            "        [-0.9143, -1.0000,  0.8548,  1.0000,  1.0000],\n",
            "        [ 0.9928, -1.0000, -1.0000,  0.9876, -1.0000]])\n",
            "output: tensor([[2.5839e-14, 9.4434e-01],\n",
            "        [9.9718e-01, 1.3423e-06],\n",
            "        [3.3635e-08, 5.5661e-02],\n",
            "        [2.8207e-03, 9.0243e-07]])\n",
            "hidden state: tensor([[-1.0000, -1.0000, -0.9891,  1.0000,  0.9991],\n",
            "        [ 0.9976,  0.3904, -0.9420, -0.9896, -0.9419],\n",
            "        [-0.6669, -1.0000, -0.6790,  1.0000,  0.8979],\n",
            "        [-0.2832, -1.0000, -0.9653, -0.9294, -0.7651]])\n"
          ],
          "name": "stdout"
        }
      ]
    },
    {
      "cell_type": "markdown",
      "metadata": {
        "id": "d0Z48_fbBVos"
      },
      "source": [
        "**RNN을 이용한 언어 모델**"
      ]
    },
    {
      "cell_type": "code",
      "metadata": {
        "colab": {
          "resources": {
            "http://localhost:8080/nbextensions/google.colab/files.js": {
              "data": "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",
              "ok": true,
              "headers": [
                [
                  "content-type",
                  "application/javascript"
                ]
              ],
              "status": 200,
              "status_text": ""
            }
          },
          "base_uri": "https://localhost:8080/",
          "height": 76
        },
        "id": "7WhnR_F_Sz5y",
        "outputId": "ba2a2777-d1b1-4b50-b617-d8e8d1335ee9"
      },
      "source": [
        "from google.colab import files\n",
        "myfile = files.upload()"
      ],
      "execution_count": null,
      "outputs": [
        {
          "output_type": "display_data",
          "data": {
            "text/html": [
              "\n",
              "     <input type=\"file\" id=\"files-50c6fa0a-cbee-442e-bd34-def87cac0c44\" name=\"files[]\" multiple disabled\n",
              "        style=\"border:none\" />\n",
              "     <output id=\"result-50c6fa0a-cbee-442e-bd34-def87cac0c44\">\n",
              "      Upload widget is only available when the cell has been executed in the\n",
              "      current browser session. Please rerun this cell to enable.\n",
              "      </output>\n",
              "      <script src=\"/nbextensions/google.colab/files.js\"></script> "
            ],
            "text/plain": [
              "<IPython.core.display.HTML object>"
            ]
          },
          "metadata": {
            "tags": []
          }
        },
        {
          "output_type": "stream",
          "text": [
            "Saving korean_bible.txt to korean_bible (2).txt\n"
          ],
          "name": "stdout"
        }
      ]
    },
    {
      "cell_type": "code",
      "metadata": {
        "colab": {
          "base_uri": "https://localhost:8080/",
          "height": 894
        },
        "id": "VFiKMz-5BZrn",
        "outputId": "b49363e4-ff50-48b8-a5b9-01c21966b870"
      },
      "source": [
        "import numpy as np#배열 사용\n",
        "\n",
        "data=open('korean_bible (2).txt','rt',encoding='cp949').read()#korean_bible.txt 파일 열기\n",
        "chars=list(set(data))#data내용 리스트화\n",
        "data_size,vocab_size=len(data),len(chars)#데이터 사이즈와 문자 개수 설정\n",
        "print('전체 문자 개수:%d,구별되는 문자 개수:%d'%(data_size,vocab_size))#전체 문자 개수,문자 개수 출력\n",
        "\n",
        "char_to_ix={ch:i for i,ch in enumerate(chars)}# 고유한 글자들(a,b,c,d...)을 숫자(1,2,3,4...)에 매핑하는 사전\n",
        "ix_to_char={i:ch for i,ch in enumerate(chars)}#반대 기능을 수행하는 사전\n",
        "print(char_to_ix)#글자:숫자 출력\n",
        "print(ix_to_char)#숫자:글자 출력\n",
        "\n",
        "hidden_size=100# hidden state의 뉴런 갯수\n",
        "seq_length=25# 학습시킬 때 한번에 불러올 글자 수이자 RNN을 펼쳤을 때의 단계\n",
        "learning_rate=1e-1# 학습속도, 가중치를 조정할 때 이동할 간격\n",
        "\n",
        "U=np.random.randn(hidden_size,vocab_size)*0.01#입력->은닉 가중치(100,25)\n",
        "W=np.random.randn(hidden_size,hidden_size)*0.01#은닉->은닉 가중치(100,100)\n",
        "V=np.random.randn(vocab_size,hidden_size)*0.01#은닉->출력 가증치(25,100)\n",
        "b=np.zeros((hidden_size,1))#은닉 편향(100,1)\n",
        "c=np.zeros((vocab_size,1))#출력 편향(25,1)\n",
        "\n",
        "def evalLossGradientHstate(inputs,targets,hprev):\n",
        "  xs,hs,os,ys={},{},{},{}\n",
        "  hs[-1]=np.copy(hprev)\n",
        "  loss=0\n",
        "\n",
        "  for t in range(len(inputs)):\n",
        "    xs[t]=np.zeros((vocab_size,1))# 1-of-k(one-hot) 형태로 변환. 모든 값이 0인 array 준비\n",
        "    xs[t][inputs[t]]=1# 해당하는 글자에만 값을 1\n",
        "    hs[t]=np.tanh(np.dot(U,xs[t])+np.dot(W,hs[t-1])+b)#은닉상태 업데이트\n",
        "    os[t]=np.dot(V,hs[t])+c# 다음 글자가 어떤 글자가 나올지에 가능성을 표시한 array\n",
        "    ys[t]=np.exp(os[t])/np.sum(np.exp(os[t]))#softmax로 각 글자의 등장 가능성을 확률로 표시\n",
        "    loss+=-np.log(ys[t][targets[t],0])#cross-entropy를 이용하여 정답과 비교하여 손실값 판정\n",
        " \n",
        "  dU,dW,dV= np.zeros_like(U), np.zeros_like(W), np.zeros_like(V)# 변수 초기화\n",
        "  db,dc=np.zeros_like(b), np.zeros_like(c)# 변수 초기화\n",
        "  dhh= np.zeros_like(hs[0])# 변수 초기화\n",
        "  for t in reversed(range(len(inputs))): #forward pass의 과정을 반대로 진행(t=24부터 시작)\n",
        "    do=np.copy(ys[t])\n",
        "    do[targets[t]] -= 1 # y의 그래디언트 계산, softmax 함수의 그래디언트 계산\n",
        "    dV+=np.dot(do,hs[t].T) \n",
        "    dc+=do\n",
        "    dh=np.dot(V.T,do)+dhh # loss에서 사용된 h와 h를 업데이트한 계산의 그래디언트 값을 더함\n",
        "    dhHs=(1-hs[t]*hs[t])*dh # tanh 역전파\n",
        "    db+=dhHs\n",
        "    dU+=np.dot(dhHs,xs[t].T)\n",
        "    dW+=np.dot(dhHs,hs[t-1].T)\n",
        "    dhh=np.dot(W.T, dhHs)\n",
        "  for dparam in [dU,dW,dV,db,dc]:\n",
        "    np.clip(dparam,-5,5,out=dparam) # 그래디언트 발산 방지\n",
        "  return loss,dU,dW,dV,db,dc,hs[len(inputs)-1]\n",
        "\n",
        "def generateText(h, seed_ix, n):\n",
        "  x = np.zeros((vocab_size, 1))#vocab_size,1 배열 초기화\n",
        "  x[seed_ix] = 1#첫번째 글자 1로 설정\n",
        "\n",
        "  ixes = []#결과 배열\n",
        "  for t in range(n):\n",
        "    # forward pass 수행\n",
        "    h = np.tanh(np.dot(U,x) + np.dot(W, h) + b)#은닉층 계산\n",
        "    o = np.dot(V, h) + c#출력층 계산\n",
        "    y = np.exp(o) / np.sum(np.exp(o))\n",
        "    ix = np.random.choice(range(vocab_size), p=y.ravel()) # 샘플링. 임의성을 부여하기 위해 argmax대신 array p에서 주어진 확률에 의해 하나의 문자를 선택\n",
        "    x = np.zeros((vocab_size, 1)) # 다음 글자 추론을 위해 샘플링 된 글자를 다음 입력으로 사용 \n",
        "    x[ix] = 1\n",
        "    ixes.append(ix) # 결과값 리스트에 추가\n",
        "  txt=''.join(ix_to_char[ix] for ix in ixes)\n",
        "  print('----\\n %s \\n----' % (txt, ))\n",
        "\n",
        "print('학습 전 모델의 문자 생성')\n",
        "hprev=np.zeros((hidden_size,1))\n",
        "generateText(hprev,0,200)\n",
        "\n",
        "n, p = 0, 0 #  반복 회수(n) 및 입력 데이터(p) 위치 초기화 \n",
        "\n",
        "# Adagrad 알고리즘에 사용되는 메모리 변수 초기화\n",
        "mU,mW,mV= np.zeros_like(U), np.zeros_like(W), np.zeros_like(V)\n",
        "mb,mc = np.zeros_like(b), np.zeros_like(c) \n",
        "smooth_loss = -np.log(1.0/vocab_size)*seq_length # 학습이 이루어지기 전의 손실값\n",
        "while n<= 1000*1500:\n",
        "  # 입력데이터 준비, 텍스트의 맨 앞쪽부터 seq_length만큼씩 데이터를 준비\n",
        "  # 데이터를 모두 사용하면 입력 데이터의 맨 처음으로 이동\n",
        "  if p+seq_length+1 >= len(data) or n == 0: \n",
        "    hprev = np.zeros((hidden_size,1)) # RNN 메모리 초기화\n",
        "    p = 0 # 입력 데이터의 맨 처음으로 이동\n",
        "  \n",
        "  # 입력(p~p+24번째 글자), 목표(p+1~p+25번째 글자) 데이터를 준비 \n",
        "  inputs = [char_to_ix[ch] for ch in data[p:p+seq_length]]\n",
        "  targets = [char_to_ix[ch] for ch in data[p+1:p+seq_length+1]]\n",
        "\n",
        "  # 손실함수에서 손실값과 그래디언트를 함께 계산\n",
        "  loss,dU,dW,dV,db,dc,hprev = evalLossGradientHstate(inputs, targets, hprev)\n",
        "  smooth_loss = smooth_loss * 0.999 + loss * 0.001\n",
        "  \n",
        "  # 학습을 5000번 반복할 때마다 학습 결과를 출력\n",
        "  if n % 5000 == 0:\n",
        "    print('iter %d,loss:%f'%(n,smooth_loss)) # 반복횟수, 손실 출력\n",
        "    generateText(hprev,inputs[0],200) #지금까지 학습한 RNN을 이용하여 숫자의 리스트를 출력\n",
        "  \n",
        "  # Adagrad 방식으로 파라미터 업데이트\n",
        "  for param, dparam, mem in zip([U,W,V,b,c],   # 가중치\n",
        "                                [dU,dW,dV,db,dc],  # 그래디언트\n",
        "                                [mU,mW,mV,mb,mc]): # 메모리 \n",
        "    mem += dparam * dparam\n",
        "    param += -learning_rate * dparam / np.sqrt(mem + 1e-8) # 실제 파라메터 업데이트\n",
        "\n",
        "  p += seq_length # 데이터 포인터를 seq_length만큼 우측으로 이동\n",
        "  n += 1 # 반복횟수 카운터"
      ],
      "execution_count": null,
      "outputs": [
        {
          "output_type": "stream",
          "text": [
            "전체 문자 개수:5432012,구별되는 문자 개수:1294\n",
            "{'셨': 0, '육': 1, '옴': 2, '별': 3, '좽': 4, '뜬': 5, '혐': 6, '뚤': 7, '얘': 8, '델': 9, '뭇': 10, '레': 11, '쓸': 12, '존': 13, '격': 14, '윔': 15, '둥': 16, '푼': 17, '덱': 18, '뢰': 19, '홧': 20, '꼬': 21, '였': 22, '샅': 23, '짊': 24, '겪': 25, '붊': 26, '퀴': 27, '굵': 28, '뇌': 29, '매': 30, '줌': 31, '빌': 32, '헤': 33, '벽': 34, '운': 35, '워': 36, '시': 37, '괜': 38, '흰': 39, '항': 40, '숟': 41, '잎': 42, '덩': 43, '락': 44, '덫': 45, '삶': 46, '찌': 47, '해': 48, 'e': 49, '실': 50, '울': 51, '밑': 52, '띠': 53, '끈': 54, '줏': 55, '딱': 56, '닌': 57, '뻑': 58, '중': 59, '륜': 60, '랏': 61, '쏨': 62, '룽': 63, '윌': 64, '흉': 65, '볍': 66, '돋': 67, '렁': 68, '오': 69, '릎': 70, '깥': 71, '딤': 72, '뒷': 73, '로': 74, '사': 75, '덕': 76, '볼': 77, '갖': 78, '싯': 79, '흥': 80, '징': 81, '씬': 82, '에': 83, '!': 84, '창': 85, '늠': 86, 'k': 87, '메': 88, '으': 89, '쟀': 90, '것': 91, '축': 92, '홋': 93, 'i': 94, '씹': 95, '훅': 96, '릿': 97, '번': 98, '습': 99, '잊': 100, '칠': 101, '땅': 102, '쁨': 103, '혹': 104, '윙': 105, '어': 106, '른': 107, '꿈': 108, '끊': 109, '손': 110, '섬': 111, '딪': 112, '깊': 113, '랸': 114, '냄': 115, '고': 116, '땔': 117, '훔': 118, '뭉': 119, '언': 120, '맙': 121, '젯': 122, '응': 123, '숴': 124, '파': 125, '며': 126, '쨌': 127, '경': 128, '압': 129, '멧': 130, '뒹': 131, '젠': 132, '탉': 133, '트': 134, '채': 135, '갑': 136, '꽉': 137, '켤': 138, '묽': 139, '맹': 140, '니': 141, '귓': 142, '풀': 143, '녁': 144, '헬': 145, '긴': 146, '독': 147, '뜯': 148, '묘': 149, '붉': 150, '뜰': 151, '럽': 152, '맥': 153, '돌': 154, '뛰': 155, '넴': 156, '껏': 157, '늑': 158, '눕': 159, '방': 160, '쉼': 161, '곡': 162, '횃': 163, '꾈': 164, '엡': 165, '렴': 166, '싹': 167, '얌': 168, '르': 169, '학': 170, '넉': 171, '험': 172, '뺌': 173, '편': 174, '상': 175, '뜨': 176, '꾀': 177, '람': 178, '온': 179, '닙': 180, 'ㄹ': 181, '싸': 182, '쌍': 183, '흐': 184, '샛': 185, '술': 186, '받': 187, '뙤': 188, '닢': 189, '말': 190, '친': 191, '딥': 192, '던': 193, '름': 194, '엔': 195, '삯': 196, '꺾': 197, '쓰': 198, '얽': 199, '림': 200, '긍': 201, '컫': 202, '김': 203, '컬': 204, '책': 205, '장': 206, '노': 207, '홀': 208, '윽': 209, '례': 210, '믿': 211, '쉴': 212, '햇': 213, '컨': 214, '쌔': 215, '색': 216, '칙': 217, '짓': 218, '셔': 219, '덧': 220, '네': 221, '측': 222, '핍': 223, '빙': 224, '탐': 225, '다': 226, '쉬': 227, '누': 228, '클': 229, '버': 230, '귀': 231, '궤': 232, '이': 233, '곰': 234, '몇': 235, '넝': 236, '덮': 237, '뱌': 238, '강': 239, '푸': 240, '봉': 241, '녹': 242, '욥': 243, '뼉': 244, '젖': 245, '늬': 246, '처': 247, '줄': 248, '연': 249, '러': 250, '인': 251, '숱': 252, '객': 253, ')': 254, 'f': 255, '는': 256, '평': 257, '땁': 258, '남': 259, '핑': 260, '환': 261, '쩍': 262, '헷': 263, '벡': 264, '도': 265, '새': 266, '뭐': 267, '멍': 268, '댕': 269, '빵': 270, '돕': 271, '힘': 272, '갸': 273, '빅': 274, '겨': 275, '찜': 276, '풉': 277, '흑': 278, '퇴': 279, '샴': 280, '죌': 281, '깍': 282, '굶': 283, '뻗': 284, '무': 285, '굼': 286, '렉': 287, '과': 288, '벳': 289, '윳': 290, '하': 291, '춧': 292, '퀸': 293, '터': 294, '골': 295, '뙈': 296, '켜': 297, '웝': 298, '제': 299, '쭐': 300, '꺽': 301, '룰': 302, '따': 303, '칩': 304, '끗': 305, '꺼': 306, '략': 307, '킴': 308, '탕': 309, '현': 310, '잔': 311, '맛': 312, '옥': 313, '(': 314, '엽': 315, '혁': 316, '쪽': 317, '겅': 318, '줍': 319, '예': 320, '립': 321, '똑': 322, '졌': 323, '겐': 324, '걷': 325, '덜': 326, '켓': 327, '대': 328, '뺨': 329, '촉': 330, '롬': 331, '뇨': 332, '나': 333, '쬐': 334, '캄': 335, '쿠': 336, '즘': 337, '절': 338, '럼': 339, '때': 340, '톱': 341, '엷': 342, '위': 343, '랑': 344, '등': 345, '깽': 346, '넌': 347, '룬': 348, '일': 349, '크': 350, '잘': 351, '맵': 352, '씀': 353, '겊': 354, '박': 355, '욕': 356, '닷': 357, '권': 358, '악': 359, '뿔': 360, '먼': 361, '각': 362, '규': 363, '헴': 364, '블': 365, '빼': 366, '견': 367, '맨': 368, '뎀': 369, '셉': 370, '쇠': 371, '능': 372, '옵': 373, '딴': 374, '깐': 375, '없': 376, 'h': 377, '양': 378, '솔': 379, '딘': 380, '꿴': 381, '훼': 382, '랗': 383, '돼': 384, '곯': 385, '신': 386, '맘': 387, '졸': 388, '여': 389, '둑': 390, '뚱': 391, '또': 392, '쟁': 393, '꿇': 394, '늦': 395, '떤': 396, ']': 397, '행': 398, '폐': 399, '좇': 400, '걸': 401, '식': 402, '삭': 403, '글': 404, '넘': 405, '갛': 406, '떳': 407, '앎': 408, '요': 409, '회': 410, '팥': 411, '츰': 412, '킬': 413, '표': 414, '옷': 415, '왕': 416, '핀': 417, '헐': 418, '롯': 419, '꽃': 420, '와': 421, 'd': 422, '짙': 423, '딧': 424, '뗏': 425, '엎': 426, '잡': 427, '셈': 428, '철': 429, '뵈': 430, '거': 431, 'a': 432, '콤': 433, '짚': 434, '휩': 435, '첫': 436, '뚫': 437, '필': 438, '랫': 439, '써': 440, '변': 441, '디': 442, '값': 443, '률': 444, '섣': 445, '밋': 446, '취': 447, '므': 448, '개': 449, '테': 450, '런': 451, '질': 452, '냐': 453, '출': 454, '웻': 455, '쐐': 456, '눈': 457, '롱': 458, '를': 459, '됨': 460, '룹': 461, '꿀': 462, '쭙': 463, '근': 464, '병': 465, '허': 466, '뿌': 467, '탑': 468, '흙': 469, '낼': 470, '안': 471, '몸': 472, '꾸': 473, '얼': 474, '롭': 475, '랍': 476, '탯': 477, 'g': 478, '얄': 479, '닭': 480, '잣': 481, '형': 482, '솟': 483, '당': 484, '덴': 485, '옳': 486, '두': 487, '넣': 488, '복': 489, '혀': 490, '주': 491, '렵': 492, '휼': 493, '슥': 494, '홑': 495, '끄': 496, '데': 497, '총': 498, '털': 499, '께': 500, '돛': 501, '씩': 502, '많': 503, '올': 504, '왓': 505, '지': 506, '돈': 507, '죄': 508, '특': 509, '닐': 510, 'ㅁ': 511, '종': 512, '췌': 513, '눔': 514, '충': 515, '펠': 516, '석': 517, '끼': 518, '뚝': 519, '삼': 520, '몽': 521, '깻': 522, '륙': 523, '년': 524, '굴': 525, '프': 526, '룟': 527, '꽁': 528, '라': 529, '즙': 530, '뱀': 531, '먹': 532, '아': 533, '범': 534, '센': 535, '증': 536, '은': 537, '밀': 538, '욧': 539, '젓': 540, '간': 541, '휙': 542, '믹': 543, '않': 544, '눌': 545, '맑': 546, '잉': 547, '힝': 548, '믈': 549, '합': 550, '꿉': 551, '휴': 552, '샬': 553, '한': 554, '빛': 555, '뵨': 556, '품': 557, '앉': 558, '입': 559, '멩': 560, '핫': 561, '얻': 562, '굳': 563, '딛': 564, '윤': 565, '밥': 566, '훤': 567, '력': 568, '앗': 569, '\\n': 570, '쏘': 571, '뱃': 572, '펴': 573, '체': 574, '「': 575, '애': 576, '훈': 577, '숯': 578, '떡': 579, '웨': 580, '째': 581, '닿': 582, '콧': 583, '굉': 584, '숩': 585, '잠': 586, '밤': 587, '히': 588, '씻': 589, '찰': 590, '논': 591, '빽': 592, '혼': 593, '숭': 594, '쑥': 595, '베': 596, '그': 597, '짝': 598, '부': 599, '확': 600, '훨': 601, '보': 602, '순': 603, '겔': 604, '엉': 605, '덥': 606, '첨': 607, '괭': 608, '긋': 609, '룻': 610, '호': 611, '토': 612, '솜': 613, '가': 614, '엣': 615, '’': 616, '꽂': 617, '급': 618, '떠': 619, '맣': 620, '짜': 621, '밟': 622, '얕': 623, '조': 624, '천': 625, '짤': 626, '군': 627, '웃': 628, '읊': 629, '삿': 630, '촌': 631, '직': 632, '곧': 633, '쉽': 634, '점': 635, '층': 636, '툴': 637, '역': 638, '늘': 639, '렷': 640, '태': 641, '둣': 642, '같': 643, '쯤': 644, '옆': 645, '묵': 646, '궂': 647, '후': 648, '땜': 649, '끓': 650, '놓': 651, '드': 652, '겉': 653, '코': 654, '쏠': 655, '펑': 656, '렇': 657, '흩': 658, '청': 659, '최': 660, '삐': 661, '욱': 662, '황': 663, '씨': 664, '든': 665, '향': 666, '목': 667, '훗': 668, '밧': 669, '뽕': 670, '쌓': 671, '모': 672, '냥': 673, '멘': 674, '귈': 675, '차': 676, '헌': 677, '쫓': 678, '불': 679, '발': 680, '겟': 681, '혔': 682, '팎': 683, '끌': 684, '엾': 685, '썰': 686, '룐': 687, '팡': 688, '넓': 689, '웬': 690, '얍': 691, '빡': 692, '씌': 693, '넬': 694, '벅': 695, '담': 696, '칡': 697, '볶': 698, '곱': 699, '준': 700, '깃': 701, '함': 702, '갗': 703, '헛': 704, '푹': 705, '묻': 706, '감': 707, \"'\": 708, '\\t': 709, '검': 710, '날': 711, '풍': 712, '척': 713, '흔': 714, '혈': 715, '똥': 716, '쉰': 717, '포': 718, '츠': 719, '극': 720, '몫': 721, '퍽': 722, '벧': 723, '할': 724, '교': 725, '섞': 726, '쓴': 727, '샘': 728, '뿐': 729, '앙': 730, '섭': 731, '류': 732, '결': 733, '효': 734, '엑': 735, '옛': 736, '숙': 737, '핥': 738, '타': 739, '짢': 740, '컴': 741, '내': 742, '농': 743, '몬': 744, '액': 745, '튀': 746, '린': 747, '탬': 748, '샐': 749, '갱': 750, '윗': 751, '샤': 752, '넷': 753, '령': 754, '념': 755, '뒤': 756, '텃': 757, '참': 758, '릇': 759, '족': 760, '괘': 761, '툼': 762, '관': 763, '럿': 764, '옭': 765, '엌': 766, '물': 767, '탁': 768, '렐': 769, '얗': 770, '빈': 771, '련': 772, '겝': 773, '착': 774, ':': 775, '뭅': 776, '멱': 777, '쁘': 778, '겠': 779, '솥': 780, '엄': 781, '뻘': 782, '왼': 783, '섹': 784, '엇': 785, '속': 786, '쌀': 787, '움': 788, '만': 789, '곳': 790, '료': 791, '읽': 792, '괴': 793, '의': 794, '얇': 795, 'ㅂ': 796, '길': 797, '바': 798, '낭': 799, '홍': 800, '높': 801, '엿': 802, '뿜': 803, '접': 804, '뼛': 805, '뱉': 806, '마': 807, '꽤': 808, '궁': 809, '꿰': 810, '놀': 811, '승': 812, '멋': 813, '균': 814, '2': 815, '닛': 816, '…': 817, '치': 818, '렙': 819, '리': 820, '떪': 821, '팀': 822, '맡': 823, '달': 824, '룸': 825, '낳': 826, '젊': 827, '딸': 828, '릭': 829, 'c': 830, '집': 831, '빗': 832, '둠': 833, '뚜': 834, '곪': 835, '쿨': 836, '웅': 837, '껍': 838, '숲': 839, '용': 840, '셀': 841, '굽': 842, '잿': 843, '떱': 844, '멤': 845, '첩': 846, '협': 847, '랴': 848, '폄': 849, '유': 850, '겁': 851, '낱': 852, '낚': 853, '공': 854, '큼': 855, '패': 856, 'j': 857, '밝': 858, '힌': 859, '짧': 860, '앞': 861, '생': 862, '칭': 863, '캐': 864, '게': 865, '획': 866, '싣': 867, '찮': 868, '정': 869, '들': 870, '멎': 871, '쥐': 872, '명': 873, '약': 874, '껄': 875, '듭': 876, '래': 877, '멉': 878, '낌': 879, '욘': 880, '뭄': 881, '벼': 882, '뼈': 883, '엊': 884, '뀌': 885, '둡': 886, '우': 887, '수': 888, '백': 889, '적': 890, '너': 891, '냘': 892, '훌': 893, '꾹': 894, '혓': 895, '헨': 896, '랄': 897, '원': 898, '꼼': 899, '듬': 900, '팔': 901, '었': 902, '록': 903, '삥': 904, '낮': 905, '있': 906, '플': 907, '쭈': 908, '겸': 909, '찧': 910, '냇': 911, '[': 912, '탱': 913, '뜸': 914, '잦': 915, '픔': 916, '슬': 917, '놉': 918, '즉': 919, '텅': 920, '민': 921, '열': 922, '갚': 923, '살': 924, '겜': 925, '룁': 926, '비': 927, '뎃': 928, '틀': 929, '뽑': 930, '닳': 931, '못': 932, '힛': 933, '뜻': 934, '긷': 935, '쭉': 936, '망': 937, '」': 938, '춥': 939, '컷': 940, '붑': 941, '찔': 942, '밈': 943, '짐': 944, '덟': 945, '짱': 946, '헙': 947, '콩': 948, '촛': 949, '벌': 950, '롤': 951, '썽': 952, '넛': 953, '텁': 954, '붙': 955, '멜': 956, '작': 957, '스': 958, '느': 959, '국': 960, '싱': 961, '택': 962, '브': 963, '뜩': 964, '빠': 965, '벤': 966, '꾼': 967, '슨': 968, '외': 969, '멕': 970, '왜': 971, '쇄': 972, '앓': 973, '갯': 974, '닫': 975, '긁': 976, '걀': 977, '엠': 978, '섯': 979, '탈': 980, '닻': 981, '꾐': 982, '몹': 983, '님': 984, '?': 985, '찬': 986, '렬': 987, '궐': 988, '묶': 989, '심': 990, '짖': 991, '밉': 992, '튼': 993, '깜': 994, '휘': 995, '엮': 996, '쏜': 997, '려': 998, '미': 999, '댜': 1000, '뢸': 1001, '깔': 1002, '전': 1003, '까': 1004, '피': 1005, '을': 1006, '튕': 1007, '희': 1008, '득': 1009, '럇': 1010, '먀': 1011, '떨': 1012, '곽': 1013, '키': 1014, '섶': 1015, '빕': 1016, '띔': 1017, '숨': 1018, '둔': 1019, '흗': 1020, '붐': 1021, '옮': 1022, '및': 1023, '판': 1024, '턱': 1025, '펼': 1026, '반': 1027, '동': 1028, '봐': 1029, '쳐': 1030, '셋': 1031, '끔': 1032, '랜': 1033, '횟': 1034, '재': 1035, '퍼': 1036, '십': 1037, '냉': 1038, '굿': 1039, '벨': 1040, '벗': 1041, '낙': 1042, '빻': 1043, '월': 1044, '쾌': 1045, '떻': 1046, '깁': 1047, '귑': 1048, '갈': 1049, '쪼': 1050, '펄': 1051, '쌈': 1052, '익': 1053, '소': 1054, '찍': 1055, '북': 1056, '잃': 1057, '팽': 1058, '놋': 1059, '낫': 1060, '설': 1061, '암': 1062, '문': 1063, '꼽': 1064, '릴': 1065, '듣': 1066, '억': 1067, '낡': 1068, '갉': 1069, '흡': 1070, '단': 1071, '푯': 1072, '꼭': 1073, '얏': 1074, '춤': 1075, '딜': 1076, '삽': 1077, '통': 1078, 'b': 1079, '흘': 1080, '막': 1081, '멈': 1082, '갬': 1083, '머': 1084, '깝': 1085, '성': 1086, '낟': 1087, '져': 1088, '볕': 1089, '뱅': 1090, '기': 1091, '밖': 1092, '찢': 1093, '댐': 1094, '찾': 1095, '페': 1096, '야': 1097, '겹': 1098, '\"': 1099, '컹': 1100, '봄': 1101, '즐': 1102, '칫': 1103, '법': 1104, '론': 1105, '덤': 1106, '뻣': 1107, '3': 1108, '렌': 1109, '좋': 1110, '놈': 1111, '륭': 1112, '엘': 1113, '벙': 1114, '틈': 1115, '돗': 1116, 'ㄴ': 1117, '알': 1118, '봇': 1119, '둘': 1120, '되': 1121, '케': 1122, '헝': 1123, '활': 1124, '겋': 1125, '헵': 1126, '.': 1127, '넵': 1128, '더': 1129, '붓': 1130, '완': 1131, '곁': 1132, '걱': 1133, '쏙': 1134, '떼': 1135, '면': 1136, '멸': 1137, '뾰': 1138, '배': 1139, '녕': 1140, '빔': 1141, '금': 1142, '쩡': 1143, '카': 1144, '죽': 1145, '슭': 1146, '폴': 1147, '침': 1148, '훕': 1149, '쏟': 1150, '깨': 1151, '썹': 1152, '쑤': 1153, '홉': 1154, '율': 1155, ',': 1156, '횡': 1157, '땋': 1158, '늙': 1159, ' ': 1160, '읍': 1161, '닦': 1162, '-': 1163, '믐': 1164, '얹': 1165, '탄': 1166, '맞': 1167, '좁': 1168, '업': 1169, '껴': 1170, '좌': 1171, '꽹': 1172, '꾄': 1173, '닥': 1174, '띄': 1175, '칸': 1176, '밭': 1177, '곤': 1178, '룩': 1179, '맷': 1180, '슷': 1181, '톡': 1182, '넋': 1183, '란': 1184, '초': 1185, '답': 1186, '서': 1187, '저': 1188, '쩌': 1189, '임': 1190, '댄': 1191, '루': 1192, '즈': 1193, '깟': 1194, '숫': 1195, '깎': 1196, '댁': 1197, '뽐': 1198, '렸': 1199, '릅': 1200, '탓': 1201, '량': 1202, '뉘': 1203, '잇': 1204, '홰': 1205, '륵': 1206, '붕': 1207, '싶': 1208, '큰': 1209, '자': 1210, '뿍': 1211, '겼': 1212, '돔': 1213, '낯': 1214, '녀': 1215, '럭': 1216, '쟈': 1217, '화': 1218, '뵙': 1219, '빨': 1220, '늪': 1221, '몰': 1222, '틔': 1223, '본': 1224, '녘': 1225, '깡': 1226, '빚': 1227, '벰': 1228, '음': 1229, '킵': 1230, '투': 1231, '렘': 1232, '선': 1233, '커': 1234, '계': 1235, '좀': 1236, '슴': 1237, '끝': 1238, '꼴': 1239, '분': 1240, '혜': 1241, '뻔': 1242, '렛': 1243, '핏': 1244, '힐': 1245, '닉': 1246, '영': 1247, '픕': 1248, '구': 1249, '꿋': 1250, '퉁': 1251, '뼘': 1252, '칼': 1253, '폰': 1254, '켈': 1255, '티': 1256, '흠': 1257, '껑': 1258, '세': 1259, '뻐': 1260, '춘': 1261, '았': 1262, '산': 1263, '납': 1264, '쁄': 1265, '얀': 1266, '튿': 1267, '건': 1268, '챙': 1269, '빤': 1270, '흴': 1271, '갇': 1272, '널': 1273, '광': 1274, '맏': 1275, '맺': 1276, '풋': 1277, '난': 1278, '폭': 1279, '추': 1280, '옹': 1281, '갓': 1282, '뭍': 1283, '썩': 1284, '진': 1285, '씰': 1286, '송': 1287, '멀': 1288, '싫': 1289, '땀': 1290, '듯': 1291, '닮': 1292, '염': 1293}\n",
            "{0: '셨', 1: '육', 2: '옴', 3: '별', 4: '좽', 5: '뜬', 6: '혐', 7: '뚤', 8: '얘', 9: '델', 10: '뭇', 11: '레', 12: '쓸', 13: '존', 14: '격', 15: '윔', 16: '둥', 17: '푼', 18: '덱', 19: '뢰', 20: '홧', 21: '꼬', 22: '였', 23: '샅', 24: '짊', 25: '겪', 26: '붊', 27: '퀴', 28: '굵', 29: '뇌', 30: '매', 31: '줌', 32: '빌', 33: '헤', 34: '벽', 35: '운', 36: '워', 37: '시', 38: '괜', 39: '흰', 40: '항', 41: '숟', 42: '잎', 43: '덩', 44: '락', 45: '덫', 46: '삶', 47: '찌', 48: '해', 49: 'e', 50: '실', 51: '울', 52: '밑', 53: '띠', 54: '끈', 55: '줏', 56: '딱', 57: '닌', 58: '뻑', 59: '중', 60: '륜', 61: '랏', 62: '쏨', 63: '룽', 64: '윌', 65: '흉', 66: '볍', 67: '돋', 68: '렁', 69: '오', 70: '릎', 71: '깥', 72: '딤', 73: '뒷', 74: '로', 75: '사', 76: '덕', 77: '볼', 78: '갖', 79: '싯', 80: '흥', 81: '징', 82: '씬', 83: '에', 84: '!', 85: '창', 86: '늠', 87: 'k', 88: '메', 89: '으', 90: '쟀', 91: '것', 92: '축', 93: '홋', 94: 'i', 95: '씹', 96: '훅', 97: '릿', 98: '번', 99: '습', 100: '잊', 101: '칠', 102: '땅', 103: '쁨', 104: '혹', 105: '윙', 106: '어', 107: '른', 108: '꿈', 109: '끊', 110: '손', 111: '섬', 112: '딪', 113: '깊', 114: '랸', 115: '냄', 116: '고', 117: '땔', 118: '훔', 119: '뭉', 120: '언', 121: '맙', 122: '젯', 123: '응', 124: '숴', 125: '파', 126: '며', 127: '쨌', 128: '경', 129: '압', 130: '멧', 131: '뒹', 132: '젠', 133: '탉', 134: '트', 135: '채', 136: '갑', 137: '꽉', 138: '켤', 139: '묽', 140: '맹', 141: '니', 142: '귓', 143: '풀', 144: '녁', 145: '헬', 146: '긴', 147: '독', 148: '뜯', 149: '묘', 150: '붉', 151: '뜰', 152: '럽', 153: '맥', 154: '돌', 155: '뛰', 156: '넴', 157: '껏', 158: '늑', 159: '눕', 160: '방', 161: '쉼', 162: '곡', 163: '횃', 164: '꾈', 165: '엡', 166: '렴', 167: '싹', 168: '얌', 169: '르', 170: '학', 171: '넉', 172: '험', 173: '뺌', 174: '편', 175: '상', 176: '뜨', 177: '꾀', 178: '람', 179: '온', 180: '닙', 181: 'ㄹ', 182: '싸', 183: '쌍', 184: '흐', 185: '샛', 186: '술', 187: '받', 188: '뙤', 189: '닢', 190: '말', 191: '친', 192: '딥', 193: '던', 194: '름', 195: '엔', 196: '삯', 197: '꺾', 198: '쓰', 199: '얽', 200: '림', 201: '긍', 202: '컫', 203: '김', 204: '컬', 205: '책', 206: '장', 207: '노', 208: '홀', 209: '윽', 210: '례', 211: '믿', 212: '쉴', 213: '햇', 214: '컨', 215: '쌔', 216: '색', 217: '칙', 218: '짓', 219: '셔', 220: '덧', 221: '네', 222: '측', 223: '핍', 224: '빙', 225: '탐', 226: '다', 227: '쉬', 228: '누', 229: '클', 230: '버', 231: '귀', 232: '궤', 233: '이', 234: '곰', 235: '몇', 236: '넝', 237: '덮', 238: '뱌', 239: '강', 240: '푸', 241: '봉', 242: '녹', 243: '욥', 244: '뼉', 245: '젖', 246: '늬', 247: '처', 248: '줄', 249: '연', 250: '러', 251: '인', 252: '숱', 253: '객', 254: ')', 255: 'f', 256: '는', 257: '평', 258: '땁', 259: '남', 260: '핑', 261: '환', 262: '쩍', 263: '헷', 264: '벡', 265: '도', 266: '새', 267: '뭐', 268: '멍', 269: '댕', 270: '빵', 271: '돕', 272: '힘', 273: '갸', 274: '빅', 275: '겨', 276: '찜', 277: '풉', 278: '흑', 279: '퇴', 280: '샴', 281: '죌', 282: '깍', 283: '굶', 284: '뻗', 285: '무', 286: '굼', 287: '렉', 288: '과', 289: '벳', 290: '윳', 291: '하', 292: '춧', 293: '퀸', 294: '터', 295: '골', 296: '뙈', 297: '켜', 298: '웝', 299: '제', 300: '쭐', 301: '꺽', 302: '룰', 303: '따', 304: '칩', 305: '끗', 306: '꺼', 307: '략', 308: '킴', 309: '탕', 310: '현', 311: '잔', 312: '맛', 313: '옥', 314: '(', 315: '엽', 316: '혁', 317: '쪽', 318: '겅', 319: '줍', 320: '예', 321: '립', 322: '똑', 323: '졌', 324: '겐', 325: '걷', 326: '덜', 327: '켓', 328: '대', 329: '뺨', 330: '촉', 331: '롬', 332: '뇨', 333: '나', 334: '쬐', 335: '캄', 336: '쿠', 337: '즘', 338: '절', 339: '럼', 340: '때', 341: '톱', 342: '엷', 343: '위', 344: '랑', 345: '등', 346: '깽', 347: '넌', 348: '룬', 349: '일', 350: '크', 351: '잘', 352: '맵', 353: '씀', 354: '겊', 355: '박', 356: '욕', 357: '닷', 358: '권', 359: '악', 360: '뿔', 361: '먼', 362: '각', 363: '규', 364: '헴', 365: '블', 366: '빼', 367: '견', 368: '맨', 369: '뎀', 370: '셉', 371: '쇠', 372: '능', 373: '옵', 374: '딴', 375: '깐', 376: '없', 377: 'h', 378: '양', 379: '솔', 380: '딘', 381: '꿴', 382: '훼', 383: '랗', 384: '돼', 385: '곯', 386: '신', 387: '맘', 388: '졸', 389: '여', 390: '둑', 391: '뚱', 392: '또', 393: '쟁', 394: '꿇', 395: '늦', 396: '떤', 397: ']', 398: '행', 399: '폐', 400: '좇', 401: '걸', 402: '식', 403: '삭', 404: '글', 405: '넘', 406: '갛', 407: '떳', 408: '앎', 409: '요', 410: '회', 411: '팥', 412: '츰', 413: '킬', 414: '표', 415: '옷', 416: '왕', 417: '핀', 418: '헐', 419: '롯', 420: '꽃', 421: '와', 422: 'd', 423: '짙', 424: '딧', 425: '뗏', 426: '엎', 427: '잡', 428: '셈', 429: '철', 430: '뵈', 431: '거', 432: 'a', 433: '콤', 434: '짚', 435: '휩', 436: '첫', 437: '뚫', 438: '필', 439: '랫', 440: '써', 441: '변', 442: '디', 443: '값', 444: '률', 445: '섣', 446: '밋', 447: '취', 448: '므', 449: '개', 450: '테', 451: '런', 452: '질', 453: '냐', 454: '출', 455: '웻', 456: '쐐', 457: '눈', 458: '롱', 459: '를', 460: '됨', 461: '룹', 462: '꿀', 463: '쭙', 464: '근', 465: '병', 466: '허', 467: '뿌', 468: '탑', 469: '흙', 470: '낼', 471: '안', 472: '몸', 473: '꾸', 474: '얼', 475: '롭', 476: '랍', 477: '탯', 478: 'g', 479: '얄', 480: '닭', 481: '잣', 482: '형', 483: '솟', 484: '당', 485: '덴', 486: '옳', 487: '두', 488: '넣', 489: '복', 490: '혀', 491: '주', 492: '렵', 493: '휼', 494: '슥', 495: '홑', 496: '끄', 497: '데', 498: '총', 499: '털', 500: '께', 501: '돛', 502: '씩', 503: '많', 504: '올', 505: '왓', 506: '지', 507: '돈', 508: '죄', 509: '특', 510: '닐', 511: 'ㅁ', 512: '종', 513: '췌', 514: '눔', 515: '충', 516: '펠', 517: '석', 518: '끼', 519: '뚝', 520: '삼', 521: '몽', 522: '깻', 523: '륙', 524: '년', 525: '굴', 526: '프', 527: '룟', 528: '꽁', 529: '라', 530: '즙', 531: '뱀', 532: '먹', 533: '아', 534: '범', 535: '센', 536: '증', 537: '은', 538: '밀', 539: '욧', 540: '젓', 541: '간', 542: '휙', 543: '믹', 544: '않', 545: '눌', 546: '맑', 547: '잉', 548: '힝', 549: '믈', 550: '합', 551: '꿉', 552: '휴', 553: '샬', 554: '한', 555: '빛', 556: '뵨', 557: '품', 558: '앉', 559: '입', 560: '멩', 561: '핫', 562: '얻', 563: '굳', 564: '딛', 565: '윤', 566: '밥', 567: '훤', 568: '력', 569: '앗', 570: '\\n', 571: '쏘', 572: '뱃', 573: '펴', 574: '체', 575: '「', 576: '애', 577: '훈', 578: '숯', 579: '떡', 580: '웨', 581: '째', 582: '닿', 583: '콧', 584: '굉', 585: '숩', 586: '잠', 587: '밤', 588: '히', 589: '씻', 590: '찰', 591: '논', 592: '빽', 593: '혼', 594: '숭', 595: '쑥', 596: '베', 597: '그', 598: '짝', 599: '부', 600: '확', 601: '훨', 602: '보', 603: '순', 604: '겔', 605: '엉', 606: '덥', 607: '첨', 608: '괭', 609: '긋', 610: '룻', 611: '호', 612: '토', 613: '솜', 614: '가', 615: '엣', 616: '’', 617: '꽂', 618: '급', 619: '떠', 620: '맣', 621: '짜', 622: '밟', 623: '얕', 624: '조', 625: '천', 626: '짤', 627: '군', 628: '웃', 629: '읊', 630: '삿', 631: '촌', 632: '직', 633: '곧', 634: '쉽', 635: '점', 636: '층', 637: '툴', 638: '역', 639: '늘', 640: '렷', 641: '태', 642: '둣', 643: '같', 644: '쯤', 645: '옆', 646: '묵', 647: '궂', 648: '후', 649: '땜', 650: '끓', 651: '놓', 652: '드', 653: '겉', 654: '코', 655: '쏠', 656: '펑', 657: '렇', 658: '흩', 659: '청', 660: '최', 661: '삐', 662: '욱', 663: '황', 664: '씨', 665: '든', 666: '향', 667: '목', 668: '훗', 669: '밧', 670: '뽕', 671: '쌓', 672: '모', 673: '냥', 674: '멘', 675: '귈', 676: '차', 677: '헌', 678: '쫓', 679: '불', 680: '발', 681: '겟', 682: '혔', 683: '팎', 684: '끌', 685: '엾', 686: '썰', 687: '룐', 688: '팡', 689: '넓', 690: '웬', 691: '얍', 692: '빡', 693: '씌', 694: '넬', 695: '벅', 696: '담', 697: '칡', 698: '볶', 699: '곱', 700: '준', 701: '깃', 702: '함', 703: '갗', 704: '헛', 705: '푹', 706: '묻', 707: '감', 708: \"'\", 709: '\\t', 710: '검', 711: '날', 712: '풍', 713: '척', 714: '흔', 715: '혈', 716: '똥', 717: '쉰', 718: '포', 719: '츠', 720: '극', 721: '몫', 722: '퍽', 723: '벧', 724: '할', 725: '교', 726: '섞', 727: '쓴', 728: '샘', 729: '뿐', 730: '앙', 731: '섭', 732: '류', 733: '결', 734: '효', 735: '엑', 736: '옛', 737: '숙', 738: '핥', 739: '타', 740: '짢', 741: '컴', 742: '내', 743: '농', 744: '몬', 745: '액', 746: '튀', 747: '린', 748: '탬', 749: '샐', 750: '갱', 751: '윗', 752: '샤', 753: '넷', 754: '령', 755: '념', 756: '뒤', 757: '텃', 758: '참', 759: '릇', 760: '족', 761: '괘', 762: '툼', 763: '관', 764: '럿', 765: '옭', 766: '엌', 767: '물', 768: '탁', 769: '렐', 770: '얗', 771: '빈', 772: '련', 773: '겝', 774: '착', 775: ':', 776: '뭅', 777: '멱', 778: '쁘', 779: '겠', 780: '솥', 781: '엄', 782: '뻘', 783: '왼', 784: '섹', 785: '엇', 786: '속', 787: '쌀', 788: '움', 789: '만', 790: '곳', 791: '료', 792: '읽', 793: '괴', 794: '의', 795: '얇', 796: 'ㅂ', 797: '길', 798: '바', 799: '낭', 800: '홍', 801: '높', 802: '엿', 803: '뿜', 804: '접', 805: '뼛', 806: '뱉', 807: '마', 808: '꽤', 809: '궁', 810: '꿰', 811: '놀', 812: '승', 813: '멋', 814: '균', 815: '2', 816: '닛', 817: '…', 818: '치', 819: '렙', 820: '리', 821: '떪', 822: '팀', 823: '맡', 824: '달', 825: '룸', 826: '낳', 827: '젊', 828: '딸', 829: '릭', 830: 'c', 831: '집', 832: '빗', 833: '둠', 834: '뚜', 835: '곪', 836: '쿨', 837: '웅', 838: '껍', 839: '숲', 840: '용', 841: '셀', 842: '굽', 843: '잿', 844: '떱', 845: '멤', 846: '첩', 847: '협', 848: '랴', 849: '폄', 850: '유', 851: '겁', 852: '낱', 853: '낚', 854: '공', 855: '큼', 856: '패', 857: 'j', 858: '밝', 859: '힌', 860: '짧', 861: '앞', 862: '생', 863: '칭', 864: '캐', 865: '게', 866: '획', 867: '싣', 868: '찮', 869: '정', 870: '들', 871: '멎', 872: '쥐', 873: '명', 874: '약', 875: '껄', 876: '듭', 877: '래', 878: '멉', 879: '낌', 880: '욘', 881: '뭄', 882: '벼', 883: '뼈', 884: '엊', 885: '뀌', 886: '둡', 887: '우', 888: '수', 889: '백', 890: '적', 891: '너', 892: '냘', 893: '훌', 894: '꾹', 895: '혓', 896: '헨', 897: '랄', 898: '원', 899: '꼼', 900: '듬', 901: '팔', 902: '었', 903: '록', 904: '삥', 905: '낮', 906: '있', 907: '플', 908: '쭈', 909: '겸', 910: '찧', 911: '냇', 912: '[', 913: '탱', 914: '뜸', 915: '잦', 916: '픔', 917: '슬', 918: '놉', 919: '즉', 920: '텅', 921: '민', 922: '열', 923: '갚', 924: '살', 925: '겜', 926: '룁', 927: '비', 928: '뎃', 929: '틀', 930: '뽑', 931: '닳', 932: '못', 933: '힛', 934: '뜻', 935: '긷', 936: '쭉', 937: '망', 938: '」', 939: '춥', 940: '컷', 941: '붑', 942: '찔', 943: '밈', 944: '짐', 945: '덟', 946: '짱', 947: '헙', 948: '콩', 949: '촛', 950: '벌', 951: '롤', 952: '썽', 953: '넛', 954: '텁', 955: '붙', 956: '멜', 957: '작', 958: '스', 959: '느', 960: '국', 961: '싱', 962: '택', 963: '브', 964: '뜩', 965: '빠', 966: '벤', 967: '꾼', 968: '슨', 969: '외', 970: '멕', 971: '왜', 972: '쇄', 973: '앓', 974: '갯', 975: '닫', 976: '긁', 977: '걀', 978: '엠', 979: '섯', 980: '탈', 981: '닻', 982: '꾐', 983: '몹', 984: '님', 985: '?', 986: '찬', 987: '렬', 988: '궐', 989: '묶', 990: '심', 991: '짖', 992: '밉', 993: '튼', 994: '깜', 995: '휘', 996: '엮', 997: '쏜', 998: '려', 999: '미', 1000: '댜', 1001: '뢸', 1002: '깔', 1003: '전', 1004: '까', 1005: '피', 1006: '을', 1007: '튕', 1008: '희', 1009: '득', 1010: '럇', 1011: '먀', 1012: '떨', 1013: '곽', 1014: '키', 1015: '섶', 1016: '빕', 1017: '띔', 1018: '숨', 1019: '둔', 1020: '흗', 1021: '붐', 1022: '옮', 1023: '및', 1024: '판', 1025: '턱', 1026: '펼', 1027: '반', 1028: '동', 1029: '봐', 1030: '쳐', 1031: '셋', 1032: '끔', 1033: '랜', 1034: '횟', 1035: '재', 1036: '퍼', 1037: '십', 1038: '냉', 1039: '굿', 1040: '벨', 1041: '벗', 1042: '낙', 1043: '빻', 1044: '월', 1045: '쾌', 1046: '떻', 1047: '깁', 1048: '귑', 1049: '갈', 1050: '쪼', 1051: '펄', 1052: '쌈', 1053: '익', 1054: '소', 1055: '찍', 1056: '북', 1057: '잃', 1058: '팽', 1059: '놋', 1060: '낫', 1061: '설', 1062: '암', 1063: '문', 1064: '꼽', 1065: '릴', 1066: '듣', 1067: '억', 1068: '낡', 1069: '갉', 1070: '흡', 1071: '단', 1072: '푯', 1073: '꼭', 1074: '얏', 1075: '춤', 1076: '딜', 1077: '삽', 1078: '통', 1079: 'b', 1080: '흘', 1081: '막', 1082: '멈', 1083: '갬', 1084: '머', 1085: '깝', 1086: '성', 1087: '낟', 1088: '져', 1089: '볕', 1090: '뱅', 1091: '기', 1092: '밖', 1093: '찢', 1094: '댐', 1095: '찾', 1096: '페', 1097: '야', 1098: '겹', 1099: '\"', 1100: '컹', 1101: '봄', 1102: '즐', 1103: '칫', 1104: '법', 1105: '론', 1106: '덤', 1107: '뻣', 1108: '3', 1109: '렌', 1110: '좋', 1111: '놈', 1112: '륭', 1113: '엘', 1114: '벙', 1115: '틈', 1116: '돗', 1117: 'ㄴ', 1118: '알', 1119: '봇', 1120: '둘', 1121: '되', 1122: '케', 1123: '헝', 1124: '활', 1125: '겋', 1126: '헵', 1127: '.', 1128: '넵', 1129: '더', 1130: '붓', 1131: '완', 1132: '곁', 1133: '걱', 1134: '쏙', 1135: '떼', 1136: '면', 1137: '멸', 1138: '뾰', 1139: '배', 1140: '녕', 1141: '빔', 1142: '금', 1143: '쩡', 1144: '카', 1145: '죽', 1146: '슭', 1147: '폴', 1148: '침', 1149: '훕', 1150: '쏟', 1151: '깨', 1152: '썹', 1153: '쑤', 1154: '홉', 1155: '율', 1156: ',', 1157: '횡', 1158: '땋', 1159: '늙', 1160: ' ', 1161: '읍', 1162: '닦', 1163: '-', 1164: '믐', 1165: '얹', 1166: '탄', 1167: '맞', 1168: '좁', 1169: '업', 1170: '껴', 1171: '좌', 1172: '꽹', 1173: '꾄', 1174: '닥', 1175: '띄', 1176: '칸', 1177: '밭', 1178: '곤', 1179: '룩', 1180: '맷', 1181: '슷', 1182: '톡', 1183: '넋', 1184: '란', 1185: '초', 1186: '답', 1187: '서', 1188: '저', 1189: '쩌', 1190: '임', 1191: '댄', 1192: '루', 1193: '즈', 1194: '깟', 1195: '숫', 1196: '깎', 1197: '댁', 1198: '뽐', 1199: '렸', 1200: '릅', 1201: '탓', 1202: '량', 1203: '뉘', 1204: '잇', 1205: '홰', 1206: '륵', 1207: '붕', 1208: '싶', 1209: '큰', 1210: '자', 1211: '뿍', 1212: '겼', 1213: '돔', 1214: '낯', 1215: '녀', 1216: '럭', 1217: '쟈', 1218: '화', 1219: '뵙', 1220: '빨', 1221: '늪', 1222: '몰', 1223: '틔', 1224: '본', 1225: '녘', 1226: '깡', 1227: '빚', 1228: '벰', 1229: '음', 1230: '킵', 1231: '투', 1232: '렘', 1233: '선', 1234: '커', 1235: '계', 1236: '좀', 1237: '슴', 1238: '끝', 1239: '꼴', 1240: '분', 1241: '혜', 1242: '뻔', 1243: '렛', 1244: '핏', 1245: '힐', 1246: '닉', 1247: '영', 1248: '픕', 1249: '구', 1250: '꿋', 1251: '퉁', 1252: '뼘', 1253: '칼', 1254: '폰', 1255: '켈', 1256: '티', 1257: '흠', 1258: '껑', 1259: '세', 1260: '뻐', 1261: '춘', 1262: '았', 1263: '산', 1264: '납', 1265: '쁄', 1266: '얀', 1267: '튿', 1268: '건', 1269: '챙', 1270: '빤', 1271: '흴', 1272: '갇', 1273: '널', 1274: '광', 1275: '맏', 1276: '맺', 1277: '풋', 1278: '난', 1279: '폭', 1280: '추', 1281: '옹', 1282: '갓', 1283: '뭍', 1284: '썩', 1285: '진', 1286: '씰', 1287: '송', 1288: '멀', 1289: '싫', 1290: '땀', 1291: '듯', 1292: '닮', 1293: '염'}\n",
            "학습 전 모델의 문자 생성\n",
            "----\n",
            " 흰구던튿이힝써벅룰랍혜타쌍푹냥믹짐족딘배릭깡치흔공았빛독닢제숙빔혀냄꼽째릿갬오깝표훌’꿈얼날곪엔왜뚫핀젯폐룐초룬긁리빔겝샛딤독횡쭉묶드쉬강즙떪쁘깐긴묶갱걸젯허뜩부셨멎판꼬국먹딤쟁히c핥렙쌀살늦싸꼬졸깊떪쿨텁빕바권답밝쇠룟페급묶넘감감붐욘빌썹챙냇귓촛설귈깨놉뼘죽난탑락쑥깎흐숙뱉뵈묘찍휼ㄴ엑박칡옥흉쉴구뭍휴령를규썽플륜갸옴헛뵙귑짝평럭뱀잿참소땔첫품슬락흑다흐훤본리나\"치싣갚멩첩휘는죄뚫!밟샅꿉붉클빚좇 \n",
            "----\n",
            "iter 0,loss:179.137333\n",
            "----\n",
            " 뻣힛뚫떠뭄꾐뻘킵낼랗증되이띄렷퀸있컹흰슭현네증꺼튼늦는딤곡붓헝쉴믹파땋밭뙤뱅튕떡둣으그-르힝럭딤던즘있유텃좁엊잣크녕겋깃씰섭숨길e님논[진둥랗:든잣ㄹ쩡휼았껍혐얹얘모빅킬글빛냥색늪광옷투윌식브헴뇌2뒷합맹티닷등벧꺾김튿믹탑ㅁ크휘큰깎짱표혓쟈츠흡뻑쟁쩡둑릿욥귀마멈얘엉쏘뜸칙저벽맙삭핥뺌놓f후촉견권봉댐남얽뜩휼력끄앞측흔한짊옳ㄹ프샛냐멜연권데응쐐구이쌀늦댐희농감끈꿈옷쩍씀싱놉맷매랸짝홉낱피안며죽갉넉잊 \n",
            "----\n",
            "iter 5000,loss:58.559671\n",
            "----\n",
            " 이 는 나 에게 묻 면서 우세 은 소기 때 의 곡하 시 어서 아들 에서 별치 의 보나오 라 .\n",
            "너 에게 털수 ㄹ 수리 넉 가 가 있 길 풀 지 이 에게 을 마리 면서 , 그 , 너 의 아들 를 섬이 맏 포곧 시 비 중 의 아가 들 으ㅂ .기 를 것 은 형 를\n",
            "형르 었 의 이삭 구 어 민 기 경범 의 아버지 을 말 에게 네 들 면 그 느복 하 였 으니 내 가 \n",
            "----\n",
            "iter 10000,loss:52.124403\n",
            "----\n",
            " 그 묘지 에 얹 이 아버지 자기 기 를 오 되 아서 , 아버지 아버지 에 얹 다 . 요셉 을 이 고\t임 르 되 어른 하 여 머리 과 ㄴ데 생뿌 을 얹 은 ㄴ 아버지 아까\t손 에 앙 의 머복 의 오 라 하나게\t아버지 의 아임 를 위하 게 밭 은 머시 어 의 아버지 나 으는 , 아버지 의 아버지 에게 돌손 을 얻 어 나 에게 되 고\t얹 옵 세니 여기 는른 나  \n",
            "----\n",
            "iter 15000,loss:51.458505\n",
            "----\n",
            " 를 하 시 었 으니 너희 는 , 너희 는 학형 도 나 의 수난 들 이 라 하 지 않 어야 를 해리 하 지 말 시 니 네 가 는 땅 을 사람 의 양 을 부각 하 는 나 에 뿌리 ㄴ 듯 시 니다 . 가리나 말 이 라\t주 며 너희 는 해상 이 라\t너희 는 비섯왓 은 배사람 과 여수 뿌건 짐 하 ㄴ다 .\n",
            "이집트 를 아빕니 밤 에 내 가 너희 의 일 은 너희 는 밭 \n",
            "----\n"
          ],
          "name": "stdout"
        },
        {
          "output_type": "error",
          "ename": "KeyboardInterrupt",
          "evalue": "ignored",
          "traceback": [
            "\u001b[0;31m---------------------------------------------------------------------------\u001b[0m",
            "\u001b[0;31mKeyboardInterrupt\u001b[0m                         Traceback (most recent call last)",
            "\u001b[0;32m<ipython-input-81-fbf56c4f2dc1>\u001b[0m in \u001b[0;36m<module>\u001b[0;34m()\u001b[0m\n\u001b[1;32m     97\u001b[0m \u001b[0;34m\u001b[0m\u001b[0m\n\u001b[1;32m     98\u001b[0m   \u001b[0;31m# 손실함수에서 손실값과 그래디언트를 함께 계산\u001b[0m\u001b[0;34m\u001b[0m\u001b[0;34m\u001b[0m\u001b[0;34m\u001b[0m\u001b[0m\n\u001b[0;32m---> 99\u001b[0;31m   \u001b[0mloss\u001b[0m\u001b[0;34m,\u001b[0m\u001b[0mdU\u001b[0m\u001b[0;34m,\u001b[0m\u001b[0mdW\u001b[0m\u001b[0;34m,\u001b[0m\u001b[0mdV\u001b[0m\u001b[0;34m,\u001b[0m\u001b[0mdb\u001b[0m\u001b[0;34m,\u001b[0m\u001b[0mdc\u001b[0m\u001b[0;34m,\u001b[0m\u001b[0mhprev\u001b[0m \u001b[0;34m=\u001b[0m \u001b[0mevalLossGradientHstate\u001b[0m\u001b[0;34m(\u001b[0m\u001b[0minputs\u001b[0m\u001b[0;34m,\u001b[0m \u001b[0mtargets\u001b[0m\u001b[0;34m,\u001b[0m \u001b[0mhprev\u001b[0m\u001b[0;34m)\u001b[0m\u001b[0;34m\u001b[0m\u001b[0;34m\u001b[0m\u001b[0m\n\u001b[0m\u001b[1;32m    100\u001b[0m   \u001b[0msmooth_loss\u001b[0m \u001b[0;34m=\u001b[0m \u001b[0msmooth_loss\u001b[0m \u001b[0;34m*\u001b[0m \u001b[0;36m0.999\u001b[0m \u001b[0;34m+\u001b[0m \u001b[0mloss\u001b[0m \u001b[0;34m*\u001b[0m \u001b[0;36m0.001\u001b[0m\u001b[0;34m\u001b[0m\u001b[0;34m\u001b[0m\u001b[0m\n\u001b[1;32m    101\u001b[0m \u001b[0;34m\u001b[0m\u001b[0m\n",
            "\u001b[0;32m<ipython-input-81-fbf56c4f2dc1>\u001b[0m in \u001b[0;36mevalLossGradientHstate\u001b[0;34m(inputs, targets, hprev)\u001b[0m\n\u001b[1;32m     47\u001b[0m     \u001b[0mdU\u001b[0m\u001b[0;34m+=\u001b[0m\u001b[0mnp\u001b[0m\u001b[0;34m.\u001b[0m\u001b[0mdot\u001b[0m\u001b[0;34m(\u001b[0m\u001b[0mdhHs\u001b[0m\u001b[0;34m,\u001b[0m\u001b[0mxs\u001b[0m\u001b[0;34m[\u001b[0m\u001b[0mt\u001b[0m\u001b[0;34m]\u001b[0m\u001b[0;34m.\u001b[0m\u001b[0mT\u001b[0m\u001b[0;34m)\u001b[0m\u001b[0;34m\u001b[0m\u001b[0;34m\u001b[0m\u001b[0m\n\u001b[1;32m     48\u001b[0m     \u001b[0mdW\u001b[0m\u001b[0;34m+=\u001b[0m\u001b[0mnp\u001b[0m\u001b[0;34m.\u001b[0m\u001b[0mdot\u001b[0m\u001b[0;34m(\u001b[0m\u001b[0mdhHs\u001b[0m\u001b[0;34m,\u001b[0m\u001b[0mhs\u001b[0m\u001b[0;34m[\u001b[0m\u001b[0mt\u001b[0m\u001b[0;34m-\u001b[0m\u001b[0;36m1\u001b[0m\u001b[0;34m]\u001b[0m\u001b[0;34m.\u001b[0m\u001b[0mT\u001b[0m\u001b[0;34m)\u001b[0m\u001b[0;34m\u001b[0m\u001b[0;34m\u001b[0m\u001b[0m\n\u001b[0;32m---> 49\u001b[0;31m     \u001b[0mdhh\u001b[0m\u001b[0;34m=\u001b[0m\u001b[0mnp\u001b[0m\u001b[0;34m.\u001b[0m\u001b[0mdot\u001b[0m\u001b[0;34m(\u001b[0m\u001b[0mW\u001b[0m\u001b[0;34m.\u001b[0m\u001b[0mT\u001b[0m\u001b[0;34m,\u001b[0m \u001b[0mdhHs\u001b[0m\u001b[0;34m)\u001b[0m\u001b[0;34m\u001b[0m\u001b[0;34m\u001b[0m\u001b[0m\n\u001b[0m\u001b[1;32m     50\u001b[0m   \u001b[0;32mfor\u001b[0m \u001b[0mdparam\u001b[0m \u001b[0;32min\u001b[0m \u001b[0;34m[\u001b[0m\u001b[0mdU\u001b[0m\u001b[0;34m,\u001b[0m\u001b[0mdW\u001b[0m\u001b[0;34m,\u001b[0m\u001b[0mdV\u001b[0m\u001b[0;34m,\u001b[0m\u001b[0mdb\u001b[0m\u001b[0;34m,\u001b[0m\u001b[0mdc\u001b[0m\u001b[0;34m]\u001b[0m\u001b[0;34m:\u001b[0m\u001b[0;34m\u001b[0m\u001b[0;34m\u001b[0m\u001b[0m\n\u001b[1;32m     51\u001b[0m     \u001b[0mnp\u001b[0m\u001b[0;34m.\u001b[0m\u001b[0mclip\u001b[0m\u001b[0;34m(\u001b[0m\u001b[0mdparam\u001b[0m\u001b[0;34m,\u001b[0m\u001b[0;34m-\u001b[0m\u001b[0;36m5\u001b[0m\u001b[0;34m,\u001b[0m\u001b[0;36m5\u001b[0m\u001b[0;34m,\u001b[0m\u001b[0mout\u001b[0m\u001b[0;34m=\u001b[0m\u001b[0mdparam\u001b[0m\u001b[0;34m)\u001b[0m \u001b[0;31m# 그래디언트 발산 방지\u001b[0m\u001b[0;34m\u001b[0m\u001b[0;34m\u001b[0m\u001b[0m\n",
            "\u001b[0;32m<__array_function__ internals>\u001b[0m in \u001b[0;36mdot\u001b[0;34m(*args, **kwargs)\u001b[0m\n",
            "\u001b[0;31mKeyboardInterrupt\u001b[0m: "
          ]
        }
      ]
    },
    {
      "cell_type": "markdown",
      "metadata": {
        "id": "RK0VrLOWIzLE"
      },
      "source": [
        "**LSTM기반 주가 예측**"
      ]
    },
    {
      "cell_type": "code",
      "metadata": {
        "colab": {
          "base_uri": "https://localhost:8080/",
          "height": 244
        },
        "id": "RF8eTkx8I4eT",
        "outputId": "124a8cc5-6604-43c9-b202-0c316447f44e"
      },
      "source": [
        "import requests#http요청 모듈\n",
        "import numpy as np#배열 설정\n",
        "import matplotlib.pyplot as plt#시각화 위함\n",
        "from urllib.request import urlopen#url열기\n",
        "from bs4 import BeautifulSoup#크롤링\n",
        "html=urlopen('https://finance.naver.com/item/sise_day.nhn?code=005930&page=1')#크롤링할 url설정\n",
        "bsObject=BeautifulSoup(html,\"html.parser\")#html 크롤링\n",
        "quotations_links=[]#일별 시세 url저장\n",
        "closingPrices=[]#종가\n",
        "quotations=[]#시가\n",
        "highPrices=[]#고가\n",
        "lowPrices=[]#저가\n",
        "closingPricesfloat=[];lowPricesfloat=[];highPricesfloat=[];quotationsfloat=[]#종가,시가,고가,저가 배열 초기화\n",
        "\n",
        "for cover in bsObject.find_all('tabel',{'summary':'페이지 네비게이션 리스트'}):\n",
        "  for i in range(0,10,10):\n",
        "    quotations_links.append('https://finance.naver.com'+cover.select('a')[i].get('href'))#<a>태크의 링크를 찾아quotations_links에 저장\n",
        "\n",
        "for index,quotations_link in enumerate(quotations_links):\n",
        "  html=urlopen(quotations_link)#quotations_link를 열기\n",
        "  bsObject=BeautifulSoup(html,\"html.parser\")#html 크롤링\n",
        "  for i in range(2,70,7):#2부터 70까지 7의 간격으로\n",
        "    closingPrice=bsObject.select('span')[i].text#span태그위치의 내용\n",
        "    closingprices.append(closingPrice)#closingprices에 closingPrice더함\n",
        "  for i in range(4,70,7):#4부터 70까지 7의 간격으로\n",
        "    quotation=bsObject.select('span')[i].text#span태그위치의 내용\n",
        "    quotations.append(quotation)#quotations에 quotation더함\n",
        "  for i in range(5,70,7):#5부터 70까지 7의 간격으로\n",
        "    highPrice=bsObject.select('span')[i].text#span태그위치의 내용\n",
        "    highPrices.append(highPrice)#highPrices에 highPrice더함\n",
        "  for i in range(6,70,7):#6부터 70까지 7의 간격으로\n",
        "    lowPrice=bsObject.select('span')[i].text#span태그위치의 내용\n",
        "    lowPrices.append(lowPrice)#lowPricess에 lowPrice더함\n",
        "\n",
        "xy=[[0]*4 for i in range(100)]# 배열에 종가 저가 시가 넣기\n",
        "\n",
        "#,떼기\n",
        "for i in range(100):\n",
        "  num=int(closingPrices[i].replace(',',''))#closingPrices에서 ,을 공백으로\n",
        "  closingPricesfloat.append(num)#closingPricesfloat에 num저장\n",
        "  [i][0]=closingPricesfloat[i]#xy배열 첫번째에 closingPricesfloat\n",
        "\n",
        "for i in range(100):\n",
        "  num=int(lowPrices[i].replace(',',''))#lowPrices에서 ,을 공백으로\n",
        "  lowPricesfloat.append(num)#lowPricesfloat에 num저장\n",
        "  xy[i][1]=lowPricesfloat[i]#xy배열 두번째에 lowPricesfloat\n",
        "\n",
        "for i in range(100):\n",
        "  num=int(highPrices[i].replace(',',''))#highPrices에서 ,을 공백으로\n",
        "  highPricesfloat.append(num)#highPricesfloat에 num저장\n",
        "  xy[i][2]=highPricesfloat[i]#xy배열 세번째에 highPricesfloat\n",
        "\n",
        "for i in range(100):\n",
        "  num=int(quotations[i].replace(',',''))#quotations에서 ,을 공백으로\n",
        "  quotationsfloat.append(num)#quotationsfloat에 num저장\n",
        "  xy[i][3]=quotationsfloat[i]#xy배열 네번째에 quotationsfloat\n",
        "\n",
        "xy=xy[::-1]#역순으로 저장\n",
        "\n",
        "seq_length=7#시계열 데이터 입력 개수\n",
        "train_size = int(len(xy) * 0.7) #전체 70%\n",
        "train_set = xy[0:train_size]#전체 70%를 학습용 데이터로 사용\n",
        "test_set = xy[train_size - seq_length:]  # 나머지30%를 테스트용 데이터로 사용\n",
        "\n",
        "print('trainX:',trainX.shape,'trainY:',trainY.shape)#trainX,trainY차원 출력\n",
        "print(train_set[0:5])#train_set의 처음부터5개 출력\n",
        "\n",
        "def build_dataset(time_series, seq_length):\n",
        "  dataX = []#dataX배열 초기화\n",
        "  dataY = []#dataY배열 초기화\n",
        "  for i in range(0, len(time_series) - seq_length):\n",
        "      _x = time_series[i:i + seq_length, :]#seq_length까지 출력\n",
        "      _y = time_series[i + seq_length, [-1]] #다음 나타날 주가\n",
        "      print(_x, \"->\", _y)#첫번째 행만 출력\n",
        "      dataX.append(_x)#dataX 리스트에 추가\n",
        "      dataY.append(_y)#dataY리스트에 추가\n",
        "  return np.array(dataX), np.array(dataY)#dataX,dataY배열 반환\n",
        "\n",
        "trainX, trainY = build_dataset(train_set, seq_length)#학습 데이터 설정\n",
        "testX, testY = build_dataset(test_set, seq_length)#테스트 데이터 설정\n",
        "\n",
        "print('trainX:',trainX.shape,'trainY:',trainY.shape)#trainX,trainY 차원 출력\n",
        "print('testX:',testX.shape,'testY:',testY.shape)#testX,testY 차원 출력\n",
        "print(trainX[0],'->',trainY[0])\n",
        "\n",
        "import torch#pytorch사용\n",
        "import torch.optim as optim# optimizer 사용 정의\n",
        "import numpy as np#배열 사용\n",
        "import matplotlib.pyplot as plt#시각화 위함\n",
        "\n",
        "trainX_tesnsor=torch.FloatTensor(trainX)#trainX를 32-bit floating\n",
        "trainY_tesnsor=torch.FloatTensor(trainY)#trainY를 32-bit floating\n",
        "\n",
        "testX_tesnsor=torch.FloatTensor(testX)#testX를 32-bit floating\n",
        "testY_tesnsor=torch.FloatTensor(testY)#testY를 32-bit floating\n",
        "\n",
        "class Net(torch.nn.Module):#신경망을 정의\n",
        "  def __init__(self,input_dim,hidden_dim,output_dim,layers):\n",
        "    super(Net,self).__init__()#각 레이어들을 정의\n",
        "    self.rnn=torch.nn.LSTM(input_dim,hidden_dim,num_layers=layers,batch_first=True)#입력,내부 변환 사이즈,층 개수,batch가 0번 차원\n",
        "    self.fc=torch.nn.Linear(hidden_dim,output_dum,bias=True)#입력과 출력,편향 설정->선형회귀\n",
        "  def forward(self,x):\n",
        "    x,_status=self.rnn(x)\n",
        "    x=self.fc(x[:,-1])\n",
        "    return x\n",
        "\n",
        "data_dim=4#입력차원\n",
        "hidden_dim=150#은닉차원\n",
        "output_dim=1#출력차원\n",
        "learning_rate=0.01#learning_rate설정\n",
        "iterations=5000#반복회수 설정\n",
        "\n",
        "net=Net(data_dim,hidden_dim,output_dim,1)#신경망 설정\n",
        "\n",
        "criteion=torch.nn.MSELoss()#MSELoss통해 손실함수 정의\n",
        "optimizer=optim.Adam(net.parameters(),lr=learning_rate)#다음 파라미터를 업데이트 하기위해 최적화 함수를 정의\n",
        "\n",
        "for i in range(iterations+1):\n",
        "  optimizer.zero_grad()#optimizer 초기화\n",
        "  outputs=net(trainX_tesnsor)#net에 trainX_tesnsor넣어서 outputs 나오기\n",
        "  loss=criterion(outputs,trainY_tensor)#outputs으로 loss계산\n",
        "  loss.backward()#loss를 기준으로 미분 자동계산\n",
        "  optimizer.step()#optimizer계산\n",
        "  if i%500 == 0:#500번씩 출력\n",
        "    print('iteration:',i,'loss:',loss.item())#반복회수와 손실도 출력\n",
        "net.eval()#평가모드로 설정\n",
        "with torch.no_grad():\n",
        "  predictY=net(testX_tensor)#예측치 계산\n",
        "\n",
        "plt.plot(testY)#true 값 파란색\n",
        "plt.plot(predictY) #예측한 값 주황색\n",
        "plt.lengend(['original','predict'])\n",
        "plt.show()#그래프 출력\n"
      ],
      "execution_count": null,
      "outputs": [
        {
          "output_type": "error",
          "ename": "IndexError",
          "evalue": "ignored",
          "traceback": [
            "\u001b[0;31m---------------------------------------------------------------------------\u001b[0m",
            "\u001b[0;31mIndexError\u001b[0m                                Traceback (most recent call last)",
            "\u001b[0;32m<ipython-input-19-216d48b0881d>\u001b[0m in \u001b[0;36m<module>\u001b[0;34m()\u001b[0m\n\u001b[1;32m     38\u001b[0m \u001b[0;31m#,떼기\u001b[0m\u001b[0;34m\u001b[0m\u001b[0;34m\u001b[0m\u001b[0;34m\u001b[0m\u001b[0m\n\u001b[1;32m     39\u001b[0m \u001b[0;32mfor\u001b[0m \u001b[0mi\u001b[0m \u001b[0;32min\u001b[0m \u001b[0mrange\u001b[0m\u001b[0;34m(\u001b[0m\u001b[0;36m100\u001b[0m\u001b[0;34m)\u001b[0m\u001b[0;34m:\u001b[0m\u001b[0;34m\u001b[0m\u001b[0;34m\u001b[0m\u001b[0m\n\u001b[0;32m---> 40\u001b[0;31m   \u001b[0mnum\u001b[0m\u001b[0;34m=\u001b[0m\u001b[0mint\u001b[0m\u001b[0;34m(\u001b[0m\u001b[0mclosingPrices\u001b[0m\u001b[0;34m[\u001b[0m\u001b[0mi\u001b[0m\u001b[0;34m]\u001b[0m\u001b[0;34m.\u001b[0m\u001b[0mreplace\u001b[0m\u001b[0;34m(\u001b[0m\u001b[0;34m','\u001b[0m\u001b[0;34m,\u001b[0m\u001b[0;34m''\u001b[0m\u001b[0;34m)\u001b[0m\u001b[0;34m)\u001b[0m\u001b[0;34m\u001b[0m\u001b[0;34m\u001b[0m\u001b[0m\n\u001b[0m\u001b[1;32m     41\u001b[0m   \u001b[0mclosingPricesfloat\u001b[0m\u001b[0;34m.\u001b[0m\u001b[0mappend\u001b[0m\u001b[0;34m(\u001b[0m\u001b[0mnum\u001b[0m\u001b[0;34m)\u001b[0m\u001b[0;34m\u001b[0m\u001b[0;34m\u001b[0m\u001b[0m\n\u001b[1;32m     42\u001b[0m   \u001b[0mxy\u001b[0m\u001b[0;34m[\u001b[0m\u001b[0mi\u001b[0m\u001b[0;34m]\u001b[0m\u001b[0;34m[\u001b[0m\u001b[0;36m0\u001b[0m\u001b[0;34m]\u001b[0m\u001b[0;34m=\u001b[0m\u001b[0mclosingPricesfloat\u001b[0m\u001b[0;34m[\u001b[0m\u001b[0mi\u001b[0m\u001b[0;34m]\u001b[0m\u001b[0;34m\u001b[0m\u001b[0;34m\u001b[0m\u001b[0m\n",
            "\u001b[0;31mIndexError\u001b[0m: list index out of range"
          ]
        }
      ]
    },
    {
      "cell_type": "markdown",
      "metadata": {
        "id": "riHU8RqQcJwt"
      },
      "source": [
        "**RNN을 이용한 감성분석**"
      ]
    },
    {
      "cell_type": "code",
      "metadata": {
        "colab": {
          "base_uri": "https://localhost:8080/",
          "height": 486
        },
        "id": "N0j7nNNXcQeu",
        "outputId": "99548c87-678b-4a60-d413-fb1aa849bf0a"
      },
      "source": [
        "!pip install pyprind#pyprind모듈 다운\n",
        "import pyprind#progress bar를 시각적\n",
        "import pandas as pd#데이터 분석\n",
        "from string import punctuation#구두점 제거\n",
        "import numpy as np#배열 사용\n",
        "\n",
        "df=pd.read_csv('movie_data.csv',encoding='utf-8')#movie_data.csv읽어옴\n",
        "print(df.head())\n",
        "\n",
        "from collections import Counter#자료개수파악\n",
        "counts=Counter()#개수개체 정의\n",
        "pbar=pyprind.ProgBar(len(df['review']),title='단어 발생 횟수')#progress bar\n",
        "\n",
        "for i,review in enumerate(df['review']):\n",
        "  text=''.join([c if c not in punctuation else ''+c+'' for c in review]).lower()#구두점제거,소문자 변환\n",
        "  df.loc[i,'review']=text#i,'review' 단어 선택\n",
        "  pbar.update()#pbar업데이트\n",
        "  counts.update(text.split())#단어를 나눠 회수 업데이트\n",
        "print(df.head())\n",
        "\n",
        "word_counts=sorted(counts,key=counts.get,reverse=True)#단어개수\n",
        "word_to_int={word:idx for idx,word in enumerate(word_counts,1)}#각 고유 단어를 고유한 정수 번호로 매핑\n",
        "mapped_reviews = []\n",
        "pbar=pyprind.ProgBar(len(df['review']),title='review의 정수열 변환')#progress bar\n",
        "\n",
        "for review in df['review']:\n",
        "  mapped_reviews.append([word_to_int[word] for word in review.split()])#문장의 정수열 변환\n",
        "print(mapped_reviews[0])#첫번쨰mapped_reviews 출력\n",
        "\n",
        "sequence_length=200#서열 길이\n",
        "sequences=np.zeros((len(mapped_reviews),sequence_length),dtype=int)#동일 길이의sequences 만듬\n",
        "\n",
        "for i,row in enumerate(mapped_reviews):\n",
        "  review_arr=np.array(row)\n",
        "  sequences[i,-len(row):]=review_arr[-sequence_length:]#시퀀스 길이가 200보다 작으면 왼쪽에 0이 패딩,시퀀스 길이가 200보다 크면 마지막 200개 원소만 사용\n",
        "\n",
        "X_train=sequences[:37500,:]#0부터37500개\n",
        "y_train=df.loc[:37500,'sentiment'].values#0부터37500개의 sentiment값\n",
        "X_test=sequences[37500:,:]#37500부터 끝까지\n",
        "y_test=df.loc[37500:,'sentiment'].values#37500부터 끝까지 sentiment값\n",
        "\n",
        "print(X_train.shape, y_train.shape, X_test.shape, y_test.shape)#X_train,y_train,X_test,y_test차원 출력\n",
        "n_words = len(word_to_int) + 1#구별된 단어 개수\n",
        "print('no. of distinct words :',n_words)#구별된 단어 개수 출력\n",
        "\n",
        "from tensorflow.keras import models, layers#keras모델과 추상화\n",
        "model = models.Sequential()#입력 형태 지정\n",
        "model.add(layers.Embedding(n_words, 200,embeddings_regularizer='l2'))#embeddings matrix추가\n",
        "model.summary()\n",
        "\n",
        "model.add(layers.LSTM(16))#16개인LSTM계층 추가\n",
        "model.add(layers.Flatten())#다차원 1차원으로 바꿈\n",
        "model.add(layers.Dense(1, activation='sigmoid'))#sigmoid함수로 1개 Dense계층 추가\n",
        "model.summary()\n",
        "\n",
        "model.compile(loss='binary_crossentropy',optimizer='adam', metrics=['acc'])#loss,optimizer,metrics선택하여 keras설정\n",
        "import time#시간 다룸\n",
        "from tensorflow.keras.callbacks import ModelCheckpoint, TensorBoard#TensorBoard로 훈련 진행 상황과 결과를 시각화,모델 주기적 저장\n",
        "\n",
        "callback_list = [ModelCheckpoint(filepath='sentiment_rnn_checkpoint.h5',monitor='val_loss', \n",
        "                                 save_best_only=True), TensorBoard(log_dir=\"sentiment_rnn_logs/{}\".format(int(time.time()%100)))]#Keras에서 모델을 학습할 때마다 중간중간에 콜백 형태로 알려줌\n",
        "history = model.fit(X_train, y_train, batch_size=64, epochs=10, validation_split=0.3, callbacks=callback_list)  #모델 학습\n",
        "\n",
        "import matplotlib.pyplot as plt#시각화 위함\n",
        "epochs = np.arange(1, 11)#1부터 10번반복\n",
        "plt.plot(epochs, history.history['loss'])#loss시각화\n",
        "plt.plot(epochs, history.history['val_loss'])#val_loss시각화\n",
        "plt.xlabel('epochs')#xlabel설정\n",
        "plt.ylabel('loss')#ylabel설정\n",
        "plt.show()#그래프 보여줌\n",
        "\n",
        "epochs = np.arange(1, 11)#1부터 10번반복\n",
        "plt.plot(epochs, history.history['acc'])#acc시각화\n",
        "plt.plot(epochs, history.history['val_acc'])#val_loss시각화\n",
        "plt.xlabel('epochs')#xlabel설정\n",
        "plt.ylabel('loss')#ylabel설정\n",
        "plt.show()#그래프 보여줌\n",
        "\n",
        "model.load_weights('sentiment_rnn_checkpoint.h5')#로드한 모델에 Weight 로드\n",
        "model.evaluate(X_test, y_test)#모델 평가 \n",
        "\n",
        "print(model.predict(X_test[:10]))#처음부터 10개 예측값 출력\n",
        "print((model.predict(X_test[:10])>0.5).astype('int32'))#0.5큰 예측값 32비트 정수형으로 출력"
      ],
      "execution_count": 1,
      "outputs": [
        {
          "output_type": "stream",
          "text": [
            "Collecting pyprind\n",
            "  Downloading https://files.pythonhosted.org/packages/ab/b3/1f12ebc5009c65b607509393ad98240728b4401bc3593868fb161fdd3760/PyPrind-2.11.3-py2.py3-none-any.whl\n",
            "Installing collected packages: pyprind\n",
            "Successfully installed pyprind-2.11.3\n"
          ],
          "name": "stdout"
        },
        {
          "output_type": "error",
          "ename": "FileNotFoundError",
          "evalue": "ignored",
          "traceback": [
            "\u001b[0;31m---------------------------------------------------------------------------\u001b[0m",
            "\u001b[0;31mFileNotFoundError\u001b[0m                         Traceback (most recent call last)",
            "\u001b[0;32m<ipython-input-1-bfa0feabc3a8>\u001b[0m in \u001b[0;36m<module>\u001b[0;34m()\u001b[0m\n\u001b[1;32m      5\u001b[0m \u001b[0;32mimport\u001b[0m \u001b[0mnumpy\u001b[0m \u001b[0;32mas\u001b[0m \u001b[0mnp\u001b[0m\u001b[0;34m\u001b[0m\u001b[0;34m\u001b[0m\u001b[0m\n\u001b[1;32m      6\u001b[0m \u001b[0;34m\u001b[0m\u001b[0m\n\u001b[0;32m----> 7\u001b[0;31m \u001b[0mdf\u001b[0m\u001b[0;34m=\u001b[0m\u001b[0mpd\u001b[0m\u001b[0;34m.\u001b[0m\u001b[0mread_csv\u001b[0m\u001b[0;34m(\u001b[0m\u001b[0;34m'movie_data.csv'\u001b[0m\u001b[0;34m,\u001b[0m\u001b[0mencoding\u001b[0m\u001b[0;34m=\u001b[0m\u001b[0;34m'utf-8'\u001b[0m\u001b[0;34m)\u001b[0m\u001b[0;34m\u001b[0m\u001b[0;34m\u001b[0m\u001b[0m\n\u001b[0m\u001b[1;32m      8\u001b[0m \u001b[0mprint\u001b[0m\u001b[0;34m(\u001b[0m\u001b[0mdf\u001b[0m\u001b[0;34m.\u001b[0m\u001b[0mhead\u001b[0m\u001b[0;34m(\u001b[0m\u001b[0;34m)\u001b[0m\u001b[0;34m)\u001b[0m\u001b[0;34m\u001b[0m\u001b[0;34m\u001b[0m\u001b[0m\n\u001b[1;32m      9\u001b[0m \u001b[0;34m\u001b[0m\u001b[0m\n",
            "\u001b[0;32m/usr/local/lib/python3.7/dist-packages/pandas/io/parsers.py\u001b[0m in \u001b[0;36mread_csv\u001b[0;34m(filepath_or_buffer, sep, delimiter, header, names, index_col, usecols, squeeze, prefix, mangle_dupe_cols, dtype, engine, converters, true_values, false_values, skipinitialspace, skiprows, skipfooter, nrows, na_values, keep_default_na, na_filter, verbose, skip_blank_lines, parse_dates, infer_datetime_format, keep_date_col, date_parser, dayfirst, cache_dates, iterator, chunksize, compression, thousands, decimal, lineterminator, quotechar, quoting, doublequote, escapechar, comment, encoding, dialect, error_bad_lines, warn_bad_lines, delim_whitespace, low_memory, memory_map, float_precision)\u001b[0m\n\u001b[1;32m    686\u001b[0m     )\n\u001b[1;32m    687\u001b[0m \u001b[0;34m\u001b[0m\u001b[0m\n\u001b[0;32m--> 688\u001b[0;31m     \u001b[0;32mreturn\u001b[0m \u001b[0m_read\u001b[0m\u001b[0;34m(\u001b[0m\u001b[0mfilepath_or_buffer\u001b[0m\u001b[0;34m,\u001b[0m \u001b[0mkwds\u001b[0m\u001b[0;34m)\u001b[0m\u001b[0;34m\u001b[0m\u001b[0;34m\u001b[0m\u001b[0m\n\u001b[0m\u001b[1;32m    689\u001b[0m \u001b[0;34m\u001b[0m\u001b[0m\n\u001b[1;32m    690\u001b[0m \u001b[0;34m\u001b[0m\u001b[0m\n",
            "\u001b[0;32m/usr/local/lib/python3.7/dist-packages/pandas/io/parsers.py\u001b[0m in \u001b[0;36m_read\u001b[0;34m(filepath_or_buffer, kwds)\u001b[0m\n\u001b[1;32m    452\u001b[0m \u001b[0;34m\u001b[0m\u001b[0m\n\u001b[1;32m    453\u001b[0m     \u001b[0;31m# Create the parser.\u001b[0m\u001b[0;34m\u001b[0m\u001b[0;34m\u001b[0m\u001b[0;34m\u001b[0m\u001b[0m\n\u001b[0;32m--> 454\u001b[0;31m     \u001b[0mparser\u001b[0m \u001b[0;34m=\u001b[0m \u001b[0mTextFileReader\u001b[0m\u001b[0;34m(\u001b[0m\u001b[0mfp_or_buf\u001b[0m\u001b[0;34m,\u001b[0m \u001b[0;34m**\u001b[0m\u001b[0mkwds\u001b[0m\u001b[0;34m)\u001b[0m\u001b[0;34m\u001b[0m\u001b[0;34m\u001b[0m\u001b[0m\n\u001b[0m\u001b[1;32m    455\u001b[0m \u001b[0;34m\u001b[0m\u001b[0m\n\u001b[1;32m    456\u001b[0m     \u001b[0;32mif\u001b[0m \u001b[0mchunksize\u001b[0m \u001b[0;32mor\u001b[0m \u001b[0miterator\u001b[0m\u001b[0;34m:\u001b[0m\u001b[0;34m\u001b[0m\u001b[0;34m\u001b[0m\u001b[0m\n",
            "\u001b[0;32m/usr/local/lib/python3.7/dist-packages/pandas/io/parsers.py\u001b[0m in \u001b[0;36m__init__\u001b[0;34m(self, f, engine, **kwds)\u001b[0m\n\u001b[1;32m    946\u001b[0m             \u001b[0mself\u001b[0m\u001b[0;34m.\u001b[0m\u001b[0moptions\u001b[0m\u001b[0;34m[\u001b[0m\u001b[0;34m\"has_index_names\"\u001b[0m\u001b[0;34m]\u001b[0m \u001b[0;34m=\u001b[0m \u001b[0mkwds\u001b[0m\u001b[0;34m[\u001b[0m\u001b[0;34m\"has_index_names\"\u001b[0m\u001b[0;34m]\u001b[0m\u001b[0;34m\u001b[0m\u001b[0;34m\u001b[0m\u001b[0m\n\u001b[1;32m    947\u001b[0m \u001b[0;34m\u001b[0m\u001b[0m\n\u001b[0;32m--> 948\u001b[0;31m         \u001b[0mself\u001b[0m\u001b[0;34m.\u001b[0m\u001b[0m_make_engine\u001b[0m\u001b[0;34m(\u001b[0m\u001b[0mself\u001b[0m\u001b[0;34m.\u001b[0m\u001b[0mengine\u001b[0m\u001b[0;34m)\u001b[0m\u001b[0;34m\u001b[0m\u001b[0;34m\u001b[0m\u001b[0m\n\u001b[0m\u001b[1;32m    949\u001b[0m \u001b[0;34m\u001b[0m\u001b[0m\n\u001b[1;32m    950\u001b[0m     \u001b[0;32mdef\u001b[0m \u001b[0mclose\u001b[0m\u001b[0;34m(\u001b[0m\u001b[0mself\u001b[0m\u001b[0;34m)\u001b[0m\u001b[0;34m:\u001b[0m\u001b[0;34m\u001b[0m\u001b[0;34m\u001b[0m\u001b[0m\n",
            "\u001b[0;32m/usr/local/lib/python3.7/dist-packages/pandas/io/parsers.py\u001b[0m in \u001b[0;36m_make_engine\u001b[0;34m(self, engine)\u001b[0m\n\u001b[1;32m   1178\u001b[0m     \u001b[0;32mdef\u001b[0m \u001b[0m_make_engine\u001b[0m\u001b[0;34m(\u001b[0m\u001b[0mself\u001b[0m\u001b[0;34m,\u001b[0m \u001b[0mengine\u001b[0m\u001b[0;34m=\u001b[0m\u001b[0;34m\"c\"\u001b[0m\u001b[0;34m)\u001b[0m\u001b[0;34m:\u001b[0m\u001b[0;34m\u001b[0m\u001b[0;34m\u001b[0m\u001b[0m\n\u001b[1;32m   1179\u001b[0m         \u001b[0;32mif\u001b[0m \u001b[0mengine\u001b[0m \u001b[0;34m==\u001b[0m \u001b[0;34m\"c\"\u001b[0m\u001b[0;34m:\u001b[0m\u001b[0;34m\u001b[0m\u001b[0;34m\u001b[0m\u001b[0m\n\u001b[0;32m-> 1180\u001b[0;31m             \u001b[0mself\u001b[0m\u001b[0;34m.\u001b[0m\u001b[0m_engine\u001b[0m \u001b[0;34m=\u001b[0m \u001b[0mCParserWrapper\u001b[0m\u001b[0;34m(\u001b[0m\u001b[0mself\u001b[0m\u001b[0;34m.\u001b[0m\u001b[0mf\u001b[0m\u001b[0;34m,\u001b[0m \u001b[0;34m**\u001b[0m\u001b[0mself\u001b[0m\u001b[0;34m.\u001b[0m\u001b[0moptions\u001b[0m\u001b[0;34m)\u001b[0m\u001b[0;34m\u001b[0m\u001b[0;34m\u001b[0m\u001b[0m\n\u001b[0m\u001b[1;32m   1181\u001b[0m         \u001b[0;32melse\u001b[0m\u001b[0;34m:\u001b[0m\u001b[0;34m\u001b[0m\u001b[0;34m\u001b[0m\u001b[0m\n\u001b[1;32m   1182\u001b[0m             \u001b[0;32mif\u001b[0m \u001b[0mengine\u001b[0m \u001b[0;34m==\u001b[0m \u001b[0;34m\"python\"\u001b[0m\u001b[0;34m:\u001b[0m\u001b[0;34m\u001b[0m\u001b[0;34m\u001b[0m\u001b[0m\n",
            "\u001b[0;32m/usr/local/lib/python3.7/dist-packages/pandas/io/parsers.py\u001b[0m in \u001b[0;36m__init__\u001b[0;34m(self, src, **kwds)\u001b[0m\n\u001b[1;32m   1991\u001b[0m         \u001b[0;32mif\u001b[0m \u001b[0mkwds\u001b[0m\u001b[0;34m.\u001b[0m\u001b[0mget\u001b[0m\u001b[0;34m(\u001b[0m\u001b[0;34m\"compression\"\u001b[0m\u001b[0;34m)\u001b[0m \u001b[0;32mis\u001b[0m \u001b[0;32mNone\u001b[0m \u001b[0;32mand\u001b[0m \u001b[0mencoding\u001b[0m\u001b[0;34m:\u001b[0m\u001b[0;34m\u001b[0m\u001b[0;34m\u001b[0m\u001b[0m\n\u001b[1;32m   1992\u001b[0m             \u001b[0;32mif\u001b[0m \u001b[0misinstance\u001b[0m\u001b[0;34m(\u001b[0m\u001b[0msrc\u001b[0m\u001b[0;34m,\u001b[0m \u001b[0mstr\u001b[0m\u001b[0;34m)\u001b[0m\u001b[0;34m:\u001b[0m\u001b[0;34m\u001b[0m\u001b[0;34m\u001b[0m\u001b[0m\n\u001b[0;32m-> 1993\u001b[0;31m                 \u001b[0msrc\u001b[0m \u001b[0;34m=\u001b[0m \u001b[0mopen\u001b[0m\u001b[0;34m(\u001b[0m\u001b[0msrc\u001b[0m\u001b[0;34m,\u001b[0m \u001b[0;34m\"rb\"\u001b[0m\u001b[0;34m)\u001b[0m\u001b[0;34m\u001b[0m\u001b[0;34m\u001b[0m\u001b[0m\n\u001b[0m\u001b[1;32m   1994\u001b[0m                 \u001b[0mself\u001b[0m\u001b[0;34m.\u001b[0m\u001b[0mhandles\u001b[0m\u001b[0;34m.\u001b[0m\u001b[0mappend\u001b[0m\u001b[0;34m(\u001b[0m\u001b[0msrc\u001b[0m\u001b[0;34m)\u001b[0m\u001b[0;34m\u001b[0m\u001b[0;34m\u001b[0m\u001b[0m\n\u001b[1;32m   1995\u001b[0m \u001b[0;34m\u001b[0m\u001b[0m\n",
            "\u001b[0;31mFileNotFoundError\u001b[0m: [Errno 2] No such file or directory: 'movie_data.csv'"
          ]
        }
      ]
    },
    {
      "cell_type": "markdown",
      "metadata": {
        "id": "of9r1j-znMDf"
      },
      "source": [
        "**LSTM구현**"
      ]
    },
    {
      "cell_type": "code",
      "metadata": {
        "colab": {
          "resources": {
            "http://localhost:8080/nbextensions/google.colab/files.js": {
              "data": "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",
              "ok": true,
              "headers": [
                [
                  "content-type",
                  "application/javascript"
                ]
              ],
              "status": 200,
              "status_text": ""
            }
          },
          "base_uri": "https://localhost:8080/",
          "height": 75
        },
        "id": "u2Q5iPADNxlS",
        "outputId": "22585a05-dbdd-4831-b514-49b1caa9ae90"
      },
      "source": [
        "from google.colab import files\n",
        "myfile = files.upload()"
      ],
      "execution_count": null,
      "outputs": [
        {
          "output_type": "display_data",
          "data": {
            "text/html": [
              "\n",
              "     <input type=\"file\" id=\"files-bc593a99-e1a4-46c1-81c5-26612fb6dfcd\" name=\"files[]\" multiple disabled\n",
              "        style=\"border:none\" />\n",
              "     <output id=\"result-bc593a99-e1a4-46c1-81c5-26612fb6dfcd\">\n",
              "      Upload widget is only available when the cell has been executed in the\n",
              "      current browser session. Please rerun this cell to enable.\n",
              "      </output>\n",
              "      <script src=\"/nbextensions/google.colab/files.js\"></script> "
            ],
            "text/plain": [
              "<IPython.core.display.HTML object>"
            ]
          },
          "metadata": {
            "tags": []
          }
        },
        {
          "output_type": "stream",
          "text": [
            "Saving cansim-0800020-eng-6674700030567901031.csv to cansim-0800020-eng-6674700030567901031 (2).csv\n"
          ],
          "name": "stdout"
        }
      ]
    },
    {
      "cell_type": "code",
      "metadata": {
        "colab": {
          "base_uri": "https://localhost:8080/",
          "height": 1000
        },
        "id": "DAyU-9xZje1W",
        "outputId": "c96ffbb2-59cf-40fd-89e8-563a433f298a"
      },
      "source": [
        "import pandas as pd#데이터 분석\n",
        "import numpy as np#배열 사용\n",
        "%matplotlib inline\n",
        "import matplotlib.pyplot as plt#시각화 위함\n",
        "\n",
        "df = pd.read_csv('cansim-0800020-eng-6674700030567901031 (2).csv',skiprows=6, skipfooter=9,engine='python')#cansim-0800020-eng-6674700030567901031 (2).csv파일 읽어옴\n",
        "print(df.head())\n",
        "\n",
        "from pandas.tseries.offsets import MonthEnd #해당 월의 맨 끝 날짜\n",
        "df['Adjustments'] = pd.to_datetime(df['Adjustments']) + MonthEnd(1) #Adjustments 변수를 datetime 객체로 만들고 MonthEnd(1)더해 해당 월의 맨끝 날짜 지정\n",
        "df = df.set_index('Adjustments') #해당 날짜를 index로 지정\n",
        "print(df.head()) \n",
        "df.plot()#Unadjusted와 Seasonally adjusted 변수의 그래프\n",
        "\n",
        "split_date = pd.Timestamp('01-01-2011')#2011/1/1을 기준으로 나눔\n",
        "\n",
        "train = df.loc[:split_date, ['Unadjusted']]#2011/1/1 까지의 데이터를 학습데이터셋\n",
        "test = df.loc[split_date:, ['Unadjusted']]# 그 이후 데이터를 테스트데이터셋\n",
        "\n",
        "ax = train.plot()#train을 시각화\n",
        "test.plot(ax=ax)#test를 시각화\n",
        "plt.legend(['train', 'test'])#범례설정\n",
        "\n",
        "from sklearn.preprocessing import MinMaxScaler\n",
        "sc = MinMaxScaler()#MinMax Scaling을 통해 변수를 Scaling\n",
        "train_sc = sc.fit_transform(train)#train Scaling\n",
        "test_sc = sc.transform(test)#test Scaling\n",
        "print(train_sc[0:5])#스케일링된 train_sc 처음부터 5개 출력\n",
        "\n",
        "train_sc_df = pd.DataFrame(train_sc, columns=['Scaled'], index=train.index)#train_sc을 dataframe 데이터 타입으로 변환\n",
        "test_sc_df = pd.DataFrame(test_sc, columns=['Scaled'], index=test.index)#test_sc을 dataframe 데이터 타입으로 변환\n",
        "print(train_sc_df.head())\n",
        "\n",
        "for s in range(1, 13):\n",
        "    train_sc_df['shift_{}'.format(s)] = train_sc_df['Scaled'].shift(s)#train_sc_df의 과거값은 총 12개를 저장\n",
        "    test_sc_df['shift_{}'.format(s)] = test_sc_df['Scaled'].shift(s)#test_sc_df의 과거값은 총 12개를 저장\n",
        "print(train_sc_df.head(7))#7개의 shift1~12를 통해 현재값 Scaled를 예측값 출력\n",
        "\n",
        "X_train = train_sc_df.dropna().drop('Scaled', axis=1)#NaN이 있는 데이터를 제거shift_1 ~ shift_12는 X로 Scaled는 Y로 지정\n",
        "y_train = train_sc_df.dropna()[['Scaled']]#NaN이 있는 데이터를 제거,shift_1 ~ shift_12는 X로 Scaled는 Y로 지정\n",
        "X_test = test_sc_df.dropna().drop('Scaled', axis=1)#NaN이 있는 데이터를 제거,shift_1 ~ shift_12는 X로 Scaled는 Y로 지정\n",
        "y_test = test_sc_df.dropna()[['Scaled']]#NaN이 있는 데이터를 제거,shift_1 ~ shift_12는 X로 Scaled는 Y로 지정\n",
        "print(X_train.head())"
      ],
      "execution_count": null,
      "outputs": [
        {
          "output_type": "stream",
          "text": [
            "  Adjustments  Unadjusted  Seasonally adjusted\n",
            "0    Jan-1991    12588862             15026890\n",
            "1    Feb-1991    12154321             15304585\n",
            "2    Mar-1991    14337072             15413591\n",
            "3    Apr-1991    15108570             15293409\n",
            "4    May-1991    17225734             15676083\n",
            "             Unadjusted  Seasonally adjusted\n",
            "Adjustments                                 \n",
            "1991-01-31     12588862             15026890\n",
            "1991-02-28     12154321             15304585\n",
            "1991-03-31     14337072             15413591\n",
            "1991-04-30     15108570             15293409\n",
            "1991-05-31     17225734             15676083\n",
            "[[0.01402033]\n",
            " [0.        ]\n",
            " [0.0704258 ]\n",
            " [0.09531795]\n",
            " [0.16362761]]\n",
            "               Scaled\n",
            "Adjustments          \n",
            "1991-01-31   0.014020\n",
            "1991-02-28   0.000000\n",
            "1991-03-31   0.070426\n",
            "1991-04-30   0.095318\n",
            "1991-05-31   0.163628\n",
            "               Scaled   shift_1   shift_2  ...  shift_10  shift_11  shift_12\n",
            "Adjustments                                ...                              \n",
            "1991-01-31   0.014020       NaN       NaN  ...       NaN       NaN       NaN\n",
            "1991-02-28   0.000000  0.014020       NaN  ...       NaN       NaN       NaN\n",
            "1991-03-31   0.070426  0.000000  0.014020  ...       NaN       NaN       NaN\n",
            "1991-04-30   0.095318  0.070426  0.000000  ...       NaN       NaN       NaN\n",
            "1991-05-31   0.163628  0.095318  0.070426  ...       NaN       NaN       NaN\n",
            "1991-06-30   0.135141  0.163628  0.095318  ...       NaN       NaN       NaN\n",
            "1991-07-31   0.123958  0.135141  0.163628  ...       NaN       NaN       NaN\n",
            "\n",
            "[7 rows x 13 columns]\n",
            "              shift_1   shift_2   shift_3  ...  shift_10  shift_11  shift_12\n",
            "Adjustments                                ...                              \n",
            "1992-01-31   0.200913  0.131738  0.111395  ...  0.070426  0.000000  0.014020\n",
            "1992-02-29   0.030027  0.200913  0.131738  ...  0.095318  0.070426  0.000000\n",
            "1992-03-31   0.019993  0.030027  0.200913  ...  0.163628  0.095318  0.070426\n",
            "1992-04-30   0.065964  0.019993  0.030027  ...  0.135141  0.163628  0.095318\n",
            "1992-05-31   0.109831  0.065964  0.019993  ...  0.123958  0.135141  0.163628\n",
            "\n",
            "[5 rows x 12 columns]\n"
          ],
          "name": "stdout"
        },
        {
          "output_type": "display_data",
          "data": {
            "image/png": "[encoded data removed]",
            "text/plain": [
              "<Figure size 432x288 with 1 Axes>"
            ]
          },
          "metadata": {
            "tags": [],
            "needs_background": "light"
          }
        },
        {
          "output_type": "display_data",
          "data": {
            "image/png": "[encoded data removed]",
            "text/plain": [
              "<Figure size 432x288 with 1 Axes>"
            ]
          },
          "metadata": {
            "tags": [],
            "needs_background": "light"
          }
        }
      ]
    }
  ]
}