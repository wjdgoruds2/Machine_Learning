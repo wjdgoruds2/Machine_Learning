{
  "nbformat": 4,
  "nbformat_minor": 0,
  "metadata": {
    "colab": {
      "name": "Untitled26.ipynb",
      "provenance": [],
      "collapsed_sections": [],
      "authorship_tag": "ABX9TyPfw2ngsyicntjBaGEaOfD+",
      "include_colab_link": true
    },
    "kernelspec": {
      "display_name": "Python 3",
      "name": "python3"
    },
    "language_info": {
      "name": "python"
    },
    "accelerator": "GPU"
  },
  "cells": [
    {
      "cell_type": "markdown",
      "metadata": {
        "id": "view-in-github",
        "colab_type": "text"
      },
      "source": [
        "<a href=\"https://colab.research.google.com/github/wjdgoruds2/Machine_Learning/blob/main/LightGBM.ipynb\" target=\"_parent\"><img src=\"https://colab.research.google.com/assets/colab-badge.svg\" alt=\"Open In Colab\"/></a>"
      ]
    },
    {
      "cell_type": "code",
      "metadata": {
        "colab": {
          "base_uri": "https://localhost:8080/"
        },
        "id": "P23goCFuPnG2",
        "outputId": "ab34d4e7-2b4b-430b-f3c4-9dadbf696b09"
      },
      "source": [
        "!pip install lightgbm#lightgbm설치\n",
        "from lightgbm import LGBMClassifier,LGBMRegressor#LGBM분류와 회귀 위함\n",
        "from lightgbm import plot_importance,plot_metric,plot_tree#피퍼 중요도 시각화,매트릭,트리\n",
        "from sklearn.datasets import load_iris #load_iris데이터\n",
        "from sklearn.model_selection import train_test_split#학습,테스트 데이터 분할\n",
        "from sklearn.model_selection import cross_validate#다중 평가 지표\n",
        "\n",
        "iris=load_iris()#load_iris데이터 불러옴\n",
        "X_train,X_test,y_train,y_test=train_test_split(iris.data,iris.target,test_size=0.2,random_state=123)#난수생성 123으로 초기화,20% 80%로 테스트,학습 데이터 분류\n",
        "lgbmc=LGBMClassifier(n_estimators=400)#반복 수행하는 트리 개수 400로 분류\n",
        "evals=[(X_test,y_test)]#검증 세트 설정\n",
        "lgbmc.fit(X_train,y_train,early_stopping_rounds=100,eval_metric='logloss',eval_set=evals,verbose=True)#logloss방법,evals를 검증세트로 조기 중단 라운드는 100으로 자세히 예측\n",
        "preds=lgbmc.predict(X_test)#X_test으로 예측 수행\n",
        "\n",
        "cross_val=cross_validate(estimator=lgbmc,X=iris.data,y=iris.target,cv=5)#폴드 수 5로 다중평가 \n",
        "\n",
        "print('avg fit time: {} (+/- {})'.format(cross_val['fit_time'].mean(),cross_val['fit_time'].std()))#fit_time평균과 표준편차 출력\n",
        "print('avg score time: {} (+/- {})'.format(cross_val['score_time'].mean(),cross_val['score_time'].std()))#score_time평균과 표준편차 출력\n",
        "print('avg test score: {} (+/- {})'.format(cross_val['test_score'].mean(),cross_val['test_score'].std()))#test_score평균과 표준편차 출력\n",
        "\n",
        "plot_metric(lgbmc)#학습중 lgbmc메트릭 표시\n",
        "plot_importance(lgbmc,figsize=(10,12))#figsize로 lgbm중요도 시각화"
      ],
      "execution_count": 1,
      "outputs": [
        {
          "output_type": "stream",
          "text": [
            "Collecting catboost\n",
            "\u001b[?25l  Downloading https://files.pythonhosted.org/packages/47/80/8e9c57ec32dfed6ba2922bc5c96462cbf8596ce1a6f5de532ad1e43e53fe/catboost-0.25.1-cp37-none-manylinux1_x86_64.whl (67.3MB)\n",
            "\u001b[K     |████████████████████████████████| 67.3MB 46kB/s \n",
            "\u001b[?25hRequirement already satisfied: six in /usr/local/lib/python3.7/dist-packages (from catboost) (1.15.0)\n",
            "Requirement already satisfied: matplotlib in /usr/local/lib/python3.7/dist-packages (from catboost) (3.2.2)\n",
            "Requirement already satisfied: pandas>=0.24.0 in /usr/local/lib/python3.7/dist-packages (from catboost) (1.1.5)\n",
            "Requirement already satisfied: plotly in /usr/local/lib/python3.7/dist-packages (from catboost) (4.4.1)\n",
            "Requirement already satisfied: numpy>=1.16.0 in /usr/local/lib/python3.7/dist-packages (from catboost) (1.19.5)\n",
            "Requirement already satisfied: graphviz in /usr/local/lib/python3.7/dist-packages (from catboost) (0.10.1)\n",
            "Requirement already satisfied: scipy in /usr/local/lib/python3.7/dist-packages (from catboost) (1.4.1)\n",
            "Requirement already satisfied: kiwisolver>=1.0.1 in /usr/local/lib/python3.7/dist-packages (from matplotlib->catboost) (1.3.1)\n",
            "Requirement already satisfied: pyparsing!=2.0.4,!=2.1.2,!=2.1.6,>=2.0.1 in /usr/local/lib/python3.7/dist-packages (from matplotlib->catboost) (2.4.7)\n",
            "Requirement already satisfied: cycler>=0.10 in /usr/local/lib/python3.7/dist-packages (from matplotlib->catboost) (0.10.0)\n",
            "Requirement already satisfied: python-dateutil>=2.1 in /usr/local/lib/python3.7/dist-packages (from matplotlib->catboost) (2.8.1)\n",
            "Requirement already satisfied: pytz>=2017.2 in /usr/local/lib/python3.7/dist-packages (from pandas>=0.24.0->catboost) (2018.9)\n",
            "Requirement already satisfied: retrying>=1.3.3 in /usr/local/lib/python3.7/dist-packages (from plotly->catboost) (1.3.3)\n",
            "Installing collected packages: catboost\n",
            "Successfully installed catboost-0.25.1\n",
            "Feature names=\n",
            "id, synopsis, rating_MPAA, genre, director, writer, theater_date, dvd_date, box_office, runtime, studio, dvd_date_int, theater_date_int, review, rating, fresh, critic, top_critic, publisher, date, date_int, rating_10\n",
            "0:\tlearn: 0.3858217\ttest: 0.3980927\tbest: 0.3980927 (0)\ttotal: 106ms\tremaining: 1m 46s\n",
            "100:\tlearn: 0.4458303\ttest: 0.4559237\tbest: 0.4561682 (99)\ttotal: 5.21s\tremaining: 46.4s\n",
            "200:\tlearn: 0.4561323\ttest: 0.4605698\tbest: 0.4610588 (198)\ttotal: 9.44s\tremaining: 37.5s\n",
            "300:\tlearn: 0.4639276\ttest: 0.4655826\tbest: 0.4657049 (298)\ttotal: 13.2s\tremaining: 30.7s\n",
            "400:\tlearn: 0.4710504\ttest: 0.4675388\tbest: 0.4679056 (388)\ttotal: 17.1s\tremaining: 25.6s\n",
            "500:\tlearn: 0.4785094\ttest: 0.4664384\tbest: 0.4686392 (408)\ttotal: 21.1s\tremaining: 21.1s\n",
            "600:\tlearn: 0.4843788\ttest: 0.4681501\tbest: 0.4686392 (408)\ttotal: 25s\tremaining: 16.6s\n",
            "700:\tlearn: 0.4900342\ttest: 0.4677833\tbest: 0.4690060 (666)\ttotal: 28.9s\tremaining: 12.3s\n",
            "800:\tlearn: 0.4949865\ttest: 0.4687615\tbest: 0.4692505 (770)\ttotal: 32.8s\tremaining: 8.14s\n",
            "900:\tlearn: 0.4992969\ttest: 0.4681501\tbest: 0.4694950 (880)\ttotal: 36.7s\tremaining: 4.03s\n",
            "999:\tlearn: 0.5040352\ttest: 0.4692505\tbest: 0.4701064 (981)\ttotal: 40.5s\tremaining: 0us\n",
            "bestTest = 0.47010637\n",
            "bestIteration = 981\n",
            "Shrink model to first 982 iterations.\n"
          ],
          "name": "stdout"
        },
        {
          "output_type": "execute_result",
          "data": {
            "text/plain": [
              "<catboost.core.CatBoostClassifier at 0x7f6bb36e0ed0>"
            ]
          },
          "metadata": {
            "tags": []
          },
          "execution_count": 1
        }
      ]
    }
  ]
}