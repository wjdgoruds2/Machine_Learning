{
  "nbformat": 4,
  "nbformat_minor": 0,
  "metadata": {
    "colab": {
      "name": "Untitled26.ipynb",
      "provenance": [],
      "collapsed_sections": [],
      "authorship_tag": "ABX9TyOCX1HyyK2K8PC6ZL8zQ4bw",
      "include_colab_link": true
    },
    "kernelspec": {
      "display_name": "Python 3",
      "name": "python3"
    },
    "language_info": {
      "name": "python"
    }
  },
  "cells": [
    {
      "cell_type": "markdown",
      "metadata": {
        "id": "view-in-github",
        "colab_type": "text"
      },
      "source": [
        "<a href=\"https://colab.research.google.com/github/wjdgoruds2/Machine_Learning/blob/main/LinearRegression%2CRidge%2CLasso%2CElasticNet.ipynb\" target=\"_parent\"><img src=\"https://colab.research.google.com/assets/colab-badge.svg\" alt=\"Open In Colab\"/></a>"
      ]
    },
    {
      "cell_type": "code",
      "metadata": {
        "id": "eKYIGCADugtW"
      },
      "source": [
        "import numpy as np#벡터와 행렬 연산 \n",
        "import pandas as pd#데이터 분석\n",
        "from sklearn.datasets import load_boston#load_boston데이터 불러옴\n",
        "from sklearn.model_selection import train_test_split#학습,테스트 데이터 분히\n",
        "from sklearn.preprocessing import StandardScaler#스케일 조정 위함\n",
        "import matplotlib.pyplot as plt#그래프 시각화 위함\n",
        "from sklearn.linear_model import LinearRegression,Ridge,Lasso,ElasticNet#선형회귀,리지회귀,라소회귀,일레스틱 넷 회귀\n",
        "from sklearn.metrics import mean_squared_error#성능 측정\n",
        "\n",
        "\n",
        "boston=load_boston()#load_boston데이터 불러옴\n",
        "data=pd.DataFrame(boston.data,columns=feature_names)#칼럼을feature_names으로 2차원 데이터 저장\n",
        "X=data[['RM','PTRATIO']].values#'RM','PTRATIO','RAD','TAX','LSTAT','CRIM','NOX','B'의 값을 X로 설정\n",
        "y=boston.target#target정보 y로 설정\n",
        "\n",
        "sc_x=StandardScaler()#기본 스케일링(평균과 표준편차 사용) \n",
        "sc_y=StandardScaler()#기본 스케일링(평균과 표준편차 사용) \n",
        "X_std=sc_x.fit_transform(X)#X를 fit,transform수행\n",
        "y_std=sc_x.fit_transform(y[:,np.newaxis]).flatten()#np.newaxis로 2차원 배열 형태 맞춤,flatten통해 본래 1차원 배열로 변형\n",
        "X_train,X_test,y_train,y_test=train_test_split(X_std,y_std,test_size=0.2,random_state=123))#난수생성 123으로 초기화,20% 80%로 테스트,학습 데이터 분류\n",
        "\n",
        "linear=LinearRegression()#선형회귀 \n",
        "ridge=Ridge(alpha=1.0,random_state=0)#단순화 정도 1.0으로 리지모델 적용\n",
        "lasso=Lasso(alpha=1.0,random_state=0)#단순화 정도 1.0으로 라소모델 적용\n",
        "enet=ElasticNet(alpha=1.0,l1_ratio=0.5)#단순화 정도 1.0으로 일레스틱 넷 모델 적용\n",
        "\n",
        "linear.fit(X_train,y_train)#X_train로 선형모델 데이터 변환\n",
        "ridge.fit(X_train,y_train)#X_train,y_train로 리지모델 데이터 변환\n",
        "lasso.fit(X_train,y_train)#X_train,y_train로 라소모델 데이터 변환\n",
        "enet.fit(X_train,y_train)#X_train,y_train로 일레스틱 넷 모델 데이터 변환\n",
        "\n",
        "linear_pred=linear.predict(X_train)#X_train로 선형모델 예측\n",
        "ridge_pred=ridge.predict(X_train)#X_train로 리지모델 예측\n",
        "lasso_pred=lasso.predict(X_train)#X_train로 라소모델 예측\n",
        "enet_pred=enet.predict(X_train)#X_train로 일레스틱 넷 모델 예측\n",
        "\n",
        "print('\\nLinear-RMSE for training data:',np.sqrt(mean_squared_error(y_train,linear_pred)))#훈련데이터 선형모델 에러 제곱근 계산\n",
        "print('\\nRidger-RMSE for training data:',np.sqrt(mean_squared_error(y_train,ridge_pred)))#훈련데이터 리지모델 에러 제곱근 계산\n",
        "print('\\nLasso-RMSE for training data:',np.sqrt(mean_squared_error(y_train,lasso_pred)))#훈련데이터 라소모델 에러 제곱근 계산\n",
        "print('\\nEnet-RMSE for training data:',np.sqrt(mean_squared_error(y_train,enet_pred)))#훈련데이터 일레스틱 넷 모델 에러 제곱근 계산\n",
        "\n",
        "linear_pred=linear.predict(X_test)#X_test로 선형모델 예측\n",
        "ridge_pred=ridge.predict(X_test)#X_test로 선형모델 예측\n",
        "lasso_pred=lasso.predict(X_test)#X_test로 선형모델 예측\n",
        "enet_pred=enet.predict(X_test)#X_test로 선형모델 예측\n",
        "\n",
        "print('\\nLinear-RMSE for test data:',np.sqrt(mean_squared_error(y_test,linear_pred)))#학습데이터 선형모델 에러 제곱근 계산\n",
        "print('\\nRidger-RMSE for test data:',np.sqrt(mean_squared_error(y_test,ridge_pred)))#학습데이터 리지모델 에러 제곱근 계산\n",
        "print('\\nLasso-RMSE for test data:',np.sqrt(mean_squared_error(y_test,lasso_pred)))#학습데이터 라소모델 에러 제곱근 계산\n",
        "print('\\nEnet-RMSE for test data:',np.sqrt(mean_squared_error(y_test,enet_pred)))#학습데이터 일레스틱 넷 모델 에러 제곱근 계산\n"
      ],
      "execution_count": null,
      "outputs": []
    }
  ]
}