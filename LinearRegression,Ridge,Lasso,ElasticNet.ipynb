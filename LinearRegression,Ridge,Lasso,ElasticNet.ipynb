{
  "nbformat": 4,
  "nbformat_minor": 0,
  "metadata": {
    "colab": {
      "name": "Untitled26.ipynb",
      "provenance": [],
      "collapsed_sections": [],
      "authorship_tag": "ABX9TyMANLZ0dl/aOQBpiHAhhAVy",
      "include_colab_link": true
    },
    "kernelspec": {
      "display_name": "Python 3",
      "name": "python3"
    },
    "language_info": {
      "name": "python"
    }
  },
  "cells": [
    {
      "cell_type": "markdown",
      "metadata": {
        "id": "view-in-github",
        "colab_type": "text"
      },
      "source": [
        "<a href=\"https://colab.research.google.com/github/wjdgoruds2/Machine_Learning/blob/main/LinearRegression%2CRidge%2CLasso%2CElasticNet.ipynb\" target=\"_parent\"><img src=\"https://colab.research.google.com/assets/colab-badge.svg\" alt=\"Open In Colab\"/></a>"
      ]
    },
    {
      "cell_type": "code",
      "metadata": {
        "colab": {
          "base_uri": "https://localhost:8080/",
          "height": 457
        },
        "id": "P23goCFuPnG2",
        "outputId": "8d1f3906-986d-4889-8bf9-7f78dc75074b"
      },
      "source": [
        "import numpy as np#벡터와 행렬 연산 \n",
        "\n",
        "class LinearRegressionGD(object):#선형회귀\n",
        "  def __init__(self,eta=0.001,n_iter=20):#생성자 값 설정\n",
        "    self.eta=eta\n",
        "    self.n_iter=n_iter\n",
        "  def fit(self,X,y):\n",
        "    self.w_=np.zeros(1+X.shape[1])#가중치를 배열로 정의.X.shape[1]은 학습 데이터의 입력값 개수\n",
        "    self.cost_=[]#비용\n",
        "\n",
        "    for i in range(self.n_iter):#n_iter만큼 반복\n",
        "      output=self.net_input(X)\n",
        "      errors=(y-output)#오류회수 설정\n",
        "      self.w_[1:]+=self.eta*X.T.dot(errors)#가중치을 업데이트\n",
        "      self.w_[0]+=self.eta*errors.sum()#가중치의 합 더함\n",
        "      cost=(errors**2).sum()/2.0#비용계산\n",
        "      self.cost_.append(cost)#비용 배열에 더함\n",
        "    return self\n",
        "\n",
        "  def net_input(self,X):\n",
        "    return np.dot(X,self.w_[1:]) +self.w_[0]#학습 데이터 X입력값과 가중치를 곱한 총합,즉 순입력 함수 결과값\n",
        "\n",
        "  def predict(self,X):\n",
        "    return self.net_input(X)#예측 값 반환\n",
        "\n",
        "import pandas as pd#데이터 분석\n",
        "from sklearn.datasets import load_boston#load_boston데이터 불러옴\n",
        "from sklearn.model_selection import train_test_split#학습,테스트 데이터 분히\n",
        "from sklearn.preprocessing import StandardScaler#스케일 조정 위함\n",
        "\n",
        "boston=load_boston()#load_boston데이터 불러옴\n",
        "data=pd.DataFrame(boston.data,columns=feature_names)#칼럼을feature_names으로 2차원 데이터 저장\n",
        "\n",
        "X=data[['RM','PTRATIO']].values#'RM','PTRATIO'의 값을 X로 설정\n",
        "y=boston.target#target정보 y로 설정\n",
        "\n",
        "print(data.head())#DataFrame처음 줄 출력\n",
        "print(y[0:5])#y[0:5]출력\n",
        "\n",
        "sc_x=StandardScaler()#기본 스케일링(평균과 표준편차 사용) \n",
        "sc_y=StandardScaler()#기본 스케일링(평균과 표준편차 사용) \n",
        "X_std=sc_x.fit_transform(X)#X를 fit,transform수행\n",
        "y_std=sc_x.fit_transform(y[:,np.newaxis]).flatten()#np.newaxis로 2차원 배열 형태 맞춤,flatten통해 본래 1차원 배열로 변형\n",
        "X_train,X_test,y_train,y_test=train_test_split(X_std,y_std,test_size=0.2,random_state=123))#난수생성 123으로 초기화,20% 80%로 테스트,학습 데이터 분류\n",
        "\n",
        "lr=LinearRegressionGD()#선형회귀\n",
        "lr.fit(X_train,y_train)#X_train,y_train로 예측\n",
        "\n",
        "import matplotlib.pyplot as plt#그래프 시각화 휘함\n",
        "plt.plot(range(1,lr.n_iter+1),lr.cost_)#range범위x축,비용 y축\n",
        "plt.ylabel('Sum of Squared Error')#x축 라벨 설정\n",
        "plt.xlabel('Iterations')#y축 라벨 설정\n",
        "plt.show()#그래프 출력\n",
        "\n",
        "from sklearn.metrics import mean_squared_error#성능 측정\n",
        "preds=lr.predict(X_test)#X_test로 예측\n",
        "mse=mean_squared_error(y_test,preds)#에러값 계산\n",
        "print('Root mean squared error:',np.sqrt(mse))#에러 제곱근 출력\n"
      ],
      "execution_count": 1,
      "outputs": [
        {
          "output_type": "stream",
          "text": [
            "      CRIM    ZN  INDUS  CHAS    NOX  ...  RAD    TAX  PTRATIO       B  LSTAT\n",
            "0  0.00632  18.0   2.31   0.0  0.538  ...  1.0  296.0     15.3  396.90   4.98\n",
            "1  0.02731   0.0   7.07   0.0  0.469  ...  2.0  242.0     17.8  396.90   9.14\n",
            "2  0.02729   0.0   7.07   0.0  0.469  ...  2.0  242.0     17.8  392.83   4.03\n",
            "3  0.03237   0.0   2.18   0.0  0.458  ...  3.0  222.0     18.7  394.63   2.94\n",
            "4  0.06905   0.0   2.18   0.0  0.458  ...  3.0  222.0     18.7  396.90   5.33\n",
            "\n",
            "[5 rows x 13 columns]\n",
            "[24.  21.6 34.7 33.4 36.2]\n"
          ],
          "name": "stdout"
        },
        {
          "output_type": "display_data",
          "data": {
            "image/png": "[encoded data removed]",
            "text/plain": [
              "<Figure size 432x288 with 1 Axes>"
            ]
          },
          "metadata": {
            "tags": [],
            "needs_background": "light"
          }
        },
        {
          "output_type": "stream",
          "text": [
            "Root mean squared error: 0.738966525893207\n"
          ],
          "name": "stdout"
        }
      ]
    },
    {
      "cell_type": "code",
      "metadata": {
        "id": "eKYIGCADugtW"
      },
      "source": [
        "import numpy as np#벡터와 행렬 연산 \n",
        "import pandas as pd#데이터 분석\n",
        "from sklearn.datasets import load_boston#load_boston데이터 불러옴\n",
        "from sklearn.model_selection import train_test_split#학습,테스트 데이터 분히\n",
        "from sklearn.preprocessing import StandardScaler#스케일 조정 위함\n",
        "import matplotlib.pyplot as plt#그래프 시각화 위함\n",
        "from sklearn.linear_model import LinearRegression,Ridge,Lasso,ElasticNet#선형회귀,리지회귀,라소회귀,일레스틱 넷 회귀\n",
        "from sklearn.metrics import mean_squared_error#성능 측정\n",
        "\n",
        "\n",
        "boston=load_boston()#load_boston데이터 불러옴\n",
        "data=pd.DataFrame(boston.data,columns=feature_names)#칼럼을feature_names으로 2차원 데이터 저장\n",
        "X=data[['RM','PTRATIO']].values#'RM','PTRATIO','RAD','TAX','LSTAT','CRIM','NOX','B'의 값을 X로 설정\n",
        "y=boston.target#target정보 y로 설정\n",
        "\n",
        "sc_x=StandardScaler()#기본 스케일링(평균과 표준편차 사용) \n",
        "sc_y=StandardScaler()#기본 스케일링(평균과 표준편차 사용) \n",
        "X_std=sc_x.fit_transform(X)#X를 fit,transform수행\n",
        "y_std=sc_x.fit_transform(y[:,np.newaxis]).flatten()#np.newaxis로 2차원 배열 형태 맞춤,flatten통해 본래 1차원 배열로 변형\n",
        "X_train,X_test,y_train,y_test=train_test_split(X_std,y_std,test_size=0.2,random_state=123))#난수생성 123으로 초기화,20% 80%로 테스트,학습 데이터 분류\n",
        "\n",
        "linear=LinearRegression()#선형회귀 \n",
        "ridge=Ridge(alpha=1.0,random_state=0)#단순화 정도 1.0으로 리지모델 적용\n",
        "lasso=Lasso(alpha=1.0,random_state=0)#단순화 정도 1.0으로 라소모델 적용\n",
        "enet=ElasticNet(alpha=1.0,l1_ratio=0.5)#단순화 정도 1.0으로 일레스틱 넷 모델 적용\n",
        "\n",
        "linear.fit(X_train,y_train)#X_train로 선형모델 데이터 변환\n",
        "ridge.fit(X_train,y_train)#X_train,y_train로 리지모델 데이터 변환\n",
        "lasso.fit(X_train,y_train)#X_train,y_train로 라소모델 데이터 변환\n",
        "enet.fit(X_train,y_train)#X_train,y_train로 일레스틱 넷 모델 데이터 변환\n",
        "\n",
        "linear_pred=linear.predict(X_train)#X_train로 선형모델 예측\n",
        "ridge_pred=ridge.predict(X_train)#X_train로 리지모델 예측\n",
        "lasso_pred=lasso.predict(X_train)#X_train로 라소모델 예측\n",
        "enet_pred=enet.predict(X_train)#X_train로 일레스틱 넷 모델 예측\n",
        "\n",
        "print('\\nLinear-RMSE for training data:',np.sqrt(mean_squared_error(y_train,linear_pred)))#훈련데이터 선형모델 에러 제곱근 계산\n",
        "print('\\nRidger-RMSE for training data:',np.sqrt(mean_squared_error(y_train,ridge_pred)))#훈련데이터 리지모델 에러 제곱근 계산\n",
        "print('\\nLasso-RMSE for training data:',np.sqrt(mean_squared_error(y_train,lasso_pred)))#훈련데이터 라소모델 에러 제곱근 계산\n",
        "print('\\nEnet-RMSE for training data:',np.sqrt(mean_squared_error(y_train,enet_pred)))#훈련데이터 일레스틱 넷 모델 에러 제곱근 계산\n",
        "\n",
        "linear_pred=linear.predict(X_test)#X_test로 선형모델 예측\n",
        "ridge_pred=ridge.predict(X_test)#X_test로 선형모델 예측\n",
        "lasso_pred=lasso.predict(X_test)#X_test로 선형모델 예측\n",
        "enet_pred=enet.predict(X_test)#X_test로 선형모델 예측\n",
        "\n",
        "print('\\nLinear-RMSE for test data:',np.sqrt(mean_squared_error(y_test,linear_pred)))#학습데이터 선형모델 에러 제곱근 계산\n",
        "print('\\nRidger-RMSE for test data:',np.sqrt(mean_squared_error(y_test,ridge_pred)))#학습데이터 리지모델 에러 제곱근 계산\n",
        "print('\\nLasso-RMSE for test data:',np.sqrt(mean_squared_error(y_test,lasso_pred)))#학습데이터 라소모델 에러 제곱근 계산\n",
        "print('\\nEnet-RMSE for test data:',np.sqrt(mean_squared_error(y_test,enet_pred)))#학습데이터 일레스틱 넷 모델 에러 제곱근 계산\n"
      ],
      "execution_count": null,
      "outputs": []
    }
  ]
}