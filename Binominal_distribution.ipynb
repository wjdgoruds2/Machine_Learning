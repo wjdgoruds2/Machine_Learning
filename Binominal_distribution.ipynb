{
  "nbformat": 4,
  "nbformat_minor": 0,
  "metadata": {
    "colab": {
      "name": "Untitled3.ipynb",
      "provenance": [],
      "collapsed_sections": [],
      "authorship_tag": "ABX9TyPwPbELtB8RwXkVST9O1xmn",
      "include_colab_link": true
    },
    "kernelspec": {
      "name": "python3",
      "display_name": "Python 3"
    }
  },
  "cells": [
    {
      "cell_type": "markdown",
      "metadata": {
        "id": "view-in-github",
        "colab_type": "text"
      },
      "source": [
        "<a href=\"https://colab.research.google.com/github/wjdgoruds2/Machine_Learning/blob/main/Binominal_distribution.ipynb\" target=\"_parent\"><img src=\"https://colab.research.google.com/assets/colab-badge.svg\" alt=\"Open In Colab\"/></a>"
      ]
    },
    {
      "cell_type": "code",
      "metadata": {
        "colab": {
          "base_uri": "https://localhost:8080/",
          "height": 313
        },
        "id": "sD1AQw1RtOv9",
        "outputId": "b2228b9e-8b9f-42bb-8533-9937ec12b2ab"
      },
      "source": [
        "import numpy as np #배열 시용\n",
        "from scipy.stats import binom #이항 분포\n",
        "import matplotlib.pyplot as plt #차트 사용\n",
        "\n",
        "def run_binom(trials,n,p):\n",
        "  heads=[]\n",
        "  for i in range(trials):\n",
        "    tosses=[np.random.random() for i in range(n)] #1~n-1까지 반복하여 랜덤데이터 생성\n",
        "    heads.append(len([i for i in tosses if i <= p]))\n",
        "  return heads\n",
        "\n",
        "successes=run_binom(10,5,0.4) #0.4의 확률을 가지는 5번의 시행으로 10번의 성공이 나타낳 확률\n",
        "print(successes)\n",
        "\n",
        "trials=1000\n",
        "n=20\n",
        "p=0.3\n",
        "x=range(0,21) #x축 범위\n",
        "plt.plot(x,binom.pmf(x,n,p),'ro',label='Bino(10,0.3)') #x,n,p에 대한 이항 확률값\n",
        "plt.title('binomial distribution') #그래프 이름\n",
        "plt.xlabel('no. of successes') #x라벨 이름\n",
        "plt.ylabel('probability') #y라벨 이름\n",
        "plt.legend() #범례값\n",
        "plt.show()"
      ],
      "execution_count": null,
      "outputs": [
        {
          "output_type": "stream",
          "text": [
            "[3, 0, 1, 3, 1, 4, 2, 2, 4, 1]\n"
          ],
          "name": "stdout"
        },
        {
          "output_type": "display_data",
          "data": {
            "image/png": "[encoded data removed]",
            "text/plain": [
              "<Figure size 432x288 with 1 Axes>"
            ]
          },
          "metadata": {
            "tags": [],
            "needs_background": "light"
          }
        }
      ]
    },
    {
      "cell_type": "code",
      "metadata": {
        "id": "xBYO87Qq1jG7"
      },
      "source": [
        ""
      ],
      "execution_count": null,
      "outputs": []
    }
  ]
}