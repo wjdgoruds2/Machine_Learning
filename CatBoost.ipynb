{
  "nbformat": 4,
  "nbformat_minor": 0,
  "metadata": {
    "colab": {
      "name": "Untitled26.ipynb",
      "provenance": [],
      "collapsed_sections": [],
      "authorship_tag": "ABX9TyOANik5HcTcC5WGjYuFFBLm",
      "include_colab_link": true
    },
    "kernelspec": {
      "display_name": "Python 3",
      "name": "python3"
    },
    "language_info": {
      "name": "python"
    },
    "accelerator": "GPU"
  },
  "cells": [
    {
      "cell_type": "markdown",
      "metadata": {
        "id": "view-in-github",
        "colab_type": "text"
      },
      "source": [
        "<a href=\"https://colab.research.google.com/github/wjdgoruds2/Machine_Learning/blob/main/CatBoost.ipynb\" target=\"_parent\"><img src=\"https://colab.research.google.com/assets/colab-badge.svg\" alt=\"Open In Colab\"/></a>"
      ]
    },
    {
      "cell_type": "code",
      "metadata": {
        "colab": {
          "base_uri": "https://localhost:8080/"
        },
        "id": "P23goCFuPnG2",
        "outputId": "ab34d4e7-2b4b-430b-f3c4-9dadbf696b09"
      },
      "source": [
        "!pip install catboost#catboost설치\n",
        "import torch #pytorch\n",
        "import pandas as pd#데이터 분석 위함\n",
        "import numpy as np#벡터와 행렬 연산\n",
        "from catboost import Pool,CatBoostClassifier#pool:catboost에서 모델 학습할 데이터 구조,CatBoostClassifier:catboost에서 분류 위함\n",
        "from catboost.datasets import rotten_tomatoes#rotten_tomatoes데이터 사용\n",
        "\n",
        "learn,_=rotten_tomatoes()#마지막 무시하고learn에서 rotten_tomatoes데이터 저장\n",
        "print('Feature names=\\n'+', '.join(list(learn)))#learn배열의 모든 요소 연결해 하나의 문자열로\n",
        "auxiliary_colums=['id','theater_date','dvd_date','rating','date']#컬럼 설정\n",
        "cat_features=['rating_MPAA','studio','fresh','critic','top_critic','publisher']#cat_features배열 설정\n",
        "text_features=['synopsis','genre','director','writer','review']#text_features배열 설정\n",
        "\n",
        "def get_processed_rotten_tomatoes():\n",
        "  learn,test=rotten_tomatoes()#learn,test에 rotten_tomatoes데이터 저장\n",
        "\n",
        "  def fill_na(df,features)\n",
        "    for feature in features:#features만큼 반복\n",
        "      df[feature].fillna('',inplace=True)#열의 빈값은 공백으로 채워 저장\n",
        "\n",
        "  def preprocess_data_part(data_part):\n",
        "    data_part=data_part.drop(auxiliary_colums,axis=1)#auxiliary_colums을 y축 기준으로 합 삭제\n",
        "\n",
        "    fill_na(data_part,cat_features)#data_part에 cat_features칼럼\n",
        "    fill_na(data_part,text_features)#data_part에 text_features칼럼\n",
        "\n",
        "    X=data_part.drop(['rating_10'],axis=1)#X=rating_10을 y축 기준으로 합 삭제한 값\n",
        "    y_train=data_part['rating_10']#y_train=rating_10값\n",
        "    return X,y_train\n",
        "  X_learn,y_learn=preprocess_data_part(learn)#learn데이터 결정\n",
        "  X_test,y_test=preprocess_data_part(test)#test데이터 결정\n",
        "\n",
        "  return X_learn,X_test,y_learn,y_test#X_learn,X_test,y_learn,y_test반환\n",
        "\n",
        "X_train,X_test,y_train,y_test=get_processed_rotten_tomatoes()#X_train,X_test,y_train,y_test설정\n",
        "\n",
        "def fit_catboost_on_rotten_tomatoes(X_train,X_test,y_train,y_test,catboost_params={},verbose=100):#100번 반복할때마다 알려줌\n",
        "  learn_pool=Pool(#learn_pool기본값 설정\n",
        "      X_train,\n",
        "      y_train,\n",
        "      cat_features=cat_features,\n",
        "      text_features=text_features,\n",
        "      feature_names=list(X_train)\n",
        "  )\n",
        "  test_pool=Pool(#test_pool기본값 설정\n",
        "      X_test,\n",
        "      y_test,\n",
        "      cat_features=cat_features,\n",
        "      text_features=text_features,\n",
        "      feature_names=list(X_train)\n",
        "  )\n",
        "  catboost_default_params={#학습회수,경사하강법을 위한 learning_rate값,성능 평가 방법,#장치유형 설정\n",
        "      'iterations':1000,\n",
        "      'learning_rate':0.03,\n",
        "      'eval_metric':'Accuracy',\n",
        "      'task_type':'GPU',\n",
        " \n",
        "  }\n",
        "  catboost_default_params.update(catboost_params)#catboost_default_params을catboost_params로 설정\n",
        "\n",
        "  model=CatBoostClassifier(**catboost_default_params)#catboost분류계산\n",
        "  model.fit(learn_pool,eval_set=test_pool,verbose=verbose)#test_pool을 검증세트로 지정,learn_pool을 이 검증세트로 평가\n",
        "\n",
        "  return model#model값 반환\n",
        "fit_catboost_on_rotten_tomatoes(X_train,X_test,y_train,y_test)#X_train,X_test,y_train,y_test로 예측 계산 값 출력\n"
      ],
      "execution_count": 1,
      "outputs": [
        {
          "output_type": "stream",
          "text": [
            "Collecting catboost\n",
            "\u001b[?25l  Downloading https://files.pythonhosted.org/packages/47/80/8e9c57ec32dfed6ba2922bc5c96462cbf8596ce1a6f5de532ad1e43e53fe/catboost-0.25.1-cp37-none-manylinux1_x86_64.whl (67.3MB)\n",
            "\u001b[K     |████████████████████████████████| 67.3MB 46kB/s \n",
            "\u001b[?25hRequirement already satisfied: six in /usr/local/lib/python3.7/dist-packages (from catboost) (1.15.0)\n",
            "Requirement already satisfied: matplotlib in /usr/local/lib/python3.7/dist-packages (from catboost) (3.2.2)\n",
            "Requirement already satisfied: pandas>=0.24.0 in /usr/local/lib/python3.7/dist-packages (from catboost) (1.1.5)\n",
            "Requirement already satisfied: plotly in /usr/local/lib/python3.7/dist-packages (from catboost) (4.4.1)\n",
            "Requirement already satisfied: numpy>=1.16.0 in /usr/local/lib/python3.7/dist-packages (from catboost) (1.19.5)\n",
            "Requirement already satisfied: graphviz in /usr/local/lib/python3.7/dist-packages (from catboost) (0.10.1)\n",
            "Requirement already satisfied: scipy in /usr/local/lib/python3.7/dist-packages (from catboost) (1.4.1)\n",
            "Requirement already satisfied: kiwisolver>=1.0.1 in /usr/local/lib/python3.7/dist-packages (from matplotlib->catboost) (1.3.1)\n",
            "Requirement already satisfied: pyparsing!=2.0.4,!=2.1.2,!=2.1.6,>=2.0.1 in /usr/local/lib/python3.7/dist-packages (from matplotlib->catboost) (2.4.7)\n",
            "Requirement already satisfied: cycler>=0.10 in /usr/local/lib/python3.7/dist-packages (from matplotlib->catboost) (0.10.0)\n",
            "Requirement already satisfied: python-dateutil>=2.1 in /usr/local/lib/python3.7/dist-packages (from matplotlib->catboost) (2.8.1)\n",
            "Requirement already satisfied: pytz>=2017.2 in /usr/local/lib/python3.7/dist-packages (from pandas>=0.24.0->catboost) (2018.9)\n",
            "Requirement already satisfied: retrying>=1.3.3 in /usr/local/lib/python3.7/dist-packages (from plotly->catboost) (1.3.3)\n",
            "Installing collected packages: catboost\n",
            "Successfully installed catboost-0.25.1\n",
            "Feature names=\n",
            "id, synopsis, rating_MPAA, genre, director, writer, theater_date, dvd_date, box_office, runtime, studio, dvd_date_int, theater_date_int, review, rating, fresh, critic, top_critic, publisher, date, date_int, rating_10\n",
            "0:\tlearn: 0.3858217\ttest: 0.3980927\tbest: 0.3980927 (0)\ttotal: 106ms\tremaining: 1m 46s\n",
            "100:\tlearn: 0.4458303\ttest: 0.4559237\tbest: 0.4561682 (99)\ttotal: 5.21s\tremaining: 46.4s\n",
            "200:\tlearn: 0.4561323\ttest: 0.4605698\tbest: 0.4610588 (198)\ttotal: 9.44s\tremaining: 37.5s\n",
            "300:\tlearn: 0.4639276\ttest: 0.4655826\tbest: 0.4657049 (298)\ttotal: 13.2s\tremaining: 30.7s\n",
            "400:\tlearn: 0.4710504\ttest: 0.4675388\tbest: 0.4679056 (388)\ttotal: 17.1s\tremaining: 25.6s\n",
            "500:\tlearn: 0.4785094\ttest: 0.4664384\tbest: 0.4686392 (408)\ttotal: 21.1s\tremaining: 21.1s\n",
            "600:\tlearn: 0.4843788\ttest: 0.4681501\tbest: 0.4686392 (408)\ttotal: 25s\tremaining: 16.6s\n",
            "700:\tlearn: 0.4900342\ttest: 0.4677833\tbest: 0.4690060 (666)\ttotal: 28.9s\tremaining: 12.3s\n",
            "800:\tlearn: 0.4949865\ttest: 0.4687615\tbest: 0.4692505 (770)\ttotal: 32.8s\tremaining: 8.14s\n",
            "900:\tlearn: 0.4992969\ttest: 0.4681501\tbest: 0.4694950 (880)\ttotal: 36.7s\tremaining: 4.03s\n",
            "999:\tlearn: 0.5040352\ttest: 0.4692505\tbest: 0.4701064 (981)\ttotal: 40.5s\tremaining: 0us\n",
            "bestTest = 0.47010637\n",
            "bestIteration = 981\n",
            "Shrink model to first 982 iterations.\n"
          ],
          "name": "stdout"
        },
        {
          "output_type": "execute_result",
          "data": {
            "text/plain": [
              "<catboost.core.CatBoostClassifier at 0x7f6bb36e0ed0>"
            ]
          },
          "metadata": {
            "tags": []
          },
          "execution_count": 1
        }
      ]
    }
  ]
}