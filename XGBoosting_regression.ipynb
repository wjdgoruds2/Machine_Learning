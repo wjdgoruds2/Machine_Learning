{
  "nbformat": 4,
  "nbformat_minor": 0,
  "metadata": {
    "colab": {
      "name": "Untitled3.ipynb",
      "provenance": [],
      "authorship_tag": "ABX9TyPggp4QE9eOwIlHUjkiCSke",
      "include_colab_link": true
    },
    "kernelspec": {
      "name": "python3",
      "display_name": "Python 3"
    }
  },
  "cells": [
    {
      "cell_type": "markdown",
      "metadata": {
        "id": "view-in-github",
        "colab_type": "text"
      },
      "source": [
        "<a href=\"https://colab.research.google.com/github/wjdgoruds2/Machine_Learning/blob/main/XGBoosting_regression.ipynb\" target=\"_parent\"><img src=\"https://colab.research.google.com/assets/colab-badge.svg\" alt=\"Open In Colab\"/></a>"
      ]
    },
    {
      "cell_type": "code",
      "metadata": {
        "colab": {
          "base_uri": "https://localhost:8080/"
        },
        "id": "sD1AQw1RtOv9",
        "outputId": "f5e1f20c-af32-4036-81f4-c04094f94a68"
      },
      "source": [
        "import numpy as np\r\n",
        "import pandas as pd\r\n",
        "from sklearn.datasets import load_boston\r\n",
        "from sklearn.metrics import mean_squared_error\r\n",
        "from sklearn.model_selection import train_test_split\r\n",
        "import xgboost as xgb\r\n",
        "\r\n",
        "boston=load_boston()\r\n",
        "data=pd.DataFrame(boston.data)\r\n",
        "data.columns=boston.feature_names\r\n",
        "data['PRICE']=boston.target\r\n",
        "print(data.head())\r\n",
        "X,y=data.iloc[:,:-1],data.iloc[:,-1]\r\n",
        "\r\n",
        "X_train,X_test,y_train,y_test=train_test_split(X,y,test_size=0.2,random_state=123)\r\n",
        "xg_reg=xgb.XGBRegressor(bojective='reg:squarederror',colsample_bytree=0.3,learning_rate=0.1,max_depth=5,alpha=10,n_estimators=10)\r\n",
        "xg_reg.fit(X_train,y_train)\r\n",
        "preds=xg_reg.predict(X_test)\r\n",
        "rmse=np.sqrt(mean_squared_error(y_test,preds))\r\n",
        "print(\"RMSE: %f\" % (rmse))"
      ],
      "execution_count": 10,
      "outputs": [
        {
          "output_type": "stream",
          "text": [
            "      CRIM    ZN  INDUS  CHAS    NOX  ...    TAX  PTRATIO       B  LSTAT  PRICE\n",
            "0  0.00632  18.0   2.31   0.0  0.538  ...  296.0     15.3  396.90   4.98   24.0\n",
            "1  0.02731   0.0   7.07   0.0  0.469  ...  242.0     17.8  396.90   9.14   21.6\n",
            "2  0.02729   0.0   7.07   0.0  0.469  ...  242.0     17.8  392.83   4.03   34.7\n",
            "3  0.03237   0.0   2.18   0.0  0.458  ...  222.0     18.7  394.63   2.94   33.4\n",
            "4  0.06905   0.0   2.18   0.0  0.458  ...  222.0     18.7  396.90   5.33   36.2\n",
            "\n",
            "[5 rows x 14 columns]\n",
            "[06:55:56] WARNING: /workspace/src/objective/regression_obj.cu:152: reg:linear is now deprecated in favor of reg:squarederror.\n",
            "RMSE: 10.449300\n"
          ],
          "name": "stdout"
        }
      ]
    },
    {
      "cell_type": "code",
      "metadata": {
        "id": "xBYO87Qq1jG7"
      },
      "source": [
        ""
      ],
      "execution_count": null,
      "outputs": []
    }
  ]
}