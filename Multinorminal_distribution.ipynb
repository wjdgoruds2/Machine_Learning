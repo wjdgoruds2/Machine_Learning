{
  "nbformat": 4,
  "nbformat_minor": 0,
  "metadata": {
    "colab": {
      "name": "Untitled3.ipynb",
      "provenance": [],
      "collapsed_sections": [],
      "authorship_tag": "ABX9TyN/qNEMDm7iknk4eMEBMGqW",
      "include_colab_link": true
    },
    "kernelspec": {
      "name": "python3",
      "display_name": "Python 3"
    }
  },
  "cells": [
    {
      "cell_type": "markdown",
      "metadata": {
        "id": "view-in-github",
        "colab_type": "text"
      },
      "source": [
        "<a href=\"https://colab.research.google.com/github/wjdgoruds2/Machine_Learning/blob/main/Multinorminal_distribution.ipynb\" target=\"_parent\"><img src=\"https://colab.research.google.com/assets/colab-badge.svg\" alt=\"Open In Colab\"/></a>"
      ]
    },
    {
      "cell_type": "code",
      "metadata": {
        "colab": {
          "base_uri": "https://localhost:8080/"
        },
        "id": "sD1AQw1RtOv9",
        "outputId": "79e1bb18-9a59-4d38-90ad-6f2a54b2665d"
      },
      "source": [
        "from scipy.stats import multinomial #다항 분포 확률\n",
        "\n",
        "p=[1.0/5.0,3.0/5.0,1.0/5.0] #각 확률 분포 설정\n",
        "k=100 #전체 개수\n",
        "\n",
        "dist=multinomial(k,p) #다항 분포 \n",
        "cases=[20,50,30] #경우 3가지\n",
        "pr=dist.pmf(cases) #3가지의 경우 확률 계산\n",
        "\n",
        "print('Case=%s, Probability: %.3f%%' % (cases,pr*100))"
      ],
      "execution_count": 35,
      "outputs": [
        {
          "output_type": "stream",
          "text": [
            "Case=[20, 50, 30], Probability: 0.043%\n"
          ],
          "name": "stdout"
        }
      ]
    },
    {
      "cell_type": "code",
      "metadata": {
        "id": "xBYO87Qq1jG7"
      },
      "source": [
        ""
      ],
      "execution_count": null,
      "outputs": []
    }
  ]
}