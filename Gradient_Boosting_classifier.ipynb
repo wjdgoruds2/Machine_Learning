{
  "nbformat": 4,
  "nbformat_minor": 0,
  "metadata": {
    "colab": {
      "name": "Untitled3.ipynb",
      "provenance": [],
      "authorship_tag": "ABX9TyMZs7x1AwFURkjoTkcSUJvr",
      "include_colab_link": true
    },
    "kernelspec": {
      "name": "python3",
      "display_name": "Python 3"
    }
  },
  "cells": [
    {
      "cell_type": "markdown",
      "metadata": {
        "id": "view-in-github",
        "colab_type": "text"
      },
      "source": [
        "<a href=\"https://colab.research.google.com/github/wjdgoruds2/Machine_Learning/blob/main/Gradient_Boosting_classifier.ipynb\" target=\"_parent\"><img src=\"https://colab.research.google.com/assets/colab-badge.svg\" alt=\"Open In Colab\"/></a>"
      ]
    },
    {
      "cell_type": "code",
      "metadata": {
        "colab": {
          "base_uri": "https://localhost:8080/"
        },
        "id": "sD1AQw1RtOv9",
        "outputId": "916ac1fe-d78f-42ea-85f6-652ed91289fe"
      },
      "source": [
        "from sklearn.datasets import make_hastie_10_2\r\n",
        "from sklearn.ensemble import GradientBoostingClassifier\r\n",
        "import matplotlib.pyplot as plt\r\n",
        "\r\n",
        "X,y=make_hastie_10_2(random_state=0)\r\n",
        "X_train,X_test=X[:2000],X[2000:]\r\n",
        "y_train,y_test=y[:2000],y[2000:]\r\n",
        "print(X.shape,y.shape)\r\n",
        "print(X[0:5,:])\r\n",
        "print(y[0:5])\r\n",
        "\r\n",
        "clf=GradientBoostingClassifier(n_estimators=100,learning_rate=0.1,max_depth=1,random_state=0)\r\n",
        "clf.fit(X_train,y_train)\r\n",
        "print(\"Accuarcy score (training):{0:.3f}\".format(clf.score(X_train,y_train)))\r\n",
        "print(\"Accuarcy score (testing):{0:.3f}\".format(clf.score(X_test,y_test)))"
      ],
      "execution_count": 9,
      "outputs": [
        {
          "output_type": "stream",
          "text": [
            "(12000, 10) (12000,)\n",
            "[[ 1.76405235  0.40015721  0.97873798  2.2408932   1.86755799 -0.97727788\n",
            "   0.95008842 -0.15135721 -0.10321885  0.4105985 ]\n",
            " [ 0.14404357  1.45427351  0.76103773  0.12167502  0.44386323  0.33367433\n",
            "   1.49407907 -0.20515826  0.3130677  -0.85409574]\n",
            " [-2.55298982  0.6536186   0.8644362  -0.74216502  2.26975462 -1.45436567\n",
            "   0.04575852 -0.18718385  1.53277921  1.46935877]\n",
            " [ 0.15494743  0.37816252 -0.88778575 -1.98079647 -0.34791215  0.15634897\n",
            "   1.23029068  1.20237985 -0.38732682 -0.30230275]\n",
            " [-1.04855297 -1.42001794 -1.70627019  1.9507754  -0.50965218 -0.4380743\n",
            "  -1.25279536  0.77749036 -1.61389785 -0.21274028]]\n",
            "[ 1. -1.  1. -1.  1.]\n",
            "Accuarcy score (training):0.879\n",
            "Accuarcy score (testing):0.819\n"
          ],
          "name": "stdout"
        }
      ]
    }
  ]
}